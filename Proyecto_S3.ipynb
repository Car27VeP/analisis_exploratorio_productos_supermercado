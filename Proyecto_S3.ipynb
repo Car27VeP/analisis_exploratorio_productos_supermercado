{
 "cells": [
  {
   "cell_type": "markdown",
   "id": "940982de",
   "metadata": {},
   "source": [
    "# ¡Hola Jose!\n",
    "\n",
    "Mi nombre es Ezequiel Ferrario, soy code reviewer en Tripleten y tengo el agrado de revisar el proyecto que entregaste.\n",
    "\n",
    "Para simular la dinámica de un ambiente de trabajo, si veo algún error, en primer instancia solo los señalaré, dándote la oportunidad de encontrarlos y corregirlos por tu cuenta. En un trabajo real, el líder de tu equipo hará una dinámica similar. En caso de que no puedas resolver la tarea, te daré una información más precisa en la próxima revisión.\n",
    "\n",
    "Encontrarás mis comentarios más abajo - **por favor, no los muevas, no los modifiques ni los borres**.\n",
    "\n",
    "¿Cómo lo voy a hacer? Voy a leer detenidamente cada una de las implementaciones que has llevado a cabo para cumplir con lo solicitado. Verás los comentarios de esta forma:\n",
    "\n",
    "<div class=\"alert alert-block alert-success\">\n",
    "<b>Comentario del revisor</b> <a class=\"tocSkip\"></a>\n",
    "\n",
    "Si todo está perfecto.\n",
    "</div>\n",
    "\n",
    "\n",
    "<div class=\"alert alert-block alert-warning\">\n",
    "<b>Comentario del revisor</b> <a class=\"tocSkip\"></a>\n",
    "\n",
    "Si tu código está bien pero se puede mejorar o hay algún detalle que le hace falta. Se aceptan uno o dos comentarios de este tipo en el borrador, pero si hay más, deberá hacer las correcciones. Es como una tarea de prueba al solicitar un trabajo: muchos pequeños errores pueden hacer que un candidato sea rechazado.\n",
    "</div>\n",
    "\n",
    "<div class=\"alert alert-block alert-danger\">\n",
    "\n",
    "<b>Comentario del revisor</b> <a class=\"tocSkip\"></a>\n",
    "\n",
    "Si de pronto hace falta algo o existe algún problema con tu código o conclusiones.\n",
    "</div>\n",
    "\n",
    "Puedes responderme de esta forma\n",
    "\n",
    "<div class=\"alert alert-block alert-info\">\n",
    "<b>Respuesta del estudiante</b> <a class=\"tocSkip\"></a>\n",
    "\n",
    "Hola, muchas gracias por tus comentarios y la revisión.\n",
    "</div>\n",
    "\n",
    "¡Empecemos!"
   ]
  },
  {
   "cell_type": "markdown",
   "id": "a9cb062f",
   "metadata": {},
   "source": [
    "<div class=\"alert alert-block alert-danger\">\n",
    "<b>Comentario general #1</b> <a class=\"tocSkip\"></a>\n",
    "\n",
    "Jose, en este caos hiciste un muy buen trabajo.\n",
    "\n",
    "La primer parte esta muy bien realizada donde abarcaste muy bien todos los puntos.\n",
    "\n",
    "Asi, te manejaste muy bien tanto a nivel codigo como analisis y exploraste los puntos necesarios de este proyecto.\n",
    "\n",
    "Entrado a los ejercicios de los puntos a b y c, siendo el primero que esta excelente. Los otros solo presentan detalles para que esten muy bien.\n",
    "\n",
    "Dicho esto, quedo a la espera de las correcciones.\n",
    "\n",
    "Saludos.</div>\n",
    "\n",
    "<div class=\"alert alert-block alert-danger\">\n",
    "\n",
    "<b>Comentario general #2</b> <a class=\"tocSkip\"></a>\n",
    "\n",
    "José, hiciste un muy buen trabajo con las correcciones y me gusto mucho como manejaste las frecuencias.\n",
    "\n",
    "Asi, restan muy pocos puntos para corregir para que este trabajo quede excelente.\n",
    "\n",
    "Te pido una disculpas ya que en uno de los puntos B te dije que estaba bien realizado el groupby cuando esto no era asi. Si bien no era la unica correccion que te queda hacer, lei mal la variable utilizada y era eso lo que hacia que tu distribucion cambiara.\n",
    "\n",
    "A su vez te deje una guia de lo que se busca en la parte de los minimos.\n",
    "\n",
    "Restan detalles, quedo a la espera de tus correcciones.\n",
    "\n",
    "Saludos.</div>\n",
    "\n",
    "<div class=\"alert alert-block alert-success\">\n",
    "\n",
    "<b>Comentario general #3</b> <a class=\"tocSkip\"></a>\n",
    "\n",
    "Jose, corregiste todos los comentarios que restaban incluso aquellos que solo eran consejos.\n",
    "    \n",
    "Me gusto mucho como manejaste todo y como finalizas este gran trabajo.\n",
    "    \n",
    "En esta ultima iteracion dejaste completo este proyecto que era bueno y ahora es aun mejor.\n",
    "    \n",
    "Dicho esto, el mismo queda **aprobado**.\n",
    "    \n",
    " Exitos en lo que viene, saludos.\n",
    "</div>"
   ]
  },
  {
   "cell_type": "markdown",
   "id": "3Xg_RQfnafXz",
   "metadata": {
    "id": "3Xg_RQfnafXz"
   },
   "source": [
    "# ¡Llena ese carrito!"
   ]
  },
  {
   "cell_type": "markdown",
   "id": "mhIvmmkW414q",
   "metadata": {
    "id": "mhIvmmkW414q"
   },
   "source": [
    "# Introducción\n",
    "\n",
    "Instacart es una plataforma de entregas de comestibles donde la clientela puede registrar un pedido y hacer que se lo entreguen, similar a Uber Eats y Door Dash.\n",
    "El conjunto de datos que te hemos proporcionado tiene modificaciones del original. Redujimos el tamaño del conjunto para que tus cálculos se hicieran más rápido e introdujimos valores ausentes y duplicados. Tuvimos cuidado de conservar las distribuciones de los datos originales cuando hicimos los cambios.\n",
    "\n",
    "Debes completar tres pasos. Para cada uno de ellos, escribe una breve introducción que refleje con claridad cómo pretendes resolver cada paso, y escribe párrafos explicatorios que justifiquen tus decisiones al tiempo que avanzas en tu solución.  También escribe una conclusión que resuma tus hallazgos y elecciones.\n"
   ]
  },
  {
   "cell_type": "markdown",
   "id": "3MbyzpOQZ5Or",
   "metadata": {
    "id": "3MbyzpOQZ5Or"
   },
   "source": [
    "## Diccionario de datos\n",
    "\n",
    "Hay cinco tablas en el conjunto de datos, y tendrás que usarlas todas para hacer el preprocesamiento de datos y el análisis exploratorio de datos. A continuación se muestra un diccionario de datos que enumera las columnas de cada tabla y describe los datos que contienen.\n",
    "\n",
    "- `instacart_orders.csv`: cada fila corresponde a un pedido en la aplicación Instacart.\n",
    "    - `'order_id'`: número de ID que identifica de manera única cada pedido.\n",
    "    - `'user_id'`: número de ID que identifica de manera única la cuenta de cada cliente.\n",
    "    - `'order_number'`: el número de veces que este cliente ha hecho un pedido.\n",
    "    - `'order_dow'`: día de la semana en que se hizo el pedido (0 si es domingo).\n",
    "    - `'order_hour_of_day'`: hora del día en que se hizo el pedido.\n",
    "    - `'days_since_prior_order'`: número de días transcurridos desde que este cliente hizo su pedido anterior.\n",
    "- `products.csv`: cada fila corresponde a un producto único que pueden comprar los clientes.\n",
    "    - `'product_id'`: número ID que identifica de manera única cada producto.\n",
    "    - `'product_name'`: nombre del producto.\n",
    "    - `'aisle_id'`: número ID que identifica de manera única cada categoría de pasillo de víveres.\n",
    "    - `'department_id'`: número ID que identifica de manera única cada departamento de víveres.\n",
    "- `order_products.csv`: cada fila corresponde a un artículo pedido en un pedido.\n",
    "    - `'order_id'`: número de ID que identifica de manera única cada pedido.\n",
    "    - `'product_id'`: número ID que identifica de manera única cada producto.\n",
    "    - `'add_to_cart_order'`: el orden secuencial en el que se añadió cada artículo en el carrito.\n",
    "    - `'reordered'`: 0 si el cliente nunca ha pedido este producto antes, 1 si lo ha pedido.\n",
    "- `aisles.csv`\n",
    "    - `'aisle_id'`: número ID que identifica de manera única cada categoría de pasillo de víveres.\n",
    "    - `'aisle'`: nombre del pasillo.\n",
    "- `departments.csv`\n",
    "    - `'department_id'`: número ID que identifica de manera única cada departamento de víveres.\n",
    "    - `'department'`: nombre del departamento."
   ]
  },
  {
   "cell_type": "markdown",
   "id": "n3Ha_cNSZ8lK",
   "metadata": {
    "id": "n3Ha_cNSZ8lK"
   },
   "source": [
    "# Paso 1. Descripción de los datos\n",
    "\n",
    "Lee los archivos de datos (`/datasets/instacart_orders.csv`, `/datasets/products.csv`, `/datasets/aisles.csv`, `/datasets/departments.csv` y `/datasets/order_products.csv`) con `pd.read_csv()` usando los parámetros adecuados para leer los datos correctamente. Verifica la información para cada DataFrame creado.\n"
   ]
  },
  {
   "cell_type": "markdown",
   "id": "OmlQPLlyaAfR",
   "metadata": {
    "id": "OmlQPLlyaAfR"
   },
   "source": [
    "## Plan de solución\n",
    "\n",
    "Escribe aquí tu plan de solución para el Paso 1. Descripción de los datos."
   ]
  },
  {
   "cell_type": "code",
   "execution_count": 223,
   "id": "fbf1adab",
   "metadata": {
    "id": "fbf1adab"
   },
   "outputs": [],
   "source": [
    "# importar librerías\n",
    "import pandas as pd\n",
    "import matplotlib.pyplot as plt"
   ]
  },
  {
   "cell_type": "code",
   "execution_count": 224,
   "id": "ad36396d",
   "metadata": {
    "id": "ad36396d"
   },
   "outputs": [],
   "source": [
    "# leer conjuntos de datos en los DataFrames\n",
    "instacart_orders = pd.read_csv('/datasets/instacart_orders.csv',sep=';')\n",
    "products = pd.read_csv('/datasets/products.csv',sep=';')\n",
    "aisles = pd.read_csv('/datasets/aisles.csv',sep=';')\n",
    "departments = pd.read_csv('/datasets/departments.csv',sep=';')\n",
    "order_products = pd.read_csv('/datasets/order_products.csv',sep=';')"
   ]
  },
  {
   "cell_type": "code",
   "execution_count": 225,
   "id": "ad6a1efa",
   "metadata": {
    "id": "ad6a1efa"
   },
   "outputs": [
    {
     "name": "stdout",
     "output_type": "stream",
     "text": [
      "<class 'pandas.core.frame.DataFrame'>\n",
      "RangeIndex: 478967 entries, 0 to 478966\n",
      "Data columns (total 6 columns):\n",
      " #   Column                  Non-Null Count   Dtype  \n",
      "---  ------                  --------------   -----  \n",
      " 0   order_id                478967 non-null  int64  \n",
      " 1   user_id                 478967 non-null  int64  \n",
      " 2   order_number            478967 non-null  int64  \n",
      " 3   order_dow               478967 non-null  int64  \n",
      " 4   order_hour_of_day       478967 non-null  int64  \n",
      " 5   days_since_prior_order  450148 non-null  float64\n",
      "dtypes: float64(1), int64(5)\n",
      "memory usage: 21.9 MB\n"
     ]
    }
   ],
   "source": [
    "# mostrar información del DataFrame\n",
    "instacart_orders.info()"
   ]
  },
  {
   "cell_type": "code",
   "execution_count": 226,
   "id": "46cc0e59",
   "metadata": {},
   "outputs": [
    {
     "data": {
      "text/html": [
       "<div>\n",
       "<style scoped>\n",
       "    .dataframe tbody tr th:only-of-type {\n",
       "        vertical-align: middle;\n",
       "    }\n",
       "\n",
       "    .dataframe tbody tr th {\n",
       "        vertical-align: top;\n",
       "    }\n",
       "\n",
       "    .dataframe thead th {\n",
       "        text-align: right;\n",
       "    }\n",
       "</style>\n",
       "<table border=\"1\" class=\"dataframe\">\n",
       "  <thead>\n",
       "    <tr style=\"text-align: right;\">\n",
       "      <th></th>\n",
       "      <th>order_id</th>\n",
       "      <th>user_id</th>\n",
       "      <th>order_number</th>\n",
       "      <th>order_dow</th>\n",
       "      <th>order_hour_of_day</th>\n",
       "      <th>days_since_prior_order</th>\n",
       "    </tr>\n",
       "  </thead>\n",
       "  <tbody>\n",
       "    <tr>\n",
       "      <th>0</th>\n",
       "      <td>1515936</td>\n",
       "      <td>183418</td>\n",
       "      <td>11</td>\n",
       "      <td>6</td>\n",
       "      <td>13</td>\n",
       "      <td>30.0</td>\n",
       "    </tr>\n",
       "    <tr>\n",
       "      <th>1</th>\n",
       "      <td>1690866</td>\n",
       "      <td>163593</td>\n",
       "      <td>5</td>\n",
       "      <td>5</td>\n",
       "      <td>12</td>\n",
       "      <td>9.0</td>\n",
       "    </tr>\n",
       "    <tr>\n",
       "      <th>2</th>\n",
       "      <td>1454967</td>\n",
       "      <td>39980</td>\n",
       "      <td>4</td>\n",
       "      <td>5</td>\n",
       "      <td>19</td>\n",
       "      <td>2.0</td>\n",
       "    </tr>\n",
       "    <tr>\n",
       "      <th>3</th>\n",
       "      <td>1768857</td>\n",
       "      <td>82516</td>\n",
       "      <td>56</td>\n",
       "      <td>0</td>\n",
       "      <td>20</td>\n",
       "      <td>10.0</td>\n",
       "    </tr>\n",
       "    <tr>\n",
       "      <th>4</th>\n",
       "      <td>3007858</td>\n",
       "      <td>196724</td>\n",
       "      <td>2</td>\n",
       "      <td>4</td>\n",
       "      <td>12</td>\n",
       "      <td>17.0</td>\n",
       "    </tr>\n",
       "  </tbody>\n",
       "</table>\n",
       "</div>"
      ],
      "text/plain": [
       "   order_id  user_id  order_number  order_dow  order_hour_of_day  \\\n",
       "0   1515936   183418            11          6                 13   \n",
       "1   1690866   163593             5          5                 12   \n",
       "2   1454967    39980             4          5                 19   \n",
       "3   1768857    82516            56          0                 20   \n",
       "4   3007858   196724             2          4                 12   \n",
       "\n",
       "   days_since_prior_order  \n",
       "0                    30.0  \n",
       "1                     9.0  \n",
       "2                     2.0  \n",
       "3                    10.0  \n",
       "4                    17.0  "
      ]
     },
     "execution_count": 226,
     "metadata": {},
     "output_type": "execute_result"
    }
   ],
   "source": [
    "instacart_orders.head()"
   ]
  },
  {
   "cell_type": "code",
   "execution_count": 227,
   "id": "5130e05e",
   "metadata": {
    "id": "5130e05e"
   },
   "outputs": [
    {
     "name": "stdout",
     "output_type": "stream",
     "text": [
      "<class 'pandas.core.frame.DataFrame'>\n",
      "RangeIndex: 49694 entries, 0 to 49693\n",
      "Data columns (total 4 columns):\n",
      " #   Column         Non-Null Count  Dtype \n",
      "---  ------         --------------  ----- \n",
      " 0   product_id     49694 non-null  int64 \n",
      " 1   product_name   48436 non-null  object\n",
      " 2   aisle_id       49694 non-null  int64 \n",
      " 3   department_id  49694 non-null  int64 \n",
      "dtypes: int64(3), object(1)\n",
      "memory usage: 1.5+ MB\n"
     ]
    }
   ],
   "source": [
    "# mostrar información del DataFrame\n",
    "products.info()"
   ]
  },
  {
   "cell_type": "code",
   "execution_count": 228,
   "id": "88a44e8f",
   "metadata": {},
   "outputs": [
    {
     "data": {
      "text/html": [
       "<div>\n",
       "<style scoped>\n",
       "    .dataframe tbody tr th:only-of-type {\n",
       "        vertical-align: middle;\n",
       "    }\n",
       "\n",
       "    .dataframe tbody tr th {\n",
       "        vertical-align: top;\n",
       "    }\n",
       "\n",
       "    .dataframe thead th {\n",
       "        text-align: right;\n",
       "    }\n",
       "</style>\n",
       "<table border=\"1\" class=\"dataframe\">\n",
       "  <thead>\n",
       "    <tr style=\"text-align: right;\">\n",
       "      <th></th>\n",
       "      <th>product_id</th>\n",
       "      <th>product_name</th>\n",
       "      <th>aisle_id</th>\n",
       "      <th>department_id</th>\n",
       "    </tr>\n",
       "  </thead>\n",
       "  <tbody>\n",
       "    <tr>\n",
       "      <th>0</th>\n",
       "      <td>1</td>\n",
       "      <td>Chocolate Sandwich Cookies</td>\n",
       "      <td>61</td>\n",
       "      <td>19</td>\n",
       "    </tr>\n",
       "    <tr>\n",
       "      <th>1</th>\n",
       "      <td>2</td>\n",
       "      <td>All-Seasons Salt</td>\n",
       "      <td>104</td>\n",
       "      <td>13</td>\n",
       "    </tr>\n",
       "    <tr>\n",
       "      <th>2</th>\n",
       "      <td>3</td>\n",
       "      <td>Robust Golden Unsweetened Oolong Tea</td>\n",
       "      <td>94</td>\n",
       "      <td>7</td>\n",
       "    </tr>\n",
       "    <tr>\n",
       "      <th>3</th>\n",
       "      <td>4</td>\n",
       "      <td>Smart Ones Classic Favorites Mini Rigatoni Wit...</td>\n",
       "      <td>38</td>\n",
       "      <td>1</td>\n",
       "    </tr>\n",
       "    <tr>\n",
       "      <th>4</th>\n",
       "      <td>5</td>\n",
       "      <td>Green Chile Anytime Sauce</td>\n",
       "      <td>5</td>\n",
       "      <td>13</td>\n",
       "    </tr>\n",
       "  </tbody>\n",
       "</table>\n",
       "</div>"
      ],
      "text/plain": [
       "   product_id                                       product_name  aisle_id  \\\n",
       "0           1                         Chocolate Sandwich Cookies        61   \n",
       "1           2                                   All-Seasons Salt       104   \n",
       "2           3               Robust Golden Unsweetened Oolong Tea        94   \n",
       "3           4  Smart Ones Classic Favorites Mini Rigatoni Wit...        38   \n",
       "4           5                          Green Chile Anytime Sauce         5   \n",
       "\n",
       "   department_id  \n",
       "0             19  \n",
       "1             13  \n",
       "2              7  \n",
       "3              1  \n",
       "4             13  "
      ]
     },
     "execution_count": 228,
     "metadata": {},
     "output_type": "execute_result"
    }
   ],
   "source": [
    "products.head()"
   ]
  },
  {
   "cell_type": "code",
   "execution_count": 229,
   "id": "d8370c05",
   "metadata": {
    "id": "d8370c05"
   },
   "outputs": [
    {
     "name": "stdout",
     "output_type": "stream",
     "text": [
      "<class 'pandas.core.frame.DataFrame'>\n",
      "RangeIndex: 134 entries, 0 to 133\n",
      "Data columns (total 2 columns):\n",
      " #   Column    Non-Null Count  Dtype \n",
      "---  ------    --------------  ----- \n",
      " 0   aisle_id  134 non-null    int64 \n",
      " 1   aisle     134 non-null    object\n",
      "dtypes: int64(1), object(1)\n",
      "memory usage: 2.2+ KB\n"
     ]
    }
   ],
   "source": [
    "# mostrar información del DataFrame\n",
    "aisles.info()"
   ]
  },
  {
   "cell_type": "code",
   "execution_count": 230,
   "id": "68254e84",
   "metadata": {},
   "outputs": [
    {
     "data": {
      "text/html": [
       "<div>\n",
       "<style scoped>\n",
       "    .dataframe tbody tr th:only-of-type {\n",
       "        vertical-align: middle;\n",
       "    }\n",
       "\n",
       "    .dataframe tbody tr th {\n",
       "        vertical-align: top;\n",
       "    }\n",
       "\n",
       "    .dataframe thead th {\n",
       "        text-align: right;\n",
       "    }\n",
       "</style>\n",
       "<table border=\"1\" class=\"dataframe\">\n",
       "  <thead>\n",
       "    <tr style=\"text-align: right;\">\n",
       "      <th></th>\n",
       "      <th>aisle_id</th>\n",
       "      <th>aisle</th>\n",
       "    </tr>\n",
       "  </thead>\n",
       "  <tbody>\n",
       "    <tr>\n",
       "      <th>0</th>\n",
       "      <td>1</td>\n",
       "      <td>prepared soups salads</td>\n",
       "    </tr>\n",
       "    <tr>\n",
       "      <th>1</th>\n",
       "      <td>2</td>\n",
       "      <td>specialty cheeses</td>\n",
       "    </tr>\n",
       "    <tr>\n",
       "      <th>2</th>\n",
       "      <td>3</td>\n",
       "      <td>energy granola bars</td>\n",
       "    </tr>\n",
       "    <tr>\n",
       "      <th>3</th>\n",
       "      <td>4</td>\n",
       "      <td>instant foods</td>\n",
       "    </tr>\n",
       "    <tr>\n",
       "      <th>4</th>\n",
       "      <td>5</td>\n",
       "      <td>marinades meat preparation</td>\n",
       "    </tr>\n",
       "  </tbody>\n",
       "</table>\n",
       "</div>"
      ],
      "text/plain": [
       "   aisle_id                       aisle\n",
       "0         1       prepared soups salads\n",
       "1         2           specialty cheeses\n",
       "2         3         energy granola bars\n",
       "3         4               instant foods\n",
       "4         5  marinades meat preparation"
      ]
     },
     "execution_count": 230,
     "metadata": {},
     "output_type": "execute_result"
    }
   ],
   "source": [
    "aisles.head()"
   ]
  },
  {
   "cell_type": "code",
   "execution_count": 231,
   "id": "59e2090f",
   "metadata": {
    "id": "59e2090f"
   },
   "outputs": [
    {
     "name": "stdout",
     "output_type": "stream",
     "text": [
      "<class 'pandas.core.frame.DataFrame'>\n",
      "RangeIndex: 21 entries, 0 to 20\n",
      "Data columns (total 2 columns):\n",
      " #   Column         Non-Null Count  Dtype \n",
      "---  ------         --------------  ----- \n",
      " 0   department_id  21 non-null     int64 \n",
      " 1   department     21 non-null     object\n",
      "dtypes: int64(1), object(1)\n",
      "memory usage: 464.0+ bytes\n"
     ]
    }
   ],
   "source": [
    "# mostrar información del DataFrame\n",
    "departments.info()"
   ]
  },
  {
   "cell_type": "code",
   "execution_count": 232,
   "id": "2aa9b1da",
   "metadata": {},
   "outputs": [
    {
     "data": {
      "text/html": [
       "<div>\n",
       "<style scoped>\n",
       "    .dataframe tbody tr th:only-of-type {\n",
       "        vertical-align: middle;\n",
       "    }\n",
       "\n",
       "    .dataframe tbody tr th {\n",
       "        vertical-align: top;\n",
       "    }\n",
       "\n",
       "    .dataframe thead th {\n",
       "        text-align: right;\n",
       "    }\n",
       "</style>\n",
       "<table border=\"1\" class=\"dataframe\">\n",
       "  <thead>\n",
       "    <tr style=\"text-align: right;\">\n",
       "      <th></th>\n",
       "      <th>department_id</th>\n",
       "      <th>department</th>\n",
       "    </tr>\n",
       "  </thead>\n",
       "  <tbody>\n",
       "    <tr>\n",
       "      <th>0</th>\n",
       "      <td>1</td>\n",
       "      <td>frozen</td>\n",
       "    </tr>\n",
       "    <tr>\n",
       "      <th>1</th>\n",
       "      <td>2</td>\n",
       "      <td>other</td>\n",
       "    </tr>\n",
       "    <tr>\n",
       "      <th>2</th>\n",
       "      <td>3</td>\n",
       "      <td>bakery</td>\n",
       "    </tr>\n",
       "    <tr>\n",
       "      <th>3</th>\n",
       "      <td>4</td>\n",
       "      <td>produce</td>\n",
       "    </tr>\n",
       "    <tr>\n",
       "      <th>4</th>\n",
       "      <td>5</td>\n",
       "      <td>alcohol</td>\n",
       "    </tr>\n",
       "  </tbody>\n",
       "</table>\n",
       "</div>"
      ],
      "text/plain": [
       "   department_id department\n",
       "0              1     frozen\n",
       "1              2      other\n",
       "2              3     bakery\n",
       "3              4    produce\n",
       "4              5    alcohol"
      ]
     },
     "execution_count": 232,
     "metadata": {},
     "output_type": "execute_result"
    }
   ],
   "source": [
    "departments.head()"
   ]
  },
  {
   "cell_type": "code",
   "execution_count": 233,
   "id": "6fc81694",
   "metadata": {
    "id": "6fc81694"
   },
   "outputs": [
    {
     "name": "stdout",
     "output_type": "stream",
     "text": [
      "<class 'pandas.core.frame.DataFrame'>\n",
      "RangeIndex: 4545007 entries, 0 to 4545006\n",
      "Data columns (total 4 columns):\n",
      " #   Column             Non-Null Count    Dtype  \n",
      "---  ------             --------------    -----  \n",
      " 0   order_id           4545007 non-null  int64  \n",
      " 1   product_id         4545007 non-null  int64  \n",
      " 2   add_to_cart_order  4544171 non-null  float64\n",
      " 3   reordered          4545007 non-null  int64  \n",
      "dtypes: float64(1), int64(3)\n",
      "memory usage: 138.7 MB\n"
     ]
    }
   ],
   "source": [
    "# mostrar información del DataFrame\n",
    "order_products.info(show_counts=True)"
   ]
  },
  {
   "cell_type": "code",
   "execution_count": 234,
   "id": "74233bdc",
   "metadata": {},
   "outputs": [
    {
     "data": {
      "text/html": [
       "<div>\n",
       "<style scoped>\n",
       "    .dataframe tbody tr th:only-of-type {\n",
       "        vertical-align: middle;\n",
       "    }\n",
       "\n",
       "    .dataframe tbody tr th {\n",
       "        vertical-align: top;\n",
       "    }\n",
       "\n",
       "    .dataframe thead th {\n",
       "        text-align: right;\n",
       "    }\n",
       "</style>\n",
       "<table border=\"1\" class=\"dataframe\">\n",
       "  <thead>\n",
       "    <tr style=\"text-align: right;\">\n",
       "      <th></th>\n",
       "      <th>order_id</th>\n",
       "      <th>product_id</th>\n",
       "      <th>add_to_cart_order</th>\n",
       "      <th>reordered</th>\n",
       "    </tr>\n",
       "  </thead>\n",
       "  <tbody>\n",
       "    <tr>\n",
       "      <th>0</th>\n",
       "      <td>2141543</td>\n",
       "      <td>11440</td>\n",
       "      <td>17.0</td>\n",
       "      <td>0</td>\n",
       "    </tr>\n",
       "    <tr>\n",
       "      <th>1</th>\n",
       "      <td>567889</td>\n",
       "      <td>1560</td>\n",
       "      <td>1.0</td>\n",
       "      <td>1</td>\n",
       "    </tr>\n",
       "    <tr>\n",
       "      <th>2</th>\n",
       "      <td>2261212</td>\n",
       "      <td>26683</td>\n",
       "      <td>1.0</td>\n",
       "      <td>1</td>\n",
       "    </tr>\n",
       "    <tr>\n",
       "      <th>3</th>\n",
       "      <td>491251</td>\n",
       "      <td>8670</td>\n",
       "      <td>35.0</td>\n",
       "      <td>1</td>\n",
       "    </tr>\n",
       "    <tr>\n",
       "      <th>4</th>\n",
       "      <td>2571142</td>\n",
       "      <td>1940</td>\n",
       "      <td>5.0</td>\n",
       "      <td>1</td>\n",
       "    </tr>\n",
       "  </tbody>\n",
       "</table>\n",
       "</div>"
      ],
      "text/plain": [
       "   order_id  product_id  add_to_cart_order  reordered\n",
       "0   2141543       11440               17.0          0\n",
       "1    567889        1560                1.0          1\n",
       "2   2261212       26683                1.0          1\n",
       "3    491251        8670               35.0          1\n",
       "4   2571142        1940                5.0          1"
      ]
     },
     "execution_count": 234,
     "metadata": {},
     "output_type": "execute_result"
    }
   ],
   "source": [
    "order_products.head()"
   ]
  },
  {
   "cell_type": "markdown",
   "id": "t75BD19oaR5f",
   "metadata": {
    "id": "t75BD19oaR5f"
   },
   "source": [
    "## Conclusiones\n",
    "\n",
    "Escribe aquí tus conclusiones intermedias sobre el Paso 1. Descripción de los datos.\n",
    "\n",
    "Borrador #1\n",
    "`En este primero e importante paso debemos importar la liberia pandas e identificar con que tipos de archivos se van a trabajar y como están separados. Al mostrar la información de los 5 archivos con los métodos info y head, me percaté que los archivos estaban separados con punto y coma (;). Antes de haber hecho eso habia leído los archivos con el método read_csv pero no le había cargado el argumento sep=; para que me lo diera un mejor formato, al volverlos a visulizar con los métodos info y head.\n",
    "En la primera tabla, instacart_orders, consta de 6 columnas por 478 975 columnas, de la cual la última tiene 28 818 valores ausentesy los tipos de datos son enteros y flotantes. En la segunda tabla, products, consta de 4 columas por 49 693, de la cual solo hay una columna con pocos datos ausentes. En la tercera y cuarta tabla, son más pequeñas sin valores ausentes. En la útlima columna fue necesario aplicar el argumento show_counts para que mostrara los valores no ausentes, con esta información podemos obervar que hay pocos valores ausentes en una columna.\n",
    "\n",
    "Borrador #2\n",
    "En este primer e importante paso importé la librería pandas y se identificaron con que tipos de archivos se iban a trabajar y como estaban separados. Al haber leído los archivos con el método read_csv y observar su información con info y head, tuvimos que agregar el parámetro sep=; para que lo diera en un mejor formato. Al volverlos a visualizar; La primera tabla, instacart_orders, consta de 6 columnas por 478 975 renglones de cual la última tiene 28 818 valores ausentes y los tipos de datos son enteros y flotantes; En la segunda tabla, products, consta de  de 4 columnas por 49 693 rengloes, de la cual solo hay una columa con pocos datos ausentes; En la tercera y cuarta tabla, son más pequeñas y no tinen valores ausentes; En la última tabla fue necesario aplicar el argumento show_counts, debido a que el volumen de dataset e smuy grande, para que me mostrara los valores no ausentes.`\n",
    "\n",
    "English\n",
    "At the outset, I imported pandas library, identified and got familiar with the files that we were going to work with and how they were structured. After reading the files with read_csv function, I examined their information with info and head methods. I then added the parameter sep=; to improve the formatting of the files. After getting the information one more time; the first dataset, instcart_orders, included 6 columns per 478 975 row which the last one had 28 818 missing values and int and float values; the second dataset, products, were 4 columns per 49 693 rows where there were a few missing values; on the third and fourth datset....... Carlos \n"
   ]
  },
  {
   "cell_type": "markdown",
   "id": "dc3b8d7b",
   "metadata": {},
   "source": [
    "<div class=\"alert alert-block alert-success\">\n",
    "<b>Comentario del revisor</b> <a class=\"tocSkip\"></a>\n",
    "\n",
    "Buenas observaciones.</div>"
   ]
  },
  {
   "cell_type": "markdown",
   "id": "8RJHqxVmaVsF",
   "metadata": {
    "id": "8RJHqxVmaVsF"
   },
   "source": [
    "# Paso 2. Preprocesamiento de los datos\n",
    "\n",
    "Preprocesa los datos de la siguiente manera:\n",
    "\n",
    "- Verifica y corrige los tipos de datos (por ejemplo, asegúrate de que las columnas de ID sean números enteros).\n",
    "- Identifica y completa los valores ausentes.\n",
    "- Identifica y elimina los valores duplicados.\n",
    "\n",
    "Asegúrate de explicar qué tipos de valores ausentes y duplicados encontraste, cómo los completaste o eliminaste y por qué usaste esos métodos. ¿Por qué crees que estos valores ausentes y duplicados pueden haber estado presentes en el conjunto de datos?"
   ]
  },
  {
   "cell_type": "markdown",
   "id": "p6poABZQaZYb",
   "metadata": {
    "id": "p6poABZQaZYb"
   },
   "source": [
    "## Plan de solución\n",
    "\n",
    "Escribe aquí tu plan para el Paso 2. Preprocesamiento de los datos."
   ]
  },
  {
   "cell_type": "markdown",
   "id": "07357848-dc64-4156-9cc3-01ff4365226d",
   "metadata": {
    "id": "07357848-dc64-4156-9cc3-01ff4365226d"
   },
   "source": [
    "## Encuentra y elimina los valores duplicados (y describe cómo tomaste tus decisiones)."
   ]
  },
  {
   "cell_type": "markdown",
   "id": "f179f0a9",
   "metadata": {
    "id": "f179f0a9"
   },
   "source": [
    "### `orders` data frame"
   ]
  },
  {
   "cell_type": "code",
   "execution_count": 235,
   "id": "b99297a5-405a-463d-8535-9adc3da4ad74",
   "metadata": {
    "id": "b99297a5-405a-463d-8535-9adc3da4ad74"
   },
   "outputs": [],
   "source": [
    "# Revisa si hay pedidos duplicados"
   ]
  },
  {
   "cell_type": "code",
   "execution_count": 236,
   "id": "26b9f020",
   "metadata": {},
   "outputs": [
    {
     "data": {
      "text/html": [
       "<div>\n",
       "<style scoped>\n",
       "    .dataframe tbody tr th:only-of-type {\n",
       "        vertical-align: middle;\n",
       "    }\n",
       "\n",
       "    .dataframe tbody tr th {\n",
       "        vertical-align: top;\n",
       "    }\n",
       "\n",
       "    .dataframe thead th {\n",
       "        text-align: right;\n",
       "    }\n",
       "</style>\n",
       "<table border=\"1\" class=\"dataframe\">\n",
       "  <thead>\n",
       "    <tr style=\"text-align: right;\">\n",
       "      <th></th>\n",
       "      <th>order_id</th>\n",
       "      <th>user_id</th>\n",
       "      <th>order_number</th>\n",
       "      <th>order_dow</th>\n",
       "      <th>order_hour_of_day</th>\n",
       "      <th>days_since_prior_order</th>\n",
       "    </tr>\n",
       "  </thead>\n",
       "  <tbody>\n",
       "    <tr>\n",
       "      <th>145574</th>\n",
       "      <td>794638</td>\n",
       "      <td>50898</td>\n",
       "      <td>24</td>\n",
       "      <td>3</td>\n",
       "      <td>2</td>\n",
       "      <td>2.0</td>\n",
       "    </tr>\n",
       "    <tr>\n",
       "      <th>223105</th>\n",
       "      <td>2160484</td>\n",
       "      <td>107525</td>\n",
       "      <td>16</td>\n",
       "      <td>3</td>\n",
       "      <td>2</td>\n",
       "      <td>30.0</td>\n",
       "    </tr>\n",
       "    <tr>\n",
       "      <th>230807</th>\n",
       "      <td>1918001</td>\n",
       "      <td>188546</td>\n",
       "      <td>14</td>\n",
       "      <td>3</td>\n",
       "      <td>2</td>\n",
       "      <td>16.0</td>\n",
       "    </tr>\n",
       "    <tr>\n",
       "      <th>266232</th>\n",
       "      <td>1782114</td>\n",
       "      <td>106752</td>\n",
       "      <td>1</td>\n",
       "      <td>3</td>\n",
       "      <td>2</td>\n",
       "      <td>NaN</td>\n",
       "    </tr>\n",
       "    <tr>\n",
       "      <th>273805</th>\n",
       "      <td>1112182</td>\n",
       "      <td>202304</td>\n",
       "      <td>84</td>\n",
       "      <td>3</td>\n",
       "      <td>2</td>\n",
       "      <td>6.0</td>\n",
       "    </tr>\n",
       "    <tr>\n",
       "      <th>284038</th>\n",
       "      <td>2845099</td>\n",
       "      <td>31189</td>\n",
       "      <td>11</td>\n",
       "      <td>3</td>\n",
       "      <td>2</td>\n",
       "      <td>7.0</td>\n",
       "    </tr>\n",
       "    <tr>\n",
       "      <th>311713</th>\n",
       "      <td>1021560</td>\n",
       "      <td>53767</td>\n",
       "      <td>3</td>\n",
       "      <td>3</td>\n",
       "      <td>2</td>\n",
       "      <td>9.0</td>\n",
       "    </tr>\n",
       "    <tr>\n",
       "      <th>321100</th>\n",
       "      <td>408114</td>\n",
       "      <td>68324</td>\n",
       "      <td>4</td>\n",
       "      <td>3</td>\n",
       "      <td>2</td>\n",
       "      <td>18.0</td>\n",
       "    </tr>\n",
       "    <tr>\n",
       "      <th>323900</th>\n",
       "      <td>1919531</td>\n",
       "      <td>191501</td>\n",
       "      <td>32</td>\n",
       "      <td>3</td>\n",
       "      <td>2</td>\n",
       "      <td>7.0</td>\n",
       "    </tr>\n",
       "    <tr>\n",
       "      <th>345917</th>\n",
       "      <td>2232988</td>\n",
       "      <td>82565</td>\n",
       "      <td>1</td>\n",
       "      <td>3</td>\n",
       "      <td>2</td>\n",
       "      <td>NaN</td>\n",
       "    </tr>\n",
       "    <tr>\n",
       "      <th>371905</th>\n",
       "      <td>391768</td>\n",
       "      <td>57671</td>\n",
       "      <td>19</td>\n",
       "      <td>3</td>\n",
       "      <td>2</td>\n",
       "      <td>10.0</td>\n",
       "    </tr>\n",
       "    <tr>\n",
       "      <th>394347</th>\n",
       "      <td>467134</td>\n",
       "      <td>63189</td>\n",
       "      <td>21</td>\n",
       "      <td>3</td>\n",
       "      <td>2</td>\n",
       "      <td>2.0</td>\n",
       "    </tr>\n",
       "    <tr>\n",
       "      <th>411408</th>\n",
       "      <td>1286742</td>\n",
       "      <td>183220</td>\n",
       "      <td>48</td>\n",
       "      <td>3</td>\n",
       "      <td>2</td>\n",
       "      <td>4.0</td>\n",
       "    </tr>\n",
       "    <tr>\n",
       "      <th>415163</th>\n",
       "      <td>2282673</td>\n",
       "      <td>86751</td>\n",
       "      <td>49</td>\n",
       "      <td>3</td>\n",
       "      <td>2</td>\n",
       "      <td>2.0</td>\n",
       "    </tr>\n",
       "    <tr>\n",
       "      <th>441599</th>\n",
       "      <td>2125197</td>\n",
       "      <td>14050</td>\n",
       "      <td>48</td>\n",
       "      <td>3</td>\n",
       "      <td>2</td>\n",
       "      <td>3.0</td>\n",
       "    </tr>\n",
       "  </tbody>\n",
       "</table>\n",
       "</div>"
      ],
      "text/plain": [
       "        order_id  user_id  order_number  order_dow  order_hour_of_day  \\\n",
       "145574    794638    50898            24          3                  2   \n",
       "223105   2160484   107525            16          3                  2   \n",
       "230807   1918001   188546            14          3                  2   \n",
       "266232   1782114   106752             1          3                  2   \n",
       "273805   1112182   202304            84          3                  2   \n",
       "284038   2845099    31189            11          3                  2   \n",
       "311713   1021560    53767             3          3                  2   \n",
       "321100    408114    68324             4          3                  2   \n",
       "323900   1919531   191501            32          3                  2   \n",
       "345917   2232988    82565             1          3                  2   \n",
       "371905    391768    57671            19          3                  2   \n",
       "394347    467134    63189            21          3                  2   \n",
       "411408   1286742   183220            48          3                  2   \n",
       "415163   2282673    86751            49          3                  2   \n",
       "441599   2125197    14050            48          3                  2   \n",
       "\n",
       "        days_since_prior_order  \n",
       "145574                     2.0  \n",
       "223105                    30.0  \n",
       "230807                    16.0  \n",
       "266232                     NaN  \n",
       "273805                     6.0  \n",
       "284038                     7.0  \n",
       "311713                     9.0  \n",
       "321100                    18.0  \n",
       "323900                     7.0  \n",
       "345917                     NaN  \n",
       "371905                    10.0  \n",
       "394347                     2.0  \n",
       "411408                     4.0  \n",
       "415163                     2.0  \n",
       "441599                     3.0  "
      ]
     },
     "execution_count": 236,
     "metadata": {},
     "output_type": "execute_result"
    }
   ],
   "source": [
    "instacart_orders[instacart_orders.duplicated()]"
   ]
  },
  {
   "cell_type": "markdown",
   "id": "PEkwUX_gvt5A",
   "metadata": {
    "id": "PEkwUX_gvt5A"
   },
   "source": [
    "¿Tienes líneas duplicadas? Si sí, ¿qué tienen en común?\n",
    "\n",
    "Sí, si tiene. las columnas order_dow y order_hour_of_day tienen el mismo valor, 3 y 2 respectivamente\n"
   ]
  },
  {
   "cell_type": "code",
   "execution_count": 237,
   "id": "0d44de5d",
   "metadata": {
    "id": "0d44de5d"
   },
   "outputs": [
    {
     "data": {
      "text/html": [
       "<div>\n",
       "<style scoped>\n",
       "    .dataframe tbody tr th:only-of-type {\n",
       "        vertical-align: middle;\n",
       "    }\n",
       "\n",
       "    .dataframe tbody tr th {\n",
       "        vertical-align: top;\n",
       "    }\n",
       "\n",
       "    .dataframe thead th {\n",
       "        text-align: right;\n",
       "    }\n",
       "</style>\n",
       "<table border=\"1\" class=\"dataframe\">\n",
       "  <thead>\n",
       "    <tr style=\"text-align: right;\">\n",
       "      <th></th>\n",
       "      <th>order_id</th>\n",
       "      <th>user_id</th>\n",
       "      <th>order_number</th>\n",
       "      <th>order_dow</th>\n",
       "      <th>order_hour_of_day</th>\n",
       "      <th>days_since_prior_order</th>\n",
       "    </tr>\n",
       "  </thead>\n",
       "  <tbody>\n",
       "    <tr>\n",
       "      <th>4838</th>\n",
       "      <td>2766110</td>\n",
       "      <td>162084</td>\n",
       "      <td>41</td>\n",
       "      <td>3</td>\n",
       "      <td>2</td>\n",
       "      <td>16.0</td>\n",
       "    </tr>\n",
       "    <tr>\n",
       "      <th>5156</th>\n",
       "      <td>2190225</td>\n",
       "      <td>138285</td>\n",
       "      <td>18</td>\n",
       "      <td>3</td>\n",
       "      <td>2</td>\n",
       "      <td>11.0</td>\n",
       "    </tr>\n",
       "    <tr>\n",
       "      <th>15506</th>\n",
       "      <td>553049</td>\n",
       "      <td>58599</td>\n",
       "      <td>13</td>\n",
       "      <td>3</td>\n",
       "      <td>2</td>\n",
       "      <td>7.0</td>\n",
       "    </tr>\n",
       "    <tr>\n",
       "      <th>18420</th>\n",
       "      <td>382357</td>\n",
       "      <td>120200</td>\n",
       "      <td>19</td>\n",
       "      <td>3</td>\n",
       "      <td>2</td>\n",
       "      <td>11.0</td>\n",
       "    </tr>\n",
       "    <tr>\n",
       "      <th>24691</th>\n",
       "      <td>690242</td>\n",
       "      <td>77357</td>\n",
       "      <td>2</td>\n",
       "      <td>3</td>\n",
       "      <td>2</td>\n",
       "      <td>9.0</td>\n",
       "    </tr>\n",
       "    <tr>\n",
       "      <th>...</th>\n",
       "      <td>...</td>\n",
       "      <td>...</td>\n",
       "      <td>...</td>\n",
       "      <td>...</td>\n",
       "      <td>...</td>\n",
       "      <td>...</td>\n",
       "    </tr>\n",
       "    <tr>\n",
       "      <th>457013</th>\n",
       "      <td>3384021</td>\n",
       "      <td>14881</td>\n",
       "      <td>6</td>\n",
       "      <td>3</td>\n",
       "      <td>2</td>\n",
       "      <td>30.0</td>\n",
       "    </tr>\n",
       "    <tr>\n",
       "      <th>458816</th>\n",
       "      <td>910166</td>\n",
       "      <td>164782</td>\n",
       "      <td>18</td>\n",
       "      <td>3</td>\n",
       "      <td>2</td>\n",
       "      <td>4.0</td>\n",
       "    </tr>\n",
       "    <tr>\n",
       "      <th>459635</th>\n",
       "      <td>1680532</td>\n",
       "      <td>106435</td>\n",
       "      <td>6</td>\n",
       "      <td>3</td>\n",
       "      <td>2</td>\n",
       "      <td>21.0</td>\n",
       "    </tr>\n",
       "    <tr>\n",
       "      <th>468324</th>\n",
       "      <td>222962</td>\n",
       "      <td>54979</td>\n",
       "      <td>59</td>\n",
       "      <td>3</td>\n",
       "      <td>2</td>\n",
       "      <td>3.0</td>\n",
       "    </tr>\n",
       "    <tr>\n",
       "      <th>477526</th>\n",
       "      <td>2592344</td>\n",
       "      <td>46860</td>\n",
       "      <td>38</td>\n",
       "      <td>3</td>\n",
       "      <td>2</td>\n",
       "      <td>3.0</td>\n",
       "    </tr>\n",
       "  </tbody>\n",
       "</table>\n",
       "<p>121 rows × 6 columns</p>\n",
       "</div>"
      ],
      "text/plain": [
       "        order_id  user_id  order_number  order_dow  order_hour_of_day  \\\n",
       "4838     2766110   162084            41          3                  2   \n",
       "5156     2190225   138285            18          3                  2   \n",
       "15506     553049    58599            13          3                  2   \n",
       "18420     382357   120200            19          3                  2   \n",
       "24691     690242    77357             2          3                  2   \n",
       "...          ...      ...           ...        ...                ...   \n",
       "457013   3384021    14881             6          3                  2   \n",
       "458816    910166   164782            18          3                  2   \n",
       "459635   1680532   106435             6          3                  2   \n",
       "468324    222962    54979            59          3                  2   \n",
       "477526   2592344    46860            38          3                  2   \n",
       "\n",
       "        days_since_prior_order  \n",
       "4838                      16.0  \n",
       "5156                      11.0  \n",
       "15506                      7.0  \n",
       "18420                     11.0  \n",
       "24691                      9.0  \n",
       "...                        ...  \n",
       "457013                    30.0  \n",
       "458816                     4.0  \n",
       "459635                    21.0  \n",
       "468324                     3.0  \n",
       "477526                     3.0  \n",
       "\n",
       "[121 rows x 6 columns]"
      ]
     },
     "execution_count": 237,
     "metadata": {},
     "output_type": "execute_result"
    }
   ],
   "source": [
    "# Basándote en tus hallazgos,\n",
    "# Verifica todos los pedidos que se hicieron el miércoles a las 2:00 a.m.\n",
    "instacart_orders[(instacart_orders['order_dow'] == 3) & (instacart_orders['order_hour_of_day'] == 2)]"
   ]
  },
  {
   "cell_type": "markdown",
   "id": "vu2OWyoqwOx5",
   "metadata": {
    "id": "vu2OWyoqwOx5"
   },
   "source": [
    "¿Qué sugiere este resultado?\n",
    "\n",
    "Porbablemente el miércoles a las 2 a.m. hubo un error en la aplicación y duplicó los pedidos."
   ]
  },
  {
   "cell_type": "code",
   "execution_count": 238,
   "id": "480563c7",
   "metadata": {
    "id": "480563c7"
   },
   "outputs": [],
   "source": [
    "# Elimina los pedidos duplicados\n",
    "instacart_orders = instacart_orders.drop_duplicates()"
   ]
  },
  {
   "cell_type": "code",
   "execution_count": 239,
   "id": "0b2396a2",
   "metadata": {
    "id": "0b2396a2"
   },
   "outputs": [
    {
     "data": {
      "text/html": [
       "<div>\n",
       "<style scoped>\n",
       "    .dataframe tbody tr th:only-of-type {\n",
       "        vertical-align: middle;\n",
       "    }\n",
       "\n",
       "    .dataframe tbody tr th {\n",
       "        vertical-align: top;\n",
       "    }\n",
       "\n",
       "    .dataframe thead th {\n",
       "        text-align: right;\n",
       "    }\n",
       "</style>\n",
       "<table border=\"1\" class=\"dataframe\">\n",
       "  <thead>\n",
       "    <tr style=\"text-align: right;\">\n",
       "      <th></th>\n",
       "      <th>order_id</th>\n",
       "      <th>user_id</th>\n",
       "      <th>order_number</th>\n",
       "      <th>order_dow</th>\n",
       "      <th>order_hour_of_day</th>\n",
       "      <th>days_since_prior_order</th>\n",
       "    </tr>\n",
       "  </thead>\n",
       "  <tbody>\n",
       "  </tbody>\n",
       "</table>\n",
       "</div>"
      ],
      "text/plain": [
       "Empty DataFrame\n",
       "Columns: [order_id, user_id, order_number, order_dow, order_hour_of_day, days_since_prior_order]\n",
       "Index: []"
      ]
     },
     "execution_count": 239,
     "metadata": {},
     "output_type": "execute_result"
    }
   ],
   "source": [
    "# Vuelve a verificar si hay filas duplicadas\n",
    "instacart_orders[instacart_orders.duplicated()] #Ya no hay filas duplicadas."
   ]
  },
  {
   "cell_type": "markdown",
   "id": "705808d7",
   "metadata": {},
   "source": [
    "<div class=\"alert alert-block alert-warning\">\n",
    "\n",
    "<b>Comentario del revisor</b> <a class=\"tocSkip\"></a>\n",
    "\n",
    "Luego de eliminar los duplicados, recorda reiniciar el indice tras la eliminación. Ya que el índice queda desordenado, dificultando manipulaciones. Al reiniciarlo, se obtiene un índice ordenado y se conserva el original en una nueva columna, preservando la integridad y facilitando futuras referencias . Recorda luego utilziar el parametro drop en true</div>\n",
    "\n",
    "<div class=\"alert alert-block alert-success\">\n",
    "\n",
    "<b>Comentario del revisor #2</b> <a class=\"tocSkip\"></a>\n",
    "\n",
    "Corregido.\n",
    "\n",
    "</div>\n",
    "\n"
   ]
  },
  {
   "cell_type": "code",
   "execution_count": 240,
   "id": "f6113ef1",
   "metadata": {
    "id": "f6113ef1"
   },
   "outputs": [
    {
     "data": {
      "text/plain": [
       "0"
      ]
     },
     "execution_count": 240,
     "metadata": {},
     "output_type": "execute_result"
    }
   ],
   "source": [
    "# Vuelve a verificar únicamente si hay IDs duplicados de pedidos\n",
    "instacart_orders['order_id'].isnull().sum() #Ya no hay IDs duplicados"
   ]
  },
  {
   "cell_type": "code",
   "execution_count": 241,
   "id": "6525d9fe",
   "metadata": {},
   "outputs": [
    {
     "data": {
      "text/html": [
       "<div>\n",
       "<style scoped>\n",
       "    .dataframe tbody tr th:only-of-type {\n",
       "        vertical-align: middle;\n",
       "    }\n",
       "\n",
       "    .dataframe tbody tr th {\n",
       "        vertical-align: top;\n",
       "    }\n",
       "\n",
       "    .dataframe thead th {\n",
       "        text-align: right;\n",
       "    }\n",
       "</style>\n",
       "<table border=\"1\" class=\"dataframe\">\n",
       "  <thead>\n",
       "    <tr style=\"text-align: right;\">\n",
       "      <th></th>\n",
       "      <th>order_id</th>\n",
       "      <th>user_id</th>\n",
       "      <th>order_number</th>\n",
       "      <th>order_dow</th>\n",
       "      <th>order_hour_of_day</th>\n",
       "      <th>days_since_prior_order</th>\n",
       "    </tr>\n",
       "  </thead>\n",
       "  <tbody>\n",
       "    <tr>\n",
       "      <th>0</th>\n",
       "      <td>1515936</td>\n",
       "      <td>183418</td>\n",
       "      <td>11</td>\n",
       "      <td>6</td>\n",
       "      <td>13</td>\n",
       "      <td>30.0</td>\n",
       "    </tr>\n",
       "    <tr>\n",
       "      <th>1</th>\n",
       "      <td>1690866</td>\n",
       "      <td>163593</td>\n",
       "      <td>5</td>\n",
       "      <td>5</td>\n",
       "      <td>12</td>\n",
       "      <td>9.0</td>\n",
       "    </tr>\n",
       "    <tr>\n",
       "      <th>2</th>\n",
       "      <td>1454967</td>\n",
       "      <td>39980</td>\n",
       "      <td>4</td>\n",
       "      <td>5</td>\n",
       "      <td>19</td>\n",
       "      <td>2.0</td>\n",
       "    </tr>\n",
       "    <tr>\n",
       "      <th>3</th>\n",
       "      <td>1768857</td>\n",
       "      <td>82516</td>\n",
       "      <td>56</td>\n",
       "      <td>0</td>\n",
       "      <td>20</td>\n",
       "      <td>10.0</td>\n",
       "    </tr>\n",
       "    <tr>\n",
       "      <th>4</th>\n",
       "      <td>3007858</td>\n",
       "      <td>196724</td>\n",
       "      <td>2</td>\n",
       "      <td>4</td>\n",
       "      <td>12</td>\n",
       "      <td>17.0</td>\n",
       "    </tr>\n",
       "    <tr>\n",
       "      <th>...</th>\n",
       "      <td>...</td>\n",
       "      <td>...</td>\n",
       "      <td>...</td>\n",
       "      <td>...</td>\n",
       "      <td>...</td>\n",
       "      <td>...</td>\n",
       "    </tr>\n",
       "    <tr>\n",
       "      <th>478947</th>\n",
       "      <td>3210681</td>\n",
       "      <td>5617</td>\n",
       "      <td>5</td>\n",
       "      <td>1</td>\n",
       "      <td>14</td>\n",
       "      <td>7.0</td>\n",
       "    </tr>\n",
       "    <tr>\n",
       "      <th>478948</th>\n",
       "      <td>3270802</td>\n",
       "      <td>112087</td>\n",
       "      <td>2</td>\n",
       "      <td>3</td>\n",
       "      <td>13</td>\n",
       "      <td>6.0</td>\n",
       "    </tr>\n",
       "    <tr>\n",
       "      <th>478949</th>\n",
       "      <td>885349</td>\n",
       "      <td>82944</td>\n",
       "      <td>16</td>\n",
       "      <td>2</td>\n",
       "      <td>11</td>\n",
       "      <td>6.0</td>\n",
       "    </tr>\n",
       "    <tr>\n",
       "      <th>478950</th>\n",
       "      <td>216274</td>\n",
       "      <td>4391</td>\n",
       "      <td>3</td>\n",
       "      <td>3</td>\n",
       "      <td>8</td>\n",
       "      <td>8.0</td>\n",
       "    </tr>\n",
       "    <tr>\n",
       "      <th>478951</th>\n",
       "      <td>2071924</td>\n",
       "      <td>1730</td>\n",
       "      <td>18</td>\n",
       "      <td>1</td>\n",
       "      <td>14</td>\n",
       "      <td>15.0</td>\n",
       "    </tr>\n",
       "  </tbody>\n",
       "</table>\n",
       "<p>478952 rows × 6 columns</p>\n",
       "</div>"
      ],
      "text/plain": [
       "        order_id  user_id  order_number  order_dow  order_hour_of_day  \\\n",
       "0        1515936   183418            11          6                 13   \n",
       "1        1690866   163593             5          5                 12   \n",
       "2        1454967    39980             4          5                 19   \n",
       "3        1768857    82516            56          0                 20   \n",
       "4        3007858   196724             2          4                 12   \n",
       "...          ...      ...           ...        ...                ...   \n",
       "478947   3210681     5617             5          1                 14   \n",
       "478948   3270802   112087             2          3                 13   \n",
       "478949    885349    82944            16          2                 11   \n",
       "478950    216274     4391             3          3                  8   \n",
       "478951   2071924     1730            18          1                 14   \n",
       "\n",
       "        days_since_prior_order  \n",
       "0                         30.0  \n",
       "1                          9.0  \n",
       "2                          2.0  \n",
       "3                         10.0  \n",
       "4                         17.0  \n",
       "...                        ...  \n",
       "478947                     7.0  \n",
       "478948                     6.0  \n",
       "478949                     6.0  \n",
       "478950                     8.0  \n",
       "478951                    15.0  \n",
       "\n",
       "[478952 rows x 6 columns]"
      ]
     },
     "execution_count": 241,
     "metadata": {},
     "output_type": "execute_result"
    }
   ],
   "source": [
    "#Reiniciando índice\n",
    "instacart_orders.reset_index(drop=True)"
   ]
  },
  {
   "cell_type": "markdown",
   "id": "8f4eb7e7",
   "metadata": {},
   "source": [
    "<div class=\"alert alert-block alert-info\">\n",
    "<b>Respuesta del estudiante</b> <a class=\"tocSkip\"></a>\n",
    "\n",
    "Listo. Realicé el reinicio del índice con el método `reset_index` y el parámetro `drop` para omitir la columna `index`.\n",
    "</div>"
   ]
  },
  {
   "cell_type": "markdown",
   "id": "5e8905ae",
   "metadata": {
    "id": "5e8905ae"
   },
   "source": [
    "Describe brevemente tus hallazgos y lo que hiciste con ellos\n",
    "\n",
    "Se aplicó el método duplicated para encontrar filas duplicadas y aplicarlo como filtro en el df, se borraron y se verificó si había filas duplicadas de cual ya no había."
   ]
  },
  {
   "cell_type": "markdown",
   "id": "45e6bc46",
   "metadata": {
    "id": "45e6bc46"
   },
   "source": [
    "### `products` data frame"
   ]
  },
  {
   "cell_type": "code",
   "execution_count": 242,
   "id": "5f526b5b-8175-46fa-a0fd-441767d50e64",
   "metadata": {
    "id": "5f526b5b-8175-46fa-a0fd-441767d50e64"
   },
   "outputs": [
    {
     "data": {
      "text/html": [
       "<div>\n",
       "<style scoped>\n",
       "    .dataframe tbody tr th:only-of-type {\n",
       "        vertical-align: middle;\n",
       "    }\n",
       "\n",
       "    .dataframe tbody tr th {\n",
       "        vertical-align: top;\n",
       "    }\n",
       "\n",
       "    .dataframe thead th {\n",
       "        text-align: right;\n",
       "    }\n",
       "</style>\n",
       "<table border=\"1\" class=\"dataframe\">\n",
       "  <thead>\n",
       "    <tr style=\"text-align: right;\">\n",
       "      <th></th>\n",
       "      <th>product_id</th>\n",
       "      <th>product_name</th>\n",
       "      <th>aisle_id</th>\n",
       "      <th>department_id</th>\n",
       "    </tr>\n",
       "  </thead>\n",
       "  <tbody>\n",
       "  </tbody>\n",
       "</table>\n",
       "</div>"
      ],
      "text/plain": [
       "Empty DataFrame\n",
       "Columns: [product_id, product_name, aisle_id, department_id]\n",
       "Index: []"
      ]
     },
     "execution_count": 242,
     "metadata": {},
     "output_type": "execute_result"
    }
   ],
   "source": [
    "# Verifica si hay filas totalmente duplicadas\n",
    "products[products.duplicated()] # no hay filas totalmente duplicadas"
   ]
  },
  {
   "cell_type": "code",
   "execution_count": 243,
   "id": "88daa4f4",
   "metadata": {
    "id": "88daa4f4"
   },
   "outputs": [
    {
     "data": {
      "text/plain": [
       "4        13\n",
       "6         7\n",
       "7         1\n",
       "9         7\n",
       "10        7\n",
       "         ..\n",
       "49689     7\n",
       "49690    14\n",
       "49691    14\n",
       "49692    11\n",
       "49693     1\n",
       "Name: department_id, Length: 49673, dtype: int64"
      ]
     },
     "execution_count": 243,
     "metadata": {},
     "output_type": "execute_result"
    }
   ],
   "source": [
    "# Revisa únicamente si hay ID de departamentos duplicados\n",
    "products[products['department_id'].duplicated()]['department_id']"
   ]
  },
  {
   "cell_type": "code",
   "execution_count": 244,
   "id": "c773f0bf",
   "metadata": {
    "id": "c773f0bf"
   },
   "outputs": [
    {
     "data": {
      "text/plain": [
       "True"
      ]
     },
     "execution_count": 244,
     "metadata": {},
     "output_type": "execute_result"
    }
   ],
   "source": [
    "# Revisa únicamente si hay nombres duplicados de productos (convierte los nombres a letras mayúsculas para compararlos mejor)\n",
    "products['product_name'].str.upper().duplicated().any() #Si hay nombres duplicados"
   ]
  },
  {
   "cell_type": "code",
   "execution_count": 245,
   "id": "01efd02e",
   "metadata": {
    "id": "01efd02e"
   },
   "outputs": [
    {
     "data": {
      "text/html": [
       "<div>\n",
       "<style scoped>\n",
       "    .dataframe tbody tr th:only-of-type {\n",
       "        vertical-align: middle;\n",
       "    }\n",
       "\n",
       "    .dataframe tbody tr th {\n",
       "        vertical-align: top;\n",
       "    }\n",
       "\n",
       "    .dataframe thead th {\n",
       "        text-align: right;\n",
       "    }\n",
       "</style>\n",
       "<table border=\"1\" class=\"dataframe\">\n",
       "  <thead>\n",
       "    <tr style=\"text-align: right;\">\n",
       "      <th></th>\n",
       "      <th>product_id</th>\n",
       "      <th>product_name</th>\n",
       "      <th>aisle_id</th>\n",
       "      <th>department_id</th>\n",
       "    </tr>\n",
       "  </thead>\n",
       "  <tbody>\n",
       "    <tr>\n",
       "      <th>0</th>\n",
       "      <td>1</td>\n",
       "      <td>Chocolate Sandwich Cookies</td>\n",
       "      <td>61</td>\n",
       "      <td>19</td>\n",
       "    </tr>\n",
       "    <tr>\n",
       "      <th>1</th>\n",
       "      <td>2</td>\n",
       "      <td>All-Seasons Salt</td>\n",
       "      <td>104</td>\n",
       "      <td>13</td>\n",
       "    </tr>\n",
       "    <tr>\n",
       "      <th>2</th>\n",
       "      <td>3</td>\n",
       "      <td>Robust Golden Unsweetened Oolong Tea</td>\n",
       "      <td>94</td>\n",
       "      <td>7</td>\n",
       "    </tr>\n",
       "    <tr>\n",
       "      <th>3</th>\n",
       "      <td>4</td>\n",
       "      <td>Smart Ones Classic Favorites Mini Rigatoni Wit...</td>\n",
       "      <td>38</td>\n",
       "      <td>1</td>\n",
       "    </tr>\n",
       "    <tr>\n",
       "      <th>4</th>\n",
       "      <td>5</td>\n",
       "      <td>Green Chile Anytime Sauce</td>\n",
       "      <td>5</td>\n",
       "      <td>13</td>\n",
       "    </tr>\n",
       "    <tr>\n",
       "      <th>...</th>\n",
       "      <td>...</td>\n",
       "      <td>...</td>\n",
       "      <td>...</td>\n",
       "      <td>...</td>\n",
       "    </tr>\n",
       "    <tr>\n",
       "      <th>49689</th>\n",
       "      <td>49690</td>\n",
       "      <td>HIGH PERFORMANCE ENERGY DRINK</td>\n",
       "      <td>64</td>\n",
       "      <td>7</td>\n",
       "    </tr>\n",
       "    <tr>\n",
       "      <th>49690</th>\n",
       "      <td>49691</td>\n",
       "      <td>ORIGINAL PANCAKE &amp; WAFFLE MIX</td>\n",
       "      <td>130</td>\n",
       "      <td>14</td>\n",
       "    </tr>\n",
       "    <tr>\n",
       "      <th>49691</th>\n",
       "      <td>49692</td>\n",
       "      <td>ORGANIC INSTANT OATMEAL LIGHT MAPLE BROWN SUGAR</td>\n",
       "      <td>130</td>\n",
       "      <td>14</td>\n",
       "    </tr>\n",
       "    <tr>\n",
       "      <th>49692</th>\n",
       "      <td>49693</td>\n",
       "      <td>SPRING WATER BODY WASH</td>\n",
       "      <td>127</td>\n",
       "      <td>11</td>\n",
       "    </tr>\n",
       "    <tr>\n",
       "      <th>49693</th>\n",
       "      <td>49694</td>\n",
       "      <td>BURRITO- STEAK &amp; CHEESE</td>\n",
       "      <td>38</td>\n",
       "      <td>1</td>\n",
       "    </tr>\n",
       "  </tbody>\n",
       "</table>\n",
       "<p>49694 rows × 4 columns</p>\n",
       "</div>"
      ],
      "text/plain": [
       "       product_id                                       product_name  \\\n",
       "0               1                         Chocolate Sandwich Cookies   \n",
       "1               2                                   All-Seasons Salt   \n",
       "2               3               Robust Golden Unsweetened Oolong Tea   \n",
       "3               4  Smart Ones Classic Favorites Mini Rigatoni Wit...   \n",
       "4               5                          Green Chile Anytime Sauce   \n",
       "...           ...                                                ...   \n",
       "49689       49690                      HIGH PERFORMANCE ENERGY DRINK   \n",
       "49690       49691                      ORIGINAL PANCAKE & WAFFLE MIX   \n",
       "49691       49692    ORGANIC INSTANT OATMEAL LIGHT MAPLE BROWN SUGAR   \n",
       "49692       49693                             SPRING WATER BODY WASH   \n",
       "49693       49694                            BURRITO- STEAK & CHEESE   \n",
       "\n",
       "       aisle_id  department_id  \n",
       "0            61             19  \n",
       "1           104             13  \n",
       "2            94              7  \n",
       "3            38              1  \n",
       "4             5             13  \n",
       "...         ...            ...  \n",
       "49689        64              7  \n",
       "49690       130             14  \n",
       "49691       130             14  \n",
       "49692       127             11  \n",
       "49693        38              1  \n",
       "\n",
       "[49694 rows x 4 columns]"
      ]
     },
     "execution_count": 245,
     "metadata": {},
     "output_type": "execute_result"
    }
   ],
   "source": [
    "# Revisa si hay nombres duplicados de productos no faltantes\n",
    "products[products['product_name'].str.upper().duplicated() & products['product_name'] != 'Nan'] #Si hya valores duplicados\n",
    "                                                                                                                #no faltantes"
   ]
  },
  {
   "cell_type": "markdown",
   "id": "9da8d293",
   "metadata": {
    "id": "9da8d293"
   },
   "source": [
    "Describe brevemente tus hallazgos y lo que hiciste con ellos.\n",
    "\n",
    "Se aplicó el parámetro str para convertir el nombre de los prodcutos a mayúsculas con el método upper, posteriormente se usó el método duplicated y any para consultar si tiene productos duplicados y finalmente se usó el método sum para sumar los nombres duplicados. Despues. para revisar si hay nombres duplicados de productos no faltante se aplicó una condicion con los mencionado anteriormente y descartar las valores Nan."
   ]
  },
  {
   "cell_type": "markdown",
   "id": "fe3ae19f",
   "metadata": {},
   "source": [
    "<div class=\"alert alert-block alert-success\">\n",
    "\n",
    "<b>Comentario del revisor</b> <a class=\"tocSkip\"></a>\n",
    "\n",
    "Muy bien.</div>"
   ]
  },
  {
   "cell_type": "markdown",
   "id": "60f30db1",
   "metadata": {
    "id": "60f30db1"
   },
   "source": [
    "### `departments` data frame"
   ]
  },
  {
   "cell_type": "code",
   "execution_count": 246,
   "id": "fb410ad4-0fbf-4b80-bb09-23fdea79afe3",
   "metadata": {
    "id": "fb410ad4-0fbf-4b80-bb09-23fdea79afe3"
   },
   "outputs": [
    {
     "data": {
      "text/plain": [
       "False"
      ]
     },
     "execution_count": 246,
     "metadata": {},
     "output_type": "execute_result"
    }
   ],
   "source": [
    "# Revisa si hay filas totalmente duplicadas\n",
    "products.duplicated().any()"
   ]
  },
  {
   "cell_type": "code",
   "execution_count": 247,
   "id": "332b12bb",
   "metadata": {
    "id": "332b12bb"
   },
   "outputs": [
    {
     "data": {
      "text/plain": [
       "False"
      ]
     },
     "execution_count": 247,
     "metadata": {},
     "output_type": "execute_result"
    }
   ],
   "source": [
    "# Revisa únicamente si hay IDs duplicadas de productos\n",
    "products['product_id'].duplicated().any()"
   ]
  },
  {
   "cell_type": "markdown",
   "id": "bd30d78e",
   "metadata": {
    "id": "bd30d78e"
   },
   "source": [
    "Describe brevemente tus hallazgos y lo que hiciste con ellos.\n",
    "\n",
    "Se aplicó el método duplicated y any para saber si había datos duplicados en el df de products."
   ]
  },
  {
   "cell_type": "markdown",
   "id": "889349c1",
   "metadata": {
    "id": "889349c1"
   },
   "source": [
    "### `aisles` data frame"
   ]
  },
  {
   "cell_type": "code",
   "execution_count": 248,
   "id": "9da89fb9-4679-40f5-ad0d-c34df753a3f8",
   "metadata": {
    "id": "9da89fb9-4679-40f5-ad0d-c34df753a3f8"
   },
   "outputs": [
    {
     "data": {
      "text/plain": [
       "0"
      ]
     },
     "execution_count": 248,
     "metadata": {},
     "output_type": "execute_result"
    }
   ],
   "source": [
    "# Revisa si hay filas totalmente duplicadas\n",
    "aisles.duplicated().sum()"
   ]
  },
  {
   "cell_type": "code",
   "execution_count": 249,
   "id": "da7c2822",
   "metadata": {
    "id": "da7c2822"
   },
   "outputs": [
    {
     "data": {
      "text/plain": [
       "0"
      ]
     },
     "execution_count": 249,
     "metadata": {},
     "output_type": "execute_result"
    }
   ],
   "source": [
    "# Revisa únicamente si hay IDs duplicadas de productos\n",
    "aisles['aisle_id'].duplicated().sum()"
   ]
  },
  {
   "cell_type": "markdown",
   "id": "ac63826f",
   "metadata": {
    "id": "ac63826f"
   },
   "source": [
    "Describe brevemente tus hallazgos y lo que hiciste con ellos.\n",
    "\n",
    "Mismo procedimiento que el ejercicio anterior. Se usó el método duplicated y sum."
   ]
  },
  {
   "cell_type": "markdown",
   "id": "274cd06a",
   "metadata": {
    "id": "274cd06a"
   },
   "source": [
    "### `order_products` data frame"
   ]
  },
  {
   "cell_type": "code",
   "execution_count": 250,
   "id": "52326689-84a8-4b8f-a881-7c68780f62c9",
   "metadata": {
    "id": "52326689-84a8-4b8f-a881-7c68780f62c9"
   },
   "outputs": [
    {
     "data": {
      "text/html": [
       "<div>\n",
       "<style scoped>\n",
       "    .dataframe tbody tr th:only-of-type {\n",
       "        vertical-align: middle;\n",
       "    }\n",
       "\n",
       "    .dataframe tbody tr th {\n",
       "        vertical-align: top;\n",
       "    }\n",
       "\n",
       "    .dataframe thead th {\n",
       "        text-align: right;\n",
       "    }\n",
       "</style>\n",
       "<table border=\"1\" class=\"dataframe\">\n",
       "  <thead>\n",
       "    <tr style=\"text-align: right;\">\n",
       "      <th></th>\n",
       "      <th>order_id</th>\n",
       "      <th>product_id</th>\n",
       "      <th>add_to_cart_order</th>\n",
       "      <th>reordered</th>\n",
       "    </tr>\n",
       "  </thead>\n",
       "  <tbody>\n",
       "  </tbody>\n",
       "</table>\n",
       "</div>"
      ],
      "text/plain": [
       "Empty DataFrame\n",
       "Columns: [order_id, product_id, add_to_cart_order, reordered]\n",
       "Index: []"
      ]
     },
     "execution_count": 250,
     "metadata": {},
     "output_type": "execute_result"
    }
   ],
   "source": [
    "# Revisa si hay filas totalmente duplicadas\n",
    "order_products[order_products.duplicated()]"
   ]
  },
  {
   "cell_type": "code",
   "execution_count": 251,
   "id": "7b861391",
   "metadata": {
    "id": "7b861391"
   },
   "outputs": [
    {
     "data": {
      "text/plain": [
       "order_id               0\n",
       "product_id             0\n",
       "add_to_cart_order    836\n",
       "reordered              0\n",
       "dtype: int64"
      ]
     },
     "execution_count": 251,
     "metadata": {},
     "output_type": "execute_result"
    }
   ],
   "source": [
    "# Vuelve a verificar si hay cualquier otro duplicado engañoso\n",
    "order_products.isna().sum()"
   ]
  },
  {
   "cell_type": "code",
   "execution_count": 252,
   "id": "0625b8e8",
   "metadata": {},
   "outputs": [
    {
     "data": {
      "text/html": [
       "<div>\n",
       "<style scoped>\n",
       "    .dataframe tbody tr th:only-of-type {\n",
       "        vertical-align: middle;\n",
       "    }\n",
       "\n",
       "    .dataframe tbody tr th {\n",
       "        vertical-align: top;\n",
       "    }\n",
       "\n",
       "    .dataframe thead th {\n",
       "        text-align: right;\n",
       "    }\n",
       "</style>\n",
       "<table border=\"1\" class=\"dataframe\">\n",
       "  <thead>\n",
       "    <tr style=\"text-align: right;\">\n",
       "      <th></th>\n",
       "      <th>order_id</th>\n",
       "      <th>product_id</th>\n",
       "      <th>add_to_cart_order</th>\n",
       "      <th>reordered</th>\n",
       "    </tr>\n",
       "  </thead>\n",
       "  <tbody>\n",
       "    <tr>\n",
       "      <th>0</th>\n",
       "      <td>2141543</td>\n",
       "      <td>11440</td>\n",
       "      <td>17.0</td>\n",
       "      <td>0</td>\n",
       "    </tr>\n",
       "    <tr>\n",
       "      <th>1</th>\n",
       "      <td>567889</td>\n",
       "      <td>1560</td>\n",
       "      <td>1.0</td>\n",
       "      <td>1</td>\n",
       "    </tr>\n",
       "    <tr>\n",
       "      <th>2</th>\n",
       "      <td>2261212</td>\n",
       "      <td>26683</td>\n",
       "      <td>1.0</td>\n",
       "      <td>1</td>\n",
       "    </tr>\n",
       "    <tr>\n",
       "      <th>3</th>\n",
       "      <td>491251</td>\n",
       "      <td>8670</td>\n",
       "      <td>35.0</td>\n",
       "      <td>1</td>\n",
       "    </tr>\n",
       "    <tr>\n",
       "      <th>4</th>\n",
       "      <td>2571142</td>\n",
       "      <td>1940</td>\n",
       "      <td>5.0</td>\n",
       "      <td>1</td>\n",
       "    </tr>\n",
       "    <tr>\n",
       "      <th>...</th>\n",
       "      <td>...</td>\n",
       "      <td>...</td>\n",
       "      <td>...</td>\n",
       "      <td>...</td>\n",
       "    </tr>\n",
       "    <tr>\n",
       "      <th>4545002</th>\n",
       "      <td>577211</td>\n",
       "      <td>15290</td>\n",
       "      <td>12.0</td>\n",
       "      <td>1</td>\n",
       "    </tr>\n",
       "    <tr>\n",
       "      <th>4545003</th>\n",
       "      <td>1219554</td>\n",
       "      <td>21914</td>\n",
       "      <td>9.0</td>\n",
       "      <td>0</td>\n",
       "    </tr>\n",
       "    <tr>\n",
       "      <th>4545004</th>\n",
       "      <td>692640</td>\n",
       "      <td>47766</td>\n",
       "      <td>4.0</td>\n",
       "      <td>1</td>\n",
       "    </tr>\n",
       "    <tr>\n",
       "      <th>4545005</th>\n",
       "      <td>319435</td>\n",
       "      <td>691</td>\n",
       "      <td>8.0</td>\n",
       "      <td>1</td>\n",
       "    </tr>\n",
       "    <tr>\n",
       "      <th>4545006</th>\n",
       "      <td>1398151</td>\n",
       "      <td>28733</td>\n",
       "      <td>9.0</td>\n",
       "      <td>0</td>\n",
       "    </tr>\n",
       "  </tbody>\n",
       "</table>\n",
       "<p>4545007 rows × 4 columns</p>\n",
       "</div>"
      ],
      "text/plain": [
       "         order_id  product_id  add_to_cart_order  reordered\n",
       "0         2141543       11440               17.0          0\n",
       "1          567889        1560                1.0          1\n",
       "2         2261212       26683                1.0          1\n",
       "3          491251        8670               35.0          1\n",
       "4         2571142        1940                5.0          1\n",
       "...           ...         ...                ...        ...\n",
       "4545002    577211       15290               12.0          1\n",
       "4545003   1219554       21914                9.0          0\n",
       "4545004    692640       47766                4.0          1\n",
       "4545005    319435         691                8.0          1\n",
       "4545006   1398151       28733                9.0          0\n",
       "\n",
       "[4545007 rows x 4 columns]"
      ]
     },
     "execution_count": 252,
     "metadata": {},
     "output_type": "execute_result"
    }
   ],
   "source": [
    "order_products"
   ]
  },
  {
   "cell_type": "code",
   "execution_count": 253,
   "id": "52b47d88",
   "metadata": {},
   "outputs": [
    {
     "name": "stdout",
     "output_type": "stream",
     "text": [
      "order_id:\n",
      "4094961\n",
      "product_id:\n",
      "4499434\n",
      "add_to_cart_order:\n",
      "4544942\n",
      "reordered:\n",
      "4545005\n"
     ]
    }
   ],
   "source": [
    "for x in order_products.columns:\n",
    "    print(x + ':')\n",
    "    print(order_products[x].duplicated().sum())"
   ]
  },
  {
   "cell_type": "markdown",
   "id": "0b890492",
   "metadata": {
    "id": "0b890492"
   },
   "source": [
    "Describe brevemente tus hallazgos y lo que hiciste con ellos.\n",
    "\n",
    "Le que obsvervé es que al momento de aplicar `order_products[order_products.duplicated()]` no hay filas duplicadas.\n",
    "Posteriormente, `order_products.isna().sum()` indica que hay 836 valores duplicados en la columna *add_to_cart_order*. Sin embargo, en la columna *reordered* también hay valores duplicados.\n",
    "\n",
    "Adicional aplique un *for* para sumar los valores duplicados de cada columna."
   ]
  },
  {
   "cell_type": "markdown",
   "id": "1e46de76",
   "metadata": {
    "id": "1e46de76"
   },
   "source": [
    "## Encuentra y elimina los valores ausentes\n",
    "\n",
    "Al trabajar con valores duplicados, pudimos observar que también nos falta investigar valores ausentes:\n",
    "\n",
    "* La columna `'product_name'` de la tabla products.\n",
    "* La columna `'days_since_prior_order'` de la tabla orders.\n",
    "* La columna `'add_to_cart_order'` de la tabla order_productos."
   ]
  },
  {
   "cell_type": "markdown",
   "id": "c0aebd78",
   "metadata": {
    "id": "c0aebd78"
   },
   "source": [
    "### `products` data frame"
   ]
  },
  {
   "cell_type": "code",
   "execution_count": 254,
   "id": "fe4a8b0f",
   "metadata": {
    "id": "fe4a8b0f"
   },
   "outputs": [
    {
     "data": {
      "text/plain": [
       "'hay 1258 en la columna product_name'"
      ]
     },
     "execution_count": 254,
     "metadata": {},
     "output_type": "execute_result"
    }
   ],
   "source": [
    "# Encuentra los valores ausentes en la columna 'product_name'\n",
    "f'hay {products[\"product_name\"].isna().sum()} en la columna product_name'"
   ]
  },
  {
   "cell_type": "markdown",
   "id": "-A6x1AbJhjkp",
   "metadata": {
    "id": "-A6x1AbJhjkp"
   },
   "source": [
    "Describe brevemente cuáles son tus hallazgos.\n",
    "\n",
    "Aplique los métodos isna() y sum() para identificar lo valores nulos y sumarlos."
   ]
  },
  {
   "cell_type": "code",
   "execution_count": 255,
   "id": "e96167bc",
   "metadata": {
    "id": "e96167bc"
   },
   "outputs": [
    {
     "data": {
      "text/html": [
       "<div>\n",
       "<style scoped>\n",
       "    .dataframe tbody tr th:only-of-type {\n",
       "        vertical-align: middle;\n",
       "    }\n",
       "\n",
       "    .dataframe tbody tr th {\n",
       "        vertical-align: top;\n",
       "    }\n",
       "\n",
       "    .dataframe thead th {\n",
       "        text-align: right;\n",
       "    }\n",
       "</style>\n",
       "<table border=\"1\" class=\"dataframe\">\n",
       "  <thead>\n",
       "    <tr style=\"text-align: right;\">\n",
       "      <th></th>\n",
       "      <th>product_id</th>\n",
       "      <th>product_name</th>\n",
       "      <th>aisle_id</th>\n",
       "      <th>department_id</th>\n",
       "    </tr>\n",
       "  </thead>\n",
       "  <tbody>\n",
       "    <tr>\n",
       "      <th>37</th>\n",
       "      <td>38</td>\n",
       "      <td>NaN</td>\n",
       "      <td>100</td>\n",
       "      <td>21</td>\n",
       "    </tr>\n",
       "    <tr>\n",
       "      <th>71</th>\n",
       "      <td>72</td>\n",
       "      <td>NaN</td>\n",
       "      <td>100</td>\n",
       "      <td>21</td>\n",
       "    </tr>\n",
       "    <tr>\n",
       "      <th>109</th>\n",
       "      <td>110</td>\n",
       "      <td>NaN</td>\n",
       "      <td>100</td>\n",
       "      <td>21</td>\n",
       "    </tr>\n",
       "    <tr>\n",
       "      <th>296</th>\n",
       "      <td>297</td>\n",
       "      <td>NaN</td>\n",
       "      <td>100</td>\n",
       "      <td>21</td>\n",
       "    </tr>\n",
       "    <tr>\n",
       "      <th>416</th>\n",
       "      <td>417</td>\n",
       "      <td>NaN</td>\n",
       "      <td>100</td>\n",
       "      <td>21</td>\n",
       "    </tr>\n",
       "    <tr>\n",
       "      <th>...</th>\n",
       "      <td>...</td>\n",
       "      <td>...</td>\n",
       "      <td>...</td>\n",
       "      <td>...</td>\n",
       "    </tr>\n",
       "    <tr>\n",
       "      <th>49552</th>\n",
       "      <td>49553</td>\n",
       "      <td>NaN</td>\n",
       "      <td>100</td>\n",
       "      <td>21</td>\n",
       "    </tr>\n",
       "    <tr>\n",
       "      <th>49574</th>\n",
       "      <td>49575</td>\n",
       "      <td>NaN</td>\n",
       "      <td>100</td>\n",
       "      <td>21</td>\n",
       "    </tr>\n",
       "    <tr>\n",
       "      <th>49640</th>\n",
       "      <td>49641</td>\n",
       "      <td>NaN</td>\n",
       "      <td>100</td>\n",
       "      <td>21</td>\n",
       "    </tr>\n",
       "    <tr>\n",
       "      <th>49663</th>\n",
       "      <td>49664</td>\n",
       "      <td>NaN</td>\n",
       "      <td>100</td>\n",
       "      <td>21</td>\n",
       "    </tr>\n",
       "    <tr>\n",
       "      <th>49668</th>\n",
       "      <td>49669</td>\n",
       "      <td>NaN</td>\n",
       "      <td>100</td>\n",
       "      <td>21</td>\n",
       "    </tr>\n",
       "  </tbody>\n",
       "</table>\n",
       "<p>1258 rows × 4 columns</p>\n",
       "</div>"
      ],
      "text/plain": [
       "       product_id product_name  aisle_id  department_id\n",
       "37             38          NaN       100             21\n",
       "71             72          NaN       100             21\n",
       "109           110          NaN       100             21\n",
       "296           297          NaN       100             21\n",
       "416           417          NaN       100             21\n",
       "...           ...          ...       ...            ...\n",
       "49552       49553          NaN       100             21\n",
       "49574       49575          NaN       100             21\n",
       "49640       49641          NaN       100             21\n",
       "49663       49664          NaN       100             21\n",
       "49668       49669          NaN       100             21\n",
       "\n",
       "[1258 rows x 4 columns]"
      ]
     },
     "execution_count": 255,
     "metadata": {},
     "output_type": "execute_result"
    }
   ],
   "source": [
    "#  ¿Todos los nombres de productos ausentes están relacionados con el pasillo con ID 100?\n",
    "products[products['aisle_id'] == 100]"
   ]
  },
  {
   "cell_type": "markdown",
   "id": "WRpIfXRphpSL",
   "metadata": {
    "id": "WRpIfXRphpSL"
   },
   "source": [
    "Describe brevemente cuáles son tus hallazgos.\n",
    "\n",
    "Sí, los valores austentes están relacionados con el pasilo con ID 100 ya que el numero de columnas coincide con el numero de valores ausentes en la columna *product_name*"
   ]
  },
  {
   "cell_type": "code",
   "execution_count": 256,
   "id": "8fd0a541",
   "metadata": {
    "id": "8fd0a541"
   },
   "outputs": [
    {
     "data": {
      "text/html": [
       "<div>\n",
       "<style scoped>\n",
       "    .dataframe tbody tr th:only-of-type {\n",
       "        vertical-align: middle;\n",
       "    }\n",
       "\n",
       "    .dataframe tbody tr th {\n",
       "        vertical-align: top;\n",
       "    }\n",
       "\n",
       "    .dataframe thead th {\n",
       "        text-align: right;\n",
       "    }\n",
       "</style>\n",
       "<table border=\"1\" class=\"dataframe\">\n",
       "  <thead>\n",
       "    <tr style=\"text-align: right;\">\n",
       "      <th></th>\n",
       "      <th>product_id</th>\n",
       "      <th>product_name</th>\n",
       "      <th>aisle_id</th>\n",
       "      <th>department_id</th>\n",
       "    </tr>\n",
       "  </thead>\n",
       "  <tbody>\n",
       "    <tr>\n",
       "      <th>37</th>\n",
       "      <td>38</td>\n",
       "      <td>NaN</td>\n",
       "      <td>100</td>\n",
       "      <td>21</td>\n",
       "    </tr>\n",
       "    <tr>\n",
       "      <th>71</th>\n",
       "      <td>72</td>\n",
       "      <td>NaN</td>\n",
       "      <td>100</td>\n",
       "      <td>21</td>\n",
       "    </tr>\n",
       "    <tr>\n",
       "      <th>109</th>\n",
       "      <td>110</td>\n",
       "      <td>NaN</td>\n",
       "      <td>100</td>\n",
       "      <td>21</td>\n",
       "    </tr>\n",
       "    <tr>\n",
       "      <th>296</th>\n",
       "      <td>297</td>\n",
       "      <td>NaN</td>\n",
       "      <td>100</td>\n",
       "      <td>21</td>\n",
       "    </tr>\n",
       "    <tr>\n",
       "      <th>416</th>\n",
       "      <td>417</td>\n",
       "      <td>NaN</td>\n",
       "      <td>100</td>\n",
       "      <td>21</td>\n",
       "    </tr>\n",
       "    <tr>\n",
       "      <th>...</th>\n",
       "      <td>...</td>\n",
       "      <td>...</td>\n",
       "      <td>...</td>\n",
       "      <td>...</td>\n",
       "    </tr>\n",
       "    <tr>\n",
       "      <th>49552</th>\n",
       "      <td>49553</td>\n",
       "      <td>NaN</td>\n",
       "      <td>100</td>\n",
       "      <td>21</td>\n",
       "    </tr>\n",
       "    <tr>\n",
       "      <th>49574</th>\n",
       "      <td>49575</td>\n",
       "      <td>NaN</td>\n",
       "      <td>100</td>\n",
       "      <td>21</td>\n",
       "    </tr>\n",
       "    <tr>\n",
       "      <th>49640</th>\n",
       "      <td>49641</td>\n",
       "      <td>NaN</td>\n",
       "      <td>100</td>\n",
       "      <td>21</td>\n",
       "    </tr>\n",
       "    <tr>\n",
       "      <th>49663</th>\n",
       "      <td>49664</td>\n",
       "      <td>NaN</td>\n",
       "      <td>100</td>\n",
       "      <td>21</td>\n",
       "    </tr>\n",
       "    <tr>\n",
       "      <th>49668</th>\n",
       "      <td>49669</td>\n",
       "      <td>NaN</td>\n",
       "      <td>100</td>\n",
       "      <td>21</td>\n",
       "    </tr>\n",
       "  </tbody>\n",
       "</table>\n",
       "<p>1258 rows × 4 columns</p>\n",
       "</div>"
      ],
      "text/plain": [
       "       product_id product_name  aisle_id  department_id\n",
       "37             38          NaN       100             21\n",
       "71             72          NaN       100             21\n",
       "109           110          NaN       100             21\n",
       "296           297          NaN       100             21\n",
       "416           417          NaN       100             21\n",
       "...           ...          ...       ...            ...\n",
       "49552       49553          NaN       100             21\n",
       "49574       49575          NaN       100             21\n",
       "49640       49641          NaN       100             21\n",
       "49663       49664          NaN       100             21\n",
       "49668       49669          NaN       100             21\n",
       "\n",
       "[1258 rows x 4 columns]"
      ]
     },
     "execution_count": 256,
     "metadata": {},
     "output_type": "execute_result"
    }
   ],
   "source": [
    "# ¿Todos los nombres de productos ausentes están relacionados con el departamento con ID 21?\n",
    "products[products['department_id'] == 21]"
   ]
  },
  {
   "cell_type": "markdown",
   "id": "qDpdYn1Fht_I",
   "metadata": {
    "id": "qDpdYn1Fht_I"
   },
   "source": [
    "Describe brevemente cuáles son tus hallazgos.\n",
    "\n",
    "Sí, aplicando la condición `products['department_id'] == 21` en *products* obervamos que hay 1258 filas."
   ]
  },
  {
   "cell_type": "code",
   "execution_count": 257,
   "id": "325c3464",
   "metadata": {
    "id": "325c3464"
   },
   "outputs": [
    {
     "name": "stdout",
     "output_type": "stream",
     "text": [
      "    aisle_id    aisle\n",
      "99       100  missing\n",
      "    department_id department\n",
      "20             21    missing\n"
     ]
    }
   ],
   "source": [
    "# Usa las tablas department y aisle para revisar los datos del pasillo con ID 100 y el departamento con ID 21.\n",
    "print(aisles[aisles['aisle_id'] == 100])\n",
    "print(departments[departments['department_id'] == 21])"
   ]
  },
  {
   "cell_type": "markdown",
   "id": "nqhSTUPhhvEJ",
   "metadata": {
    "id": "nqhSTUPhhvEJ"
   },
   "source": [
    "Describe brevemente cuáles son tus hallazgos.\n",
    "\n",
    "Al revisar las tabals con las condiciones correspondientes observamos que su información aparece como *missing*"
   ]
  },
  {
   "cell_type": "code",
   "execution_count": 258,
   "id": "6b295120",
   "metadata": {
    "id": "6b295120"
   },
   "outputs": [
    {
     "name": "stdout",
     "output_type": "stream",
     "text": [
      "    aisle_id   aisle\n",
      "99       100  Unkown\n",
      "    department_id department\n",
      "20             21     Unkown\n"
     ]
    }
   ],
   "source": [
    "# Completa los nombres de productos ausentes con 'Unknown'\n",
    "aisles = aisles.replace('missing','Unkown')\n",
    "departments = departments.replace('missing','Unkown')\n",
    "print(aisles[aisles['aisle_id'] == 100])\n",
    "print(departments[departments['department_id'] == 21])"
   ]
  },
  {
   "cell_type": "code",
   "execution_count": 259,
   "id": "2900cce1",
   "metadata": {},
   "outputs": [],
   "source": [
    "#Correcion.\n",
    "products = products.fillna('Unknown')"
   ]
  },
  {
   "cell_type": "markdown",
   "id": "62044f3e",
   "metadata": {},
   "source": [
    "<div class=\"alert alert-block alert-danger\">\n",
    "\n",
    "<b>Comentario del revisor</b> <a class=\"tocSkip\"></a>\n",
    "\n",
    "En este caso no estas remplazando los nulos, solo estas cambiando una palabra.\n",
    "\n",
    "Hay 1258 nulos, rellenalos con la palabra `Unknown`.</div>"
   ]
  },
  {
   "cell_type": "markdown",
   "id": "3dcac75b",
   "metadata": {},
   "source": [
    "<div class=\"alert alert-block alert-info\">\n",
    "<b>Respuesta del estudiante</b> <a class=\"tocSkip\"></a>\n",
    "\n",
    "Hubo una confusión aquí, creí que en esta parte los valores ausentes era lo que tenían palabras *missing*.\n",
    "\n",
    "Llené los valores ausentes (Nan) por la plabra *Unkown* con el método `fillna`\n",
    "</div>\n",
    "\n",
    "<div class=\"alert alert-block alert-success\">\n",
    "\n",
    "<b>Comentario del revisor #2</b> <a class=\"tocSkip\"></a>\n",
    "\n",
    "Corregido. Muy bien.\n",
    "\n",
    "</div>\n"
   ]
  },
  {
   "cell_type": "markdown",
   "id": "fc70e5ad",
   "metadata": {
    "id": "fc70e5ad"
   },
   "source": [
    "Describe brevemente tus hallazgos y lo que hiciste con ellos.\n",
    "\n",
    "Apliqué el método replace para reeemplazar la cadena 'missing' por 'Unkown'. Posteriormente consulté el cambio."
   ]
  },
  {
   "cell_type": "markdown",
   "id": "7eb45c86",
   "metadata": {
    "id": "7eb45c86"
   },
   "source": [
    "### `orders` data frame"
   ]
  },
  {
   "cell_type": "code",
   "execution_count": 260,
   "id": "93e41d96",
   "metadata": {
    "id": "93e41d96"
   },
   "outputs": [
    {
     "data": {
      "text/plain": [
       "order_id                      0\n",
       "user_id                       0\n",
       "order_number                  0\n",
       "order_dow                     0\n",
       "order_hour_of_day             0\n",
       "days_since_prior_order    28817\n",
       "dtype: int64"
      ]
     },
     "execution_count": 260,
     "metadata": {},
     "output_type": "execute_result"
    }
   ],
   "source": [
    "# Encuentra los valores ausentes\n",
    "instacart_orders.isna().sum()"
   ]
  },
  {
   "cell_type": "code",
   "execution_count": 261,
   "id": "166e5a86",
   "metadata": {
    "id": "166e5a86"
   },
   "outputs": [
    {
     "data": {
      "text/html": [
       "<div>\n",
       "<style scoped>\n",
       "    .dataframe tbody tr th:only-of-type {\n",
       "        vertical-align: middle;\n",
       "    }\n",
       "\n",
       "    .dataframe tbody tr th {\n",
       "        vertical-align: top;\n",
       "    }\n",
       "\n",
       "    .dataframe thead th {\n",
       "        text-align: right;\n",
       "    }\n",
       "</style>\n",
       "<table border=\"1\" class=\"dataframe\">\n",
       "  <thead>\n",
       "    <tr style=\"text-align: right;\">\n",
       "      <th></th>\n",
       "      <th>order_id</th>\n",
       "      <th>user_id</th>\n",
       "      <th>order_number</th>\n",
       "      <th>order_dow</th>\n",
       "      <th>order_hour_of_day</th>\n",
       "      <th>days_since_prior_order</th>\n",
       "    </tr>\n",
       "  </thead>\n",
       "  <tbody>\n",
       "    <tr>\n",
       "      <th>28</th>\n",
       "      <td>133707</td>\n",
       "      <td>182261</td>\n",
       "      <td>1</td>\n",
       "      <td>3</td>\n",
       "      <td>10</td>\n",
       "      <td>NaN</td>\n",
       "    </tr>\n",
       "    <tr>\n",
       "      <th>96</th>\n",
       "      <td>787445</td>\n",
       "      <td>25685</td>\n",
       "      <td>1</td>\n",
       "      <td>6</td>\n",
       "      <td>18</td>\n",
       "      <td>NaN</td>\n",
       "    </tr>\n",
       "    <tr>\n",
       "      <th>100</th>\n",
       "      <td>294410</td>\n",
       "      <td>111449</td>\n",
       "      <td>1</td>\n",
       "      <td>0</td>\n",
       "      <td>19</td>\n",
       "      <td>NaN</td>\n",
       "    </tr>\n",
       "    <tr>\n",
       "      <th>103</th>\n",
       "      <td>2869915</td>\n",
       "      <td>123958</td>\n",
       "      <td>1</td>\n",
       "      <td>4</td>\n",
       "      <td>16</td>\n",
       "      <td>NaN</td>\n",
       "    </tr>\n",
       "    <tr>\n",
       "      <th>104</th>\n",
       "      <td>2521921</td>\n",
       "      <td>42286</td>\n",
       "      <td>1</td>\n",
       "      <td>3</td>\n",
       "      <td>18</td>\n",
       "      <td>NaN</td>\n",
       "    </tr>\n",
       "    <tr>\n",
       "      <th>...</th>\n",
       "      <td>...</td>\n",
       "      <td>...</td>\n",
       "      <td>...</td>\n",
       "      <td>...</td>\n",
       "      <td>...</td>\n",
       "      <td>...</td>\n",
       "    </tr>\n",
       "    <tr>\n",
       "      <th>478895</th>\n",
       "      <td>2589657</td>\n",
       "      <td>205028</td>\n",
       "      <td>1</td>\n",
       "      <td>0</td>\n",
       "      <td>16</td>\n",
       "      <td>NaN</td>\n",
       "    </tr>\n",
       "    <tr>\n",
       "      <th>478896</th>\n",
       "      <td>2222353</td>\n",
       "      <td>141211</td>\n",
       "      <td>1</td>\n",
       "      <td>2</td>\n",
       "      <td>13</td>\n",
       "      <td>NaN</td>\n",
       "    </tr>\n",
       "    <tr>\n",
       "      <th>478922</th>\n",
       "      <td>2272807</td>\n",
       "      <td>204154</td>\n",
       "      <td>1</td>\n",
       "      <td>1</td>\n",
       "      <td>15</td>\n",
       "      <td>NaN</td>\n",
       "    </tr>\n",
       "    <tr>\n",
       "      <th>478926</th>\n",
       "      <td>2499542</td>\n",
       "      <td>68810</td>\n",
       "      <td>1</td>\n",
       "      <td>4</td>\n",
       "      <td>19</td>\n",
       "      <td>NaN</td>\n",
       "    </tr>\n",
       "    <tr>\n",
       "      <th>478945</th>\n",
       "      <td>1387033</td>\n",
       "      <td>22496</td>\n",
       "      <td>1</td>\n",
       "      <td>5</td>\n",
       "      <td>14</td>\n",
       "      <td>NaN</td>\n",
       "    </tr>\n",
       "  </tbody>\n",
       "</table>\n",
       "<p>28817 rows × 6 columns</p>\n",
       "</div>"
      ],
      "text/plain": [
       "        order_id  user_id  order_number  order_dow  order_hour_of_day  \\\n",
       "28        133707   182261             1          3                 10   \n",
       "96        787445    25685             1          6                 18   \n",
       "100       294410   111449             1          0                 19   \n",
       "103      2869915   123958             1          4                 16   \n",
       "104      2521921    42286             1          3                 18   \n",
       "...          ...      ...           ...        ...                ...   \n",
       "478895   2589657   205028             1          0                 16   \n",
       "478896   2222353   141211             1          2                 13   \n",
       "478922   2272807   204154             1          1                 15   \n",
       "478926   2499542    68810             1          4                 19   \n",
       "478945   1387033    22496             1          5                 14   \n",
       "\n",
       "        days_since_prior_order  \n",
       "28                         NaN  \n",
       "96                         NaN  \n",
       "100                        NaN  \n",
       "103                        NaN  \n",
       "104                        NaN  \n",
       "...                        ...  \n",
       "478895                     NaN  \n",
       "478896                     NaN  \n",
       "478922                     NaN  \n",
       "478926                     NaN  \n",
       "478945                     NaN  \n",
       "\n",
       "[28817 rows x 6 columns]"
      ]
     },
     "execution_count": 261,
     "metadata": {},
     "output_type": "execute_result"
    }
   ],
   "source": [
    "# ¿Hay algún valor ausente que no sea el primer pedido del cliente?\n",
    "instacart_orders[instacart_orders['days_since_prior_order'].isna()]"
   ]
  },
  {
   "cell_type": "markdown",
   "id": "4e23d089",
   "metadata": {
    "id": "4e23d089"
   },
   "source": [
    "Describe brevemente tus hallazgos y lo que hiciste con ellos.\n",
    "\n",
    "Sí, hay valores ausentes en la columna `days_since_prior_order`"
   ]
  },
  {
   "cell_type": "markdown",
   "id": "69dc9ca4",
   "metadata": {
    "id": "69dc9ca4"
   },
   "source": [
    "### `order_products` data frame"
   ]
  },
  {
   "cell_type": "code",
   "execution_count": 262,
   "id": "b8240253",
   "metadata": {
    "id": "b8240253"
   },
   "outputs": [
    {
     "data": {
      "text/plain": [
       "order_id               0\n",
       "product_id             0\n",
       "add_to_cart_order    836\n",
       "reordered              0\n",
       "dtype: int64"
      ]
     },
     "execution_count": 262,
     "metadata": {},
     "output_type": "execute_result"
    }
   ],
   "source": [
    "# Encuentra los valores ausentes\n",
    "order_products.isna().sum()"
   ]
  },
  {
   "cell_type": "code",
   "execution_count": 263,
   "id": "9a78e5ee",
   "metadata": {
    "id": "9a78e5ee"
   },
   "outputs": [
    {
     "name": "stdout",
     "output_type": "stream",
     "text": [
      "64.0\n",
      "1.0\n"
     ]
    }
   ],
   "source": [
    "# ¿Cuáles son los valores mínimos y máximos en esta columna?\n",
    "print(order_products['add_to_cart_order'].max())\n",
    "print(order_products['add_to_cart_order'].min())"
   ]
  },
  {
   "cell_type": "markdown",
   "id": "-Z2Ja215jW78",
   "metadata": {
    "id": "-Z2Ja215jW78"
   },
   "source": [
    "Describe brevemente cuáles son tus hallazgos.\n",
    "\n",
    "Los valores ausentes se calcularon de igual forma que en pasos anteriores, se usó isna() y sum(). Solo hay valores ausente en la columna `add_to_cart_order`. \n",
    "\n",
    "Los valores máximos y mínimos se calcularon con con los métodos `max()` y `min()` en la columna `add_to_cart_order`"
   ]
  },
  {
   "cell_type": "code",
   "execution_count": 264,
   "id": "8596f6b2",
   "metadata": {},
   "outputs": [
    {
     "data": {
      "text/html": [
       "<div>\n",
       "<style scoped>\n",
       "    .dataframe tbody tr th:only-of-type {\n",
       "        vertical-align: middle;\n",
       "    }\n",
       "\n",
       "    .dataframe tbody tr th {\n",
       "        vertical-align: top;\n",
       "    }\n",
       "\n",
       "    .dataframe thead th {\n",
       "        text-align: right;\n",
       "    }\n",
       "</style>\n",
       "<table border=\"1\" class=\"dataframe\">\n",
       "  <thead>\n",
       "    <tr style=\"text-align: right;\">\n",
       "      <th></th>\n",
       "      <th>order_id</th>\n",
       "      <th>product_id</th>\n",
       "      <th>add_to_cart_order</th>\n",
       "      <th>reordered</th>\n",
       "    </tr>\n",
       "  </thead>\n",
       "  <tbody>\n",
       "    <tr>\n",
       "      <th>737</th>\n",
       "      <td>2449164</td>\n",
       "      <td>5068</td>\n",
       "      <td>NaN</td>\n",
       "      <td>0</td>\n",
       "    </tr>\n",
       "    <tr>\n",
       "      <th>9926</th>\n",
       "      <td>1968313</td>\n",
       "      <td>43867</td>\n",
       "      <td>NaN</td>\n",
       "      <td>0</td>\n",
       "    </tr>\n",
       "    <tr>\n",
       "      <th>14394</th>\n",
       "      <td>2926893</td>\n",
       "      <td>11688</td>\n",
       "      <td>NaN</td>\n",
       "      <td>0</td>\n",
       "    </tr>\n",
       "    <tr>\n",
       "      <th>16418</th>\n",
       "      <td>1717990</td>\n",
       "      <td>4142</td>\n",
       "      <td>NaN</td>\n",
       "      <td>0</td>\n",
       "    </tr>\n",
       "    <tr>\n",
       "      <th>30114</th>\n",
       "      <td>1959075</td>\n",
       "      <td>42828</td>\n",
       "      <td>NaN</td>\n",
       "      <td>1</td>\n",
       "    </tr>\n",
       "    <tr>\n",
       "      <th>...</th>\n",
       "      <td>...</td>\n",
       "      <td>...</td>\n",
       "      <td>...</td>\n",
       "      <td>...</td>\n",
       "    </tr>\n",
       "    <tr>\n",
       "      <th>4505662</th>\n",
       "      <td>1800005</td>\n",
       "      <td>7411</td>\n",
       "      <td>NaN</td>\n",
       "      <td>0</td>\n",
       "    </tr>\n",
       "    <tr>\n",
       "      <th>4511400</th>\n",
       "      <td>1633337</td>\n",
       "      <td>260</td>\n",
       "      <td>NaN</td>\n",
       "      <td>0</td>\n",
       "    </tr>\n",
       "    <tr>\n",
       "      <th>4517562</th>\n",
       "      <td>404157</td>\n",
       "      <td>9517</td>\n",
       "      <td>NaN</td>\n",
       "      <td>0</td>\n",
       "    </tr>\n",
       "    <tr>\n",
       "      <th>4534112</th>\n",
       "      <td>1673227</td>\n",
       "      <td>17835</td>\n",
       "      <td>NaN</td>\n",
       "      <td>0</td>\n",
       "    </tr>\n",
       "    <tr>\n",
       "      <th>4535739</th>\n",
       "      <td>1832957</td>\n",
       "      <td>17949</td>\n",
       "      <td>NaN</td>\n",
       "      <td>1</td>\n",
       "    </tr>\n",
       "  </tbody>\n",
       "</table>\n",
       "<p>836 rows × 4 columns</p>\n",
       "</div>"
      ],
      "text/plain": [
       "         order_id  product_id  add_to_cart_order  reordered\n",
       "737       2449164        5068                NaN          0\n",
       "9926      1968313       43867                NaN          0\n",
       "14394     2926893       11688                NaN          0\n",
       "16418     1717990        4142                NaN          0\n",
       "30114     1959075       42828                NaN          1\n",
       "...           ...         ...                ...        ...\n",
       "4505662   1800005        7411                NaN          0\n",
       "4511400   1633337         260                NaN          0\n",
       "4517562    404157        9517                NaN          0\n",
       "4534112   1673227       17835                NaN          0\n",
       "4535739   1832957       17949                NaN          1\n",
       "\n",
       "[836 rows x 4 columns]"
      ]
     },
     "execution_count": 264,
     "metadata": {},
     "output_type": "execute_result"
    }
   ],
   "source": [
    "order_products[order_products['add_to_cart_order'].isna()]"
   ]
  },
  {
   "cell_type": "code",
   "execution_count": 265,
   "id": "ab9d0c2b",
   "metadata": {
    "id": "ab9d0c2b"
   },
   "outputs": [
    {
     "name": "stdout",
     "output_type": "stream",
     "text": [
      "[2449164 1968313 2926893 1717990 1959075  844733   61355  936852  264710\n",
      " 1564093  129627  293169 2849370 1386261 3308010  903110 2136777 3347453\n",
      " 1888628  165801 2094761 1038146 2997021  813364 2256933  171934 2409109\n",
      " 1730767 1169835  733526  404157 3125735  747668 1800005 1961723  871281\n",
      "  388234 1648217 1477139  102236 1021563 1832957 2721963  678116 1220886\n",
      " 1673227 2999801 1633337 2470674 2625444 1677118 2479011 3383594 1183255\n",
      " 1713430 2652650 1598369 1916118  854647 1302315  888470  180546 2621907\n",
      " 1308785 2729254    9310 2170451 2979697 1625713 1529171]\n"
     ]
    },
    {
     "data": {
      "text/plain": [
       "'Los IDs de pedidos que tiene  valor ausente en add_to_cart_order son [2449164 1968313 2926893 1717990 1959075  844733   61355  936852  264710\\n 1564093  129627  293169 2849370 1386261 3308010  903110 2136777 3347453\\n 1888628  165801 2094761 1038146 2997021  813364 2256933  171934 2409109\\n 1730767 1169835  733526  404157 3125735  747668 1800005 1961723  871281\\n  388234 1648217 1477139  102236 1021563 1832957 2721963  678116 1220886\\n 1673227 2999801 1633337 2470674 2625444 1677118 2479011 3383594 1183255\\n 1713430 2652650 1598369 1916118  854647 1302315  888470  180546 2621907\\n 1308785 2729254    9310 2170451 2979697 1625713 1529171]'"
      ]
     },
     "execution_count": 265,
     "metadata": {},
     "output_type": "execute_result"
    }
   ],
   "source": [
    "# Guarda todas las IDs de pedidos que tengan un valor ausente en 'add_to_cart_order'\n",
    "order_id_atco_nan = order_products[order_products['add_to_cart_order'].isnull()]\n",
    "print(order_id_atco_nan['order_id'].unique())\n",
    "f'Los IDs de pedidos que tiene  valor ausente en add_to_cart_order son {order_id_atco_nan[\"order_id\"].unique()}'"
   ]
  },
  {
   "cell_type": "code",
   "execution_count": 266,
   "id": "3653bc2c",
   "metadata": {
    "id": "54c31695"
   },
   "outputs": [
    {
     "name": "stdout",
     "output_type": "stream",
     "text": [
      "--------------------------------------------Sección ya no valida--------------------------------------------\n",
      "Todos los pedidos con valores ausentes tienen 70 productos.\n",
      "\n",
      "Pedidos con datos ausentes por su ID agrupados y guardados en memoria:\n",
      " <pandas.core.groupby.generic.DataFrameGroupBy object at 0x7fa26589ee80>\n",
      "\n",
      "Después de contar el número de product_id decada pedido calculamos el valor mínimo y es:\n",
      " 836 \n",
      "\n"
     ]
    }
   ],
   "source": [
    "print('--------------------------------------------Sección ya no valida--------------------------------------------')\n",
    "# ¿Todos los pedidos con valores ausentes tienen más de 64 productos?\n",
    "print('Todos los pedidos con valores ausentes tienen {pr} productos.\\n'.format(pr=order_id_atco_nan['order_id'].nunique()))\n",
    "# Agrupa todos los pedidos con datos ausentes por su ID de pedido.\n",
    "order_id_grouped = order_id_atco_nan.groupby('order_id')\n",
    "print('Pedidos con datos ausentes por su ID agrupados y guardados en memoria:\\n {gr}\\n'.format(gr=order_id_grouped))\n",
    "# Cuenta el número de 'product_id' en cada pedido y revisa el valor mínimo del conteo.\n",
    "print('Después de contar el número de product_id decada pedido calculamos el valor mínimo y es:\\n {c_min} \\n'\n",
    "      .format(c_min=order_id_atco_nan['product_id'].count().min()))"
   ]
  },
  {
   "cell_type": "code",
   "execution_count": 267,
   "id": "01baf51a",
   "metadata": {},
   "outputs": [
    {
     "name": "stdout",
     "output_type": "stream",
     "text": [
      "No, ningun de los pedidios con valores ausentes tienen más de 64.\n",
      " order_id\n",
      "61355      63\n",
      "3308010    51\n",
      "2136777    44\n",
      "171934     40\n",
      "1959075    34\n",
      "           ..\n",
      "888470      1\n",
      "1598369     1\n",
      "747668      1\n",
      "1677118     1\n",
      "9310        1\n",
      "Name: product_id, Length: 70, dtype: int64\n",
      "\n",
      "Todos los pedidos con datos ausentes por su ID agrupados y guardados en memoria:\n",
      " <pandas.core.groupby.generic.DataFrameGroupBy object at 0x7fa2658dd370>\n",
      "\n",
      "Después de contar el número de product_id decada pedido calculamos el valor mínimo y es:\n",
      " 1\n",
      "\n"
     ]
    }
   ],
   "source": [
    "#Corrección 2\n",
    "grp_order_id_atco_nan = order_id_atco_nan.groupby('order_id')\n",
    "grp_order_id_atco_nan\n",
    "# ¿Todos los pedidos con valores ausentes tienen más de 64 productos?\n",
    "print('No, ningun de los pedidios con valores ausentes tienen más de 64.\\n {pr}\\n'.\\\n",
    "      format(pr=grp_order_id_atco_nan.count()['product_id'].sort_values(ascending=False)))\n",
    "# Agrupa todos los pedidos con datos ausentes por su ID de pedido.\n",
    "grp_order_products = order_products.groupby('order_id')\n",
    "print('Todos los pedidos con datos ausentes por su ID agrupados y guardados en memoria:\\n {gr}\\n'.format(gr=grp_order_products))\n",
    "# Cuenta el número de 'product_id' en cada pedido y revisa el valor mínimo del conteo.\n",
    "print('Después de contar el número de product_id decada pedido calculamos el valor mínimo y es:\\n {c_min}\\n'.\\\n",
    "      format(c_min=grp_order_products.count()['product_id'].min()))"
   ]
  },
  {
   "cell_type": "markdown",
   "id": "a2f45267",
   "metadata": {},
   "source": [
    "<div class=\"alert alert-block alert-danger\">\n",
    "<b>Comentario del revisor </b> <a class=\"tocSkip\"></a>\n",
    "\n",
    "No estas logrando el resultado esperado, lo que debes buscar son las `order_id` que tienen valores ausentes en la columna 'add_to_cart_order'.\n",
    "\n",
    "Después de identificar los IDs -unicos- de pedidos con valores ausentes, asegúrate de filtrar el DataFrame original para incluir solo las filas correspondientes a esos IDs de pedidos antes de realizar la agrupación (Verifica que se encuentren en el primer filtrado los datos). Esto asegurará que estás trabajando solo con los datos relevantes. (Como consejo utiliza en la agrupacion la id de orden pero utilizando el metodo unique para depurar)\n",
    "\n",
    "Al calcular la cantidad mínima de productos, asegúrate de que estás obteniendo la cantidad mínima de productos en un solo pedido con valores ausentes, no la cantidad mínima entre todos los pedidos agrupados. Revisa cómo estás aplicando la función de conteo y la función de mínimo para obtener el resultado correcto.</div>"
   ]
  },
  {
   "cell_type": "markdown",
   "id": "211fe74e",
   "metadata": {},
   "source": [
    "<div class=\"alert alert-block alert-info\">\n",
    "<b>Respuesta del estudiante</b> <a class=\"tocSkip\"></a>\n",
    "\n",
    "Me parece que sí hice lo correcto, como lo escrito en al descripción se aplicó en la columna `add_to_cart_order` del df `order_products` el método `isnull` para después aplicar el filtro en el df. Posteriormente se visualizó la columna `order_id`. Solo me faltó un incluir el método `unique`. ¿Cierto?\n",
    "\n",
    "*Ejemplo*:\n",
    "    `order_id_atco_nan = order_products[order_products['add_to_cart_order'].isnull()]\n",
    "         print(order_id_atco_nan['order_id'])`\n",
    "    \n",
    "    \n",
    " Me parece con son algo claro lo que piden es por eso que es lago confuso; por ejemplo, me piden que *agrupe todos los pedidos con datos ausentes por su ID de pedido*, pero ¿sin usarlo? ya que en la tercera pregunta indica que *cuente el número de 'product_id' en cada pedido y revisa el valor mínimo del conteo* pero sin la agrupación previamente mencionada?.\n",
    "</div>\n",
    "\n",
    "\n",
    "<div class=\"alert alert-block alert-warning\">\n",
    "\n",
    "<b>Comentario del revisor #2</b> <a class=\"tocSkip\"></a>\n",
    "\n",
    "Lo que pasa al hacerlo de esa forma no estariamos realizando la cruzada entre los datos ausentes.\n",
    "    \n",
    " Lo que buscamos es verificar si cada pedido tiene mas de 64 articulos (Ya que parece un valor muy arbitrario) y por eso te deje una guia de una forma de hacerlo, lo que tenes que hacer es crear una tabla filtrada que incluya los id de pedidos ausentes (Es decir que contenga esos datos faltantes pero solo de esa columna) pero a su vez queremos mantener las filas para cada uno de los pedidos y no solo aquellas filas con valores ausentes.\n",
    "    \n",
    "La mejor opcion puede ser realizar una lista de los ids de pedido que se relacionan de alguna forma con un valor ausente.\n",
    "    \n",
    "  Luego de hacerla **agrumando** por id y contando el numero de filas nos arrojara un minimo distinto al que veniamos trayendo de esa columna. Confirmando seguramente la hipotesis de que era muy arbitrario ese valor.\n",
    "    \n",
    "\n",
    "</div>\n",
    "\n"
   ]
  },
  {
   "cell_type": "markdown",
   "id": "344d9979",
   "metadata": {},
   "source": [
    "<div class=\"alert alert-block alert-info\">\n",
    "<b>Respuesta del estudiante #2</b> <a class=\"tocSkip\"></a>\n",
    "\n",
    "Enterado!\n",
    "\n",
    "Ya me quedó más claro a la correcta solución. No se que tan buneo sea eso, en inistir en aclarar un poco más las dudas.\n",
    "    \n",
    "Describo lo que hice.\n",
    "\n",
    "Para inciar, agrupé todo los IDs de pedidos con valores ausentes en `add_to_cart_order` y guardado en la variable `grp_order_id_atco_nan`. Posterioremente, conté el número de producto de `grp_order_id_atco_nan` de la columna `product_id` y lo ordené de mayor a menor para saber el número de productos por orden, y respodner la pregunta 1. Una vez hehco eso, agrupé por `odrer_id` el df `order_product`, que incluye todos los pedidos, incluyendo los que tienen datos ausentes. \n",
    "Finalmente, el valor mínimo de productos por orden es 1.\n",
    "    \n",
    "¿Es correcto así?\n",
    "</div>\n",
    "\n",
    "<div class=\"alert alert-block alert-success\">\n",
    "<b>Respuesta del estudiante #3</b> <a class=\"tocSkip\"></a>\n",
    "    \n",
    "Corregido, excelente Jose.\n",
    "</div>\n"
   ]
  },
  {
   "cell_type": "markdown",
   "id": "p9V6pddtjglj",
   "metadata": {
    "id": "p9V6pddtjglj"
   },
   "source": [
    "Describe brevemente cuáles son tus hallazgos.\n",
    "\n",
    "Primero, se aplicó en la columna `add_to_cart_order` el método isnull para calcular los valores ausentes y aplicar un filtro en el df y guarda como nuevo df. \n",
    "Segundo, se calculó el número de valores únicos de ID de pedidos con el método nunique().\n",
    "Tercero, se agruparon todos los pedidos por su ID.\n",
    "Finalmente, en esa agurpación se calcularon la cuenta de número de products_id y el valor mínimo de este, con los métodos `count()` y `min()`"
   ]
  },
  {
   "cell_type": "code",
   "execution_count": 268,
   "id": "7a987d08",
   "metadata": {
    "id": "7a987d08"
   },
   "outputs": [
    {
     "name": "stdout",
     "output_type": "stream",
     "text": [
      "Verificar si hay valores ausentes en el df original\n",
      "\n",
      "order_id             0\n",
      "product_id           0\n",
      "add_to_cart_order    0\n",
      "reordered            0\n",
      "dtype: int64\n",
      "\n",
      "Segunda verificacion.\n",
      "\n",
      "order_id             2449164.0\n",
      "product_id              5068.0\n",
      "add_to_cart_order          NaN\n",
      "reordered                  0.0\n",
      "Name: 737, dtype: float64\n",
      "\n",
      "\n",
      "order_id             2449164\n",
      "product_id              5068\n",
      "add_to_cart_order        999\n",
      "reordered                  0\n",
      "Name: 737, dtype: int64\n"
     ]
    }
   ],
   "source": [
    "# Remplaza los valores ausentes en la columna 'add_to_cart' con 999 y convierte la columna al tipo entero.\n",
    "order_products['add_to_cart_order'] = order_products['add_to_cart_order'].fillna(999).astype('int')\n",
    "print('Verificar si hay valores ausentes en el df original\\n')\n",
    "print(order_products.isnull().sum())\n",
    "print('\\nSegunda verificacion.\\n')\n",
    "print(order_id_atco_nan.loc[737])\n",
    "print('\\n')\n",
    "print(order_products.loc[737])"
   ]
  },
  {
   "cell_type": "markdown",
   "id": "fea4bcc7",
   "metadata": {
    "id": "fea4bcc7"
   },
   "source": [
    "Describe brevemente tus hallazgos y lo que hiciste con ellos.\n",
    "\n",
    "Se utilizó el método fillna() para llenar los valores ausentes por el valor 999 en el df original, después se calculo el número de valores ausentes para corroborar. Finalmente se hizo una segunda corroboración y se compararon el df, donde se guardaron los valores ausentes, y el df original en la fila 737 de cada uno. Se observó que se hizo dicho cambio."
   ]
  },
  {
   "cell_type": "markdown",
   "id": "RnplPFY1gSrb",
   "metadata": {
    "id": "RnplPFY1gSrb"
   },
   "source": [
    "## Conclusiones\n",
    "\n",
    "Escribe aquí tus conclusiones intermedias sobre el Paso 2. Preprocesamiento de los datos\n",
    "\n",
    "\n",
    "En este segunda parte se puso en práctica como visulizar, consultar y editar valores duplicados, valores ausentes, sustitucion de estos valores y agrupación para la limpieza de nuestros datos y tengan más congruencia al momento de presentarlos. Se usaron diferentes métodos y atributos para llevar a cabo esta actividad y es muy importante tener en cuenta simpere estos pasos al momento de preprocesarlos."
   ]
  },
  {
   "cell_type": "markdown",
   "id": "UjrOIwTcz3ri",
   "metadata": {
    "id": "UjrOIwTcz3ri"
   },
   "source": [
    "# Paso 3. Análisis de los datos\n",
    "\n",
    "Una vez los datos estén procesados y listos, haz el siguiente análisis:"
   ]
  },
  {
   "cell_type": "markdown",
   "id": "turkish-kidney",
   "metadata": {
    "id": "turkish-kidney"
   },
   "source": [
    "# [A] Fácil (deben completarse todos para aprobar)\n",
    "\n",
    "1. Verifica que los valores en las columnas `'order_hour_of_day'` y `'order_dow'` en la tabla orders sean razonables (es decir, `'order_hour_of_day'` oscile entre 0 y 23 y `'order_dow'` oscile entre 0 y 6).\n",
    "2. Crea un gráfico que muestre el número de personas que hacen pedidos dependiendo de la hora del día.\n",
    "3. Crea un gráfico que muestre qué día de la semana la gente hace sus compras.\n",
    "4. Crea un gráfico que muestre el tiempo que la gente espera hasta hacer su siguiente pedido, y comenta sobre los valores mínimos y máximos."
   ]
  },
  {
   "cell_type": "markdown",
   "id": "short-capability",
   "metadata": {
    "id": "short-capability"
   },
   "source": [
    "### [A1] Verifica que los valores sean sensibles"
   ]
  },
  {
   "cell_type": "code",
   "execution_count": 269,
   "id": "growing-fruit",
   "metadata": {
    "id": "growing-fruit"
   },
   "outputs": [
    {
     "data": {
      "text/plain": [
       "[0,\n",
       " 1,\n",
       " 2,\n",
       " 3,\n",
       " 4,\n",
       " 5,\n",
       " 6,\n",
       " 7,\n",
       " 8,\n",
       " 9,\n",
       " 10,\n",
       " 11,\n",
       " 12,\n",
       " 13,\n",
       " 14,\n",
       " 15,\n",
       " 16,\n",
       " 17,\n",
       " 18,\n",
       " 19,\n",
       " 20,\n",
       " 21,\n",
       " 22,\n",
       " 23]"
      ]
     },
     "execution_count": 269,
     "metadata": {},
     "output_type": "execute_result"
    }
   ],
   "source": [
    "sorted(instacart_orders['order_hour_of_day'].unique())"
   ]
  },
  {
   "cell_type": "code",
   "execution_count": 270,
   "id": "accessory-malaysia",
   "metadata": {
    "id": "accessory-malaysia"
   },
   "outputs": [
    {
     "data": {
      "text/plain": [
       "[0, 1, 2, 3, 4, 5, 6]"
      ]
     },
     "execution_count": 270,
     "metadata": {},
     "output_type": "execute_result"
    }
   ],
   "source": [
    "sorted(instacart_orders['order_dow'].unique())"
   ]
  },
  {
   "cell_type": "markdown",
   "id": "hmR2GNQ6lCsX",
   "metadata": {
    "id": "hmR2GNQ6lCsX"
   },
   "source": [
    "Escribe aquí tus conclusiones.\n",
    "\n",
    "En esta sección hice lo siguiente:\n",
    "\n",
    "- Calculé los valores únicos en orden numérico para verificiar que sena sensibles.\n",
    "- Se utilizó el método de pandas `unique` y la función `sorted`de python"
   ]
  },
  {
   "cell_type": "markdown",
   "id": "f0f885af",
   "metadata": {},
   "source": [
    "<div class=\"alert alert-block alert-success\">\n",
    "\n",
    "<b>Comentario del revisor</b> <a class=\"tocSkip\"></a>\n",
    "\n",
    "Muy bien.</div>"
   ]
  },
  {
   "cell_type": "markdown",
   "id": "a6743a70",
   "metadata": {
    "id": "a6743a70"
   },
   "source": [
    "### [A2] Para cada hora del día, ¿cuántas personas hacen órdenes?"
   ]
  },
  {
   "cell_type": "code",
   "execution_count": 271,
   "id": "08d0ffe0",
   "metadata": {
    "scrolled": false
   },
   "outputs": [
    {
     "data": {
      "text/html": [
       "<div>\n",
       "<style scoped>\n",
       "    .dataframe tbody tr th:only-of-type {\n",
       "        vertical-align: middle;\n",
       "    }\n",
       "\n",
       "    .dataframe tbody tr th {\n",
       "        vertical-align: top;\n",
       "    }\n",
       "\n",
       "    .dataframe thead th {\n",
       "        text-align: right;\n",
       "    }\n",
       "</style>\n",
       "<table border=\"1\" class=\"dataframe\">\n",
       "  <thead>\n",
       "    <tr style=\"text-align: right;\">\n",
       "      <th></th>\n",
       "      <th>order_id</th>\n",
       "      <th>user_id</th>\n",
       "      <th>order_number</th>\n",
       "      <th>order_dow</th>\n",
       "      <th>order_hour_of_day</th>\n",
       "      <th>days_since_prior_order</th>\n",
       "    </tr>\n",
       "  </thead>\n",
       "  <tbody>\n",
       "    <tr>\n",
       "      <th>0</th>\n",
       "      <td>1515936</td>\n",
       "      <td>183418</td>\n",
       "      <td>11</td>\n",
       "      <td>6</td>\n",
       "      <td>13</td>\n",
       "      <td>30.0</td>\n",
       "    </tr>\n",
       "    <tr>\n",
       "      <th>1</th>\n",
       "      <td>1690866</td>\n",
       "      <td>163593</td>\n",
       "      <td>5</td>\n",
       "      <td>5</td>\n",
       "      <td>12</td>\n",
       "      <td>9.0</td>\n",
       "    </tr>\n",
       "    <tr>\n",
       "      <th>2</th>\n",
       "      <td>1454967</td>\n",
       "      <td>39980</td>\n",
       "      <td>4</td>\n",
       "      <td>5</td>\n",
       "      <td>19</td>\n",
       "      <td>2.0</td>\n",
       "    </tr>\n",
       "    <tr>\n",
       "      <th>3</th>\n",
       "      <td>1768857</td>\n",
       "      <td>82516</td>\n",
       "      <td>56</td>\n",
       "      <td>0</td>\n",
       "      <td>20</td>\n",
       "      <td>10.0</td>\n",
       "    </tr>\n",
       "    <tr>\n",
       "      <th>4</th>\n",
       "      <td>3007858</td>\n",
       "      <td>196724</td>\n",
       "      <td>2</td>\n",
       "      <td>4</td>\n",
       "      <td>12</td>\n",
       "      <td>17.0</td>\n",
       "    </tr>\n",
       "    <tr>\n",
       "      <th>...</th>\n",
       "      <td>...</td>\n",
       "      <td>...</td>\n",
       "      <td>...</td>\n",
       "      <td>...</td>\n",
       "      <td>...</td>\n",
       "      <td>...</td>\n",
       "    </tr>\n",
       "    <tr>\n",
       "      <th>478962</th>\n",
       "      <td>3210681</td>\n",
       "      <td>5617</td>\n",
       "      <td>5</td>\n",
       "      <td>1</td>\n",
       "      <td>14</td>\n",
       "      <td>7.0</td>\n",
       "    </tr>\n",
       "    <tr>\n",
       "      <th>478963</th>\n",
       "      <td>3270802</td>\n",
       "      <td>112087</td>\n",
       "      <td>2</td>\n",
       "      <td>3</td>\n",
       "      <td>13</td>\n",
       "      <td>6.0</td>\n",
       "    </tr>\n",
       "    <tr>\n",
       "      <th>478964</th>\n",
       "      <td>885349</td>\n",
       "      <td>82944</td>\n",
       "      <td>16</td>\n",
       "      <td>2</td>\n",
       "      <td>11</td>\n",
       "      <td>6.0</td>\n",
       "    </tr>\n",
       "    <tr>\n",
       "      <th>478965</th>\n",
       "      <td>216274</td>\n",
       "      <td>4391</td>\n",
       "      <td>3</td>\n",
       "      <td>3</td>\n",
       "      <td>8</td>\n",
       "      <td>8.0</td>\n",
       "    </tr>\n",
       "    <tr>\n",
       "      <th>478966</th>\n",
       "      <td>2071924</td>\n",
       "      <td>1730</td>\n",
       "      <td>18</td>\n",
       "      <td>1</td>\n",
       "      <td>14</td>\n",
       "      <td>15.0</td>\n",
       "    </tr>\n",
       "  </tbody>\n",
       "</table>\n",
       "<p>478952 rows × 6 columns</p>\n",
       "</div>"
      ],
      "text/plain": [
       "        order_id  user_id  order_number  order_dow  order_hour_of_day  \\\n",
       "0        1515936   183418            11          6                 13   \n",
       "1        1690866   163593             5          5                 12   \n",
       "2        1454967    39980             4          5                 19   \n",
       "3        1768857    82516            56          0                 20   \n",
       "4        3007858   196724             2          4                 12   \n",
       "...          ...      ...           ...        ...                ...   \n",
       "478962   3210681     5617             5          1                 14   \n",
       "478963   3270802   112087             2          3                 13   \n",
       "478964    885349    82944            16          2                 11   \n",
       "478965    216274     4391             3          3                  8   \n",
       "478966   2071924     1730            18          1                 14   \n",
       "\n",
       "        days_since_prior_order  \n",
       "0                         30.0  \n",
       "1                          9.0  \n",
       "2                          2.0  \n",
       "3                         10.0  \n",
       "4                         17.0  \n",
       "...                        ...  \n",
       "478962                     7.0  \n",
       "478963                     6.0  \n",
       "478964                     6.0  \n",
       "478965                     8.0  \n",
       "478966                    15.0  \n",
       "\n",
       "[478952 rows x 6 columns]"
      ]
     },
     "execution_count": 271,
     "metadata": {},
     "output_type": "execute_result"
    }
   ],
   "source": [
    "instacart_orders"
   ]
  },
  {
   "cell_type": "code",
   "execution_count": 272,
   "id": "a36cca27",
   "metadata": {
    "id": "a36cca27"
   },
   "outputs": [
    {
     "data": {
      "image/png": "[encoded data removed]",
      "text/plain": [
       "<Figure size 360x288 with 1 Axes>"
      ]
     },
     "metadata": {
      "needs_background": "light"
     },
     "output_type": "display_data"
    }
   ],
   "source": [
    "orders_per_hour = instacart_orders.groupby('order_hour_of_day')\n",
    "orders_per_hour['user_id'].count().plot(xlabel='hours',\n",
    "                                        ylabel='users',\n",
    "                                        title='Números de usuarios por hora.',\n",
    "                                        style='o-',\n",
    "                                       figsize=(5,4),\n",
    "                                       grid=True)\n",
    "plt.show()"
   ]
  },
  {
   "cell_type": "markdown",
   "id": "11270eed",
   "metadata": {
    "id": "11270eed"
   },
   "source": [
    "Escribe aquí tus conclusiones\n",
    "\n",
    "Entre las 10 y 11 de la mañana es cuando más piden los usuarios."
   ]
  },
  {
   "cell_type": "markdown",
   "id": "c81e3a20",
   "metadata": {},
   "source": [
    "<div class=\"alert alert-block alert-success\">\n",
    "\n",
    "<b>Comentario del revisor</b> <a class=\"tocSkip\"></a>\n",
    "\n",
    "Muy bien.</div>"
   ]
  },
  {
   "cell_type": "markdown",
   "id": "documented-command",
   "metadata": {
    "id": "documented-command"
   },
   "source": [
    "### [A3] ¿Qué día de la semana compran víveres las personas?"
   ]
  },
  {
   "cell_type": "code",
   "execution_count": 273,
   "id": "chief-digit",
   "metadata": {
    "id": "chief-digit"
   },
   "outputs": [
    {
     "data": {
      "image/png": "[encoded data removed]",
      "text/plain": [
       "<Figure size 360x288 with 1 Axes>"
      ]
     },
     "metadata": {
      "needs_background": "light"
     },
     "output_type": "display_data"
    }
   ],
   "source": [
    "orders_per_day = instacart_orders.groupby('order_dow')\n",
    "orders_per_day['user_id'].count().plot(xlabel='day',\n",
    "                                       ylabel='users',\n",
    "                                       kind='bar',\n",
    "                                       title='Usuarios por día',\n",
    "                                       figsize=(5,4),\n",
    "                                       grid=True)\n",
    "plt.show()"
   ]
  },
  {
   "cell_type": "markdown",
   "id": "7f59610f",
   "metadata": {},
   "source": [
    "<div class=\"alert alert-block alert-success\">\n",
    "\n",
    "<b>Comentario del revisor</b> <a class=\"tocSkip\"></a>\n",
    "\n",
    "Perfecto.</div>"
   ]
  },
  {
   "cell_type": "markdown",
   "id": "dominant-lightning",
   "metadata": {
    "id": "dominant-lightning"
   },
   "source": [
    "Escribe aquí tus conclusiones\n",
    "\n",
    "Los días que mas compran los usuarios son los domingos y lunes."
   ]
  },
  {
   "cell_type": "markdown",
   "id": "cutting-concert",
   "metadata": {
    "id": "cutting-concert"
   },
   "source": [
    "### [A4] ¿Cuánto tiempo esperan las personas hasta hacer otro pedido? Comenta sobre los valores mínimos y máximos."
   ]
  },
  {
   "cell_type": "code",
   "execution_count": 274,
   "id": "c231f523",
   "metadata": {
    "id": "c231f523"
   },
   "outputs": [
    {
     "data": {
      "image/png": "[encoded data removed]",
      "text/plain": [
       "<Figure size 1440x288 with 1 Axes>"
      ]
     },
     "metadata": {
      "needs_background": "light"
     },
     "output_type": "display_data"
    }
   ],
   "source": [
    "users_prior_order = instacart_orders.groupby('days_since_prior_order')\n",
    "users_prior_order['user_id'].count().plot(xlabel='days since prior order',\n",
    "                                         ylabel='users',\n",
    "                                         title='Días trancurridos para la siguiente orden',\n",
    "                                         kind='bar',\n",
    "                                         figsize=(20,4),\n",
    "                                         grid=True)\n",
    "plt.show()"
   ]
  },
  {
   "cell_type": "markdown",
   "id": "discrete-vertex",
   "metadata": {
    "id": "discrete-vertex"
   },
   "source": [
    "Escribe aquí tus conclusiones\n",
    "\n",
    "Los días trancurridos que menos esperan las personas oscilan entre los 23 y 29 días.\n",
    "La días trancurridos que mas esperan las personas son de 30 días"
   ]
  },
  {
   "cell_type": "markdown",
   "id": "35fc495d",
   "metadata": {},
   "source": [
    "<div class=\"alert alert-block alert-success\">\n",
    "\n",
    "<b>Comentario del revisor</b> <a class=\"tocSkip\"></a>\n",
    "\n",
    "Buen grafico, me gusto su disposicion.</div>"
   ]
  },
  {
   "cell_type": "markdown",
   "id": "a23c9b16",
   "metadata": {},
   "source": [
    "<div class=\"alert alert-block alert-success\">\n",
    "\n",
    "<b>Comentario del revisor</b> <a class=\"tocSkip\"></a>\n",
    "\n",
    "Todos los ejercicios del punto [A] estan bien.</div>"
   ]
  },
  {
   "cell_type": "markdown",
   "id": "tight-staff",
   "metadata": {
    "id": "tight-staff"
   },
   "source": [
    "# [B] Intermedio (deben completarse todos para aprobar)\n",
    "\n",
    "1. ¿Existe alguna diferencia entre las distribuciones `'order_hour_of_day'` de los miércoles y los sábados? Traza gráficos de barra de `'order_hour_of_day'` para ambos días en la misma figura y describe las diferencias que observes.\n",
    "2. Grafica la distribución para el número de órdenes que hacen los clientes (es decir, cuántos clientes hicieron solo 1 pedido, cuántos hicieron 2, cuántos 3, y así sucesivamente...).\n",
    "3. ¿Cuáles son los 20 principales productos que se piden con más frecuencia (muestra su identificación y nombre)?"
   ]
  },
  {
   "cell_type": "markdown",
   "id": "packed-classic",
   "metadata": {
    "id": "packed-classic"
   },
   "source": [
    "### [B1] Diferencia entre miércoles y sábados para  `'order_hour_of_day'`. Traza gráficos de barra para los dos días y describe las diferencias que veas."
   ]
  },
  {
   "cell_type": "code",
   "execution_count": 275,
   "id": "734112b3",
   "metadata": {},
   "outputs": [
    {
     "name": "stdout",
     "output_type": "stream",
     "text": [
      "--------------------------------------------Sección ya no valida--------------------------------------------\n",
      "None\n"
     ]
    },
    {
     "data": {
      "text/plain": [
       "0       837\n",
       "1       469\n",
       "2       283\n",
       "3       226\n",
       "4       226\n",
       "5       331\n",
       "6      1094\n",
       "7      3351\n",
       "8      6371\n",
       "9      8801\n",
       "10     9945\n",
       "11    10120\n",
       "12     9820\n",
       "13     9997\n",
       "14    10149\n",
       "15    10351\n",
       "16    10005\n",
       "17     8470\n",
       "18     6801\n",
       "19     5262\n",
       "20     3764\n",
       "21     2923\n",
       "22     2339\n",
       "23     1611\n",
       "Name: order_hour_of_day, dtype: int64"
      ]
     },
     "execution_count": 275,
     "metadata": {},
     "output_type": "execute_result"
    }
   ],
   "source": [
    "#Correccion\n",
    "print(print('--------------------------------------------Sección ya no valida--------------------------------------------'))\n",
    "wed_sat = instacart_orders[(instacart_orders['order_dow'] == 3) | (instacart_orders['order_dow'] == 6)]\n",
    "sorted_wed_sat = wed_sat['order_hour_of_day'].value_counts().sort_index()\n",
    "sorted_wed_sat"
   ]
  },
  {
   "cell_type": "code",
   "execution_count": 276,
   "id": "d28d9466",
   "metadata": {},
   "outputs": [
    {
     "name": "stdout",
     "output_type": "stream",
     "text": [
      "    Wednesdays  Saturdays\n",
      "0          373        464\n",
      "1          215        254\n",
      "2          106        177\n",
      "3          101        125\n",
      "4          108        118\n",
      "5          170        161\n",
      "6          643        451\n",
      "7         1732       1619\n",
      "8         3125       3246\n",
      "9         4490       4311\n",
      "10        5026       4919\n",
      "11        5004       5116\n",
      "12        4688       5132\n",
      "13        4674       5323\n",
      "14        4774       5375\n",
      "15        5163       5188\n",
      "16        4976       5029\n",
      "17        4175       4295\n",
      "18        3463       3338\n",
      "19        2652       2610\n",
      "20        1917       1847\n",
      "21        1450       1473\n",
      "22        1154       1185\n",
      "23         718        893\n",
      "0      91\n",
      "1      39\n",
      "2      71\n",
      "3      24\n",
      "4      10\n",
      "5       9\n",
      "6     192\n",
      "7     113\n",
      "8     121\n",
      "9     179\n",
      "10    107\n",
      "11    112\n",
      "12    444\n",
      "13    649\n",
      "14    601\n",
      "15     25\n",
      "16     53\n",
      "17    120\n",
      "18    125\n",
      "19     42\n",
      "20     70\n",
      "21     23\n",
      "22     31\n",
      "23    175\n",
      "Name: Dif_between_W_&_S, dtype: int64\n"
     ]
    }
   ],
   "source": [
    "#Corección 2\n",
    "wed = instacart_orders[(instacart_orders['order_dow'] == 3)]\n",
    "sat = instacart_orders[(instacart_orders['order_dow'] == 6)]\n",
    "sorted_wed = wed['order_hour_of_day'].value_counts().sort_index().rename('Wednesdays')\n",
    "sorted_sat = sat['order_hour_of_day'].value_counts().sort_index().rename('Saturdays')\n",
    "dif_w_s = abs(sorted_wed - sorted_sat)\n",
    "dif_w_s = dif_w_s.rename('Dif_between_W_&_S')\n",
    "concat_wed_sat = pd.concat([sorted_wed,sorted_sat],axis=1)\n",
    "print(concat_wed_sat)\n",
    "print(dif_w_s)"
   ]
  },
  {
   "cell_type": "code",
   "execution_count": 277,
   "id": "93ab1b5b",
   "metadata": {},
   "outputs": [
    {
     "data": {
      "image/png": "[encoded data removed]",
      "text/plain": [
       "<Figure size 360x288 with 1 Axes>"
      ]
     },
     "metadata": {
      "needs_background": "light"
     },
     "output_type": "display_data"
    }
   ],
   "source": [
    "\n",
    "concat_wed_sat['Wednesdays'].plot(title='Gráfica 1. Distribución miércoles',\n",
    "                                   kind='bar',\n",
    "                                  xlabel='Horas del día',\n",
    "                                  ylabel='Órdenes',\n",
    "                                  figsize=(5,4),\n",
    "                                  grid=True)\n",
    "\n",
    "plt.show()"
   ]
  },
  {
   "cell_type": "code",
   "execution_count": 278,
   "id": "23a7c0fa",
   "metadata": {},
   "outputs": [
    {
     "data": {
      "image/png": "[encoded data removed]",
      "text/plain": [
       "<Figure size 360x288 with 1 Axes>"
      ]
     },
     "metadata": {
      "needs_background": "light"
     },
     "output_type": "display_data"
    }
   ],
   "source": [
    "concat_wed_sat['Saturdays'].plot(title='Gráfica 2. Distribución sabados',\n",
    "                                   kind='bar',\n",
    "                                  xlabel='Horas del día',\n",
    "                                  ylabel='Órdenes',\n",
    "                                  figsize=(5,4),\n",
    "                                  grid=True)\n",
    "\n",
    "\n",
    "plt.show()"
   ]
  },
  {
   "cell_type": "code",
   "execution_count": 279,
   "id": "3144d6bf",
   "metadata": {},
   "outputs": [
    {
     "data": {
      "image/png": "[encoded data removed]",
      "text/plain": [
       "<Figure size 360x288 with 1 Axes>"
      ]
     },
     "metadata": {
      "needs_background": "light"
     },
     "output_type": "display_data"
    }
   ],
   "source": [
    "dif_w_s.plot(title='Gráfica 3. Distribución diferencia miercoles y sabados.',\n",
    "                                   kind='bar',\n",
    "                                  xlabel='Horas del día',\n",
    "                                  ylabel='Órdenes',\n",
    "                                  figsize=(5,4),\n",
    "                                  grid=True)\n",
    "\n",
    "\n",
    "plt.show()"
   ]
  },
  {
   "cell_type": "code",
   "execution_count": 280,
   "id": "f7264501",
   "metadata": {},
   "outputs": [],
   "source": [
    "# grouby_day = instacart_orders.groupby('order_dow')['order_hour_of_day']\n",
    "# grouby_day.count().loc[[3,6]].plot(title='Difierencia de órdenes entre miércoles y sábados',\n",
    "#                                    kind='bar',\n",
    "#                                   xlabel='Órdenes',\n",
    "#                                   ylabel='Miércoles y Sábados',\n",
    "#                                   figsize=(5,4),\n",
    "#                                   grid=True)\n",
    "# plt.show()"
   ]
  },
  {
   "cell_type": "code",
   "execution_count": 281,
   "id": "797c90a8",
   "metadata": {
    "id": "797c90a8"
   },
   "outputs": [],
   "source": [
    "# dif_orders = grouby_day.count().loc[6] - grouby_day.count().loc[3]"
   ]
  },
  {
   "cell_type": "code",
   "execution_count": 282,
   "id": "35bcea30",
   "metadata": {
    "id": "35bcea30"
   },
   "outputs": [],
   "source": [
    "#f'La diferencia de órdenes en entre miércoles y sábados es de 1752. Siendo el sábado con mayor órdenes'"
   ]
  },
  {
   "cell_type": "markdown",
   "id": "d9a35f7f",
   "metadata": {},
   "source": [
    "<div class=\"alert alert-block alert-danger\">\n",
    "\n",
    "<b>Comentario del revisor</b> <a class=\"tocSkip\"></a>\n",
    "\n",
    "Estas contando las ordenes en su total, cuando lo queremos saber es la distribucion segun la hora.\n",
    "\n",
    "Para esto deberas extraer mediante el metodo `value_counts()` la distribucion del miercoles y sabado para luego graficarlo.</div>"
   ]
  },
  {
   "cell_type": "markdown",
   "id": "9caec1c9",
   "metadata": {},
   "source": [
    "<div class=\"alert alert-block alert-info\">\n",
    "<b>Respuesta del estudiante</b> <a class=\"tocSkip\"></a>\n",
    "\n",
    "Listo.\n",
    "\n",
    "Las distribución la hice de la siguiente manera. Hice un filtro en el df `instacart_orders` que me muestre únicamente los días\n",
    "miércoles (3) y sábados (6); se guardó en una variable `wed_sat`. Posteriormente, se aplicó el método `value_counts` y `sort_index` en la columna `wed_sat['order_hour_of_day']`.\n",
    "    \n",
    "Finalmente, se graficó la distribución.\n",
    "</div>\n",
    "\n",
    "<div class=\"alert alert-block alert-danger\">\n",
    "\n",
    "<b>Comentario del revisor #2</b> <a class=\"tocSkip\"></a>\n",
    "\n",
    "En este caso estas sacando las distribuciones y uniendolas, lo que necesitamos es ver la **diferencia** por lo que extrae la de miercoles por un lado y luego la de los sabados. Despues grafica esa diferencia, podrias concatenar ambas tablas y graficarlas en **comparacion**.</div>"
   ]
  },
  {
   "cell_type": "markdown",
   "id": "85712d23",
   "metadata": {},
   "source": [
    "<div class=\"alert alert-block alert-info\">\n",
    "<b>Respuesta del estudiante #2</b> <a class=\"tocSkip\"></a>\n",
    "\n",
    "Listo la segunda corección. Hice 3 gráficas de las cuales son la distribución del miércoles, distribución del jueves, y la distribucion de las diferencia de los dos días.\n",
    "    \n",
    "En la gráfica 1. Se observa que las horas de los dias miércoles que hubo más pedidos fueron 10, 11 y 15.\n",
    "    \n",
    "En la gráfica 2. Se observa que a las 14 horas de los días sabados es cuando mayor pedidos hubo.\n",
    "\n",
    "En la gráfica 3. Aplicando la diferencia entre ambos días, las 13 horas es la hora con mayor pedidos.\n",
    "\n",
    "</div>\n",
    "\n",
    "<div class=\"alert alert-block alert-success\">\n",
    "<b>Respuesta del estudiante #3</b> <a class=\"tocSkip\"></a>\n",
    "    \n",
    "Corregido, muy bien.\n",
    "    \n",
    "Una opcion para una mejor visualizacior seria concatenar ambas mascaras (Miercoles y Sabados) Y graficar en el mismo grafico (con un barplot) tanto los miercoles (con un color) como los sabados (con otro color). De esta manera la comparativa es mas legible y estetica.    \n",
    "</div>"
   ]
  },
  {
   "cell_type": "markdown",
   "id": "charitable-congo",
   "metadata": {
    "id": "charitable-congo"
   },
   "source": [
    "Escribe aquí tus conclusiones\n",
    "\n",
    "Me parece que así entendí las instrucciones.\n",
    "\n",
    "Pedían obtener la diferencia de ordenes en los días miércoles y sábados. Lo que se hizo fue agrupar el df por ordenes del día y contar el número de ordenes. Después con indexación lógico localicé miércoles (3) y sábados (6)"
   ]
  },
  {
   "cell_type": "markdown",
   "id": "e3891143",
   "metadata": {
    "id": "e3891143"
   },
   "source": [
    "### [B2] ¿Cuál es la distribución para el número de pedidos por cliente?"
   ]
  },
  {
   "cell_type": "code",
   "execution_count": 283,
   "id": "d8c26c23",
   "metadata": {
    "id": "d8c26c23",
    "scrolled": false
   },
   "outputs": [],
   "source": [
    "# groupby_order = instacart_orders.groupby('order_number')['user_id']\n",
    "# groupby_order.count().plot(title='Distribucion del núermode pedidos por cliente',\n",
    "#                           xlabel='Órdenes',\n",
    "#                           ylabel='Usuarios',\n",
    "#                           figsize=(5,4),\n",
    "#                           grid=True)\n",
    "# plt.show()"
   ]
  },
  {
   "cell_type": "code",
   "execution_count": 284,
   "id": "086cdd09",
   "metadata": {},
   "outputs": [
    {
     "data": {
      "image/png": "[encoded data removed]",
      "text/plain": [
       "<Figure size 432x288 with 1 Axes>"
      ]
     },
     "metadata": {
      "needs_background": "light"
     },
     "output_type": "display_data"
    }
   ],
   "source": [
    "#Correción 2\n",
    "instacart_orders.groupby('user_id')['order_id'].count().plot(title='Distribucion del número de pedidos por cliente',\n",
    "                                                             kind='hist',\n",
    "                                                             bins=30,\n",
    "                                                             grid=True)\n",
    "plt.xlabel('Pedidos')\n",
    "plt.ylabel('Clientes')\n",
    "\n",
    "plt.show()"
   ]
  },
  {
   "cell_type": "markdown",
   "id": "bda1fb88",
   "metadata": {},
   "source": [
    "<div class=\"alert alert-block alert-info\">\n",
    "<b>Respuesta del estudiante</b> <a class=\"tocSkip\"></a>\n",
    "\n",
    "Si hice el método `count` después de la agrupación. Justo antes del método `plot()`\n",
    "    \n",
    "¿Me apoyaría a profundizar esta sección, por favor?\n",
    "</div>"
   ]
  },
  {
   "cell_type": "markdown",
   "id": "2f7a18d5",
   "metadata": {},
   "source": [
    "<div class=\"alert alert-block alert-danger\">\n",
    "\n",
    "<b>Comentario del revisor #2</b> <a class=\"tocSkip\"></a>\n",
    "\n",
    "Aqui estas aplicando bien el metodo count(), lo que te queria decir es que el groupby no estaba bien. Ya que necesitamos agrupar por (`user_id`) y ordenar por [`order_id`], de esta forma tendras bien calculada la frecuencia. Podrias crear un histograma y te recomiendo utilizar un bin alto (entre 15 y 30 para visualizar mejor los datos menores)\n",
    "\n",
    "\n",
    "</div>"
   ]
  },
  {
   "cell_type": "markdown",
   "id": "da0021c3",
   "metadata": {},
   "source": [
    "<div class=\"alert alert-block alert-info\">\n",
    "<b>Respuesta del estudiante #2</b> <a class=\"tocSkip\"></a>\n",
    "\n",
    "    \n",
    "Listo!!\n",
    "\n",
    "</div>"
   ]
  },
  {
   "cell_type": "markdown",
   "id": "3a916e94",
   "metadata": {},
   "source": [
    "<div class=\"alert alert-block alert-success\">\n",
    "\n",
    "<b>Comentario del revisor #3</b> <a class=\"tocSkip\"></a>\n",
    "\n",
    "Corregido, muy bien.\n",
    "\n",
    "</div>"
   ]
  },
  {
   "cell_type": "markdown",
   "id": "d2eff7d5",
   "metadata": {
    "id": "d2eff7d5"
   },
   "source": [
    "Escribe aquí tus conclusiones\n",
    "\n",
    "Las distribución del número de pedidos por cliente disminuye cuando el número de órdenes asciende."
   ]
  },
  {
   "cell_type": "markdown",
   "id": "54a0319c",
   "metadata": {
    "id": "54a0319c"
   },
   "source": [
    "### [B3] ¿Cuáles son los 20 productos más populares (muestra su ID y nombre)?"
   ]
  },
  {
   "cell_type": "code",
   "execution_count": 285,
   "id": "exterior-arizona",
   "metadata": {
    "id": "exterior-arizona",
    "scrolled": true
   },
   "outputs": [],
   "source": [
    "products['product_name'] = products['product_name'].str.upper()"
   ]
  },
  {
   "cell_type": "code",
   "execution_count": 286,
   "id": "604a552f",
   "metadata": {},
   "outputs": [
    {
     "data": {
      "text/html": [
       "<div>\n",
       "<style scoped>\n",
       "    .dataframe tbody tr th:only-of-type {\n",
       "        vertical-align: middle;\n",
       "    }\n",
       "\n",
       "    .dataframe tbody tr th {\n",
       "        vertical-align: top;\n",
       "    }\n",
       "\n",
       "    .dataframe thead th {\n",
       "        text-align: right;\n",
       "    }\n",
       "</style>\n",
       "<table border=\"1\" class=\"dataframe\">\n",
       "  <thead>\n",
       "    <tr style=\"text-align: right;\">\n",
       "      <th></th>\n",
       "      <th>product_id</th>\n",
       "      <th>product_name</th>\n",
       "      <th>aisle_id</th>\n",
       "      <th>department_id</th>\n",
       "    </tr>\n",
       "  </thead>\n",
       "  <tbody>\n",
       "    <tr>\n",
       "      <th>0</th>\n",
       "      <td>1</td>\n",
       "      <td>CHOCOLATE SANDWICH COOKIES</td>\n",
       "      <td>61</td>\n",
       "      <td>19</td>\n",
       "    </tr>\n",
       "    <tr>\n",
       "      <th>1</th>\n",
       "      <td>2</td>\n",
       "      <td>ALL-SEASONS SALT</td>\n",
       "      <td>104</td>\n",
       "      <td>13</td>\n",
       "    </tr>\n",
       "    <tr>\n",
       "      <th>2</th>\n",
       "      <td>3</td>\n",
       "      <td>ROBUST GOLDEN UNSWEETENED OOLONG TEA</td>\n",
       "      <td>94</td>\n",
       "      <td>7</td>\n",
       "    </tr>\n",
       "    <tr>\n",
       "      <th>3</th>\n",
       "      <td>4</td>\n",
       "      <td>SMART ONES CLASSIC FAVORITES MINI RIGATONI WIT...</td>\n",
       "      <td>38</td>\n",
       "      <td>1</td>\n",
       "    </tr>\n",
       "    <tr>\n",
       "      <th>4</th>\n",
       "      <td>5</td>\n",
       "      <td>GREEN CHILE ANYTIME SAUCE</td>\n",
       "      <td>5</td>\n",
       "      <td>13</td>\n",
       "    </tr>\n",
       "    <tr>\n",
       "      <th>...</th>\n",
       "      <td>...</td>\n",
       "      <td>...</td>\n",
       "      <td>...</td>\n",
       "      <td>...</td>\n",
       "    </tr>\n",
       "    <tr>\n",
       "      <th>49689</th>\n",
       "      <td>49690</td>\n",
       "      <td>HIGH PERFORMANCE ENERGY DRINK</td>\n",
       "      <td>64</td>\n",
       "      <td>7</td>\n",
       "    </tr>\n",
       "    <tr>\n",
       "      <th>49690</th>\n",
       "      <td>49691</td>\n",
       "      <td>ORIGINAL PANCAKE &amp; WAFFLE MIX</td>\n",
       "      <td>130</td>\n",
       "      <td>14</td>\n",
       "    </tr>\n",
       "    <tr>\n",
       "      <th>49691</th>\n",
       "      <td>49692</td>\n",
       "      <td>ORGANIC INSTANT OATMEAL LIGHT MAPLE BROWN SUGAR</td>\n",
       "      <td>130</td>\n",
       "      <td>14</td>\n",
       "    </tr>\n",
       "    <tr>\n",
       "      <th>49692</th>\n",
       "      <td>49693</td>\n",
       "      <td>SPRING WATER BODY WASH</td>\n",
       "      <td>127</td>\n",
       "      <td>11</td>\n",
       "    </tr>\n",
       "    <tr>\n",
       "      <th>49693</th>\n",
       "      <td>49694</td>\n",
       "      <td>BURRITO- STEAK &amp; CHEESE</td>\n",
       "      <td>38</td>\n",
       "      <td>1</td>\n",
       "    </tr>\n",
       "  </tbody>\n",
       "</table>\n",
       "<p>49694 rows × 4 columns</p>\n",
       "</div>"
      ],
      "text/plain": [
       "       product_id                                       product_name  \\\n",
       "0               1                         CHOCOLATE SANDWICH COOKIES   \n",
       "1               2                                   ALL-SEASONS SALT   \n",
       "2               3               ROBUST GOLDEN UNSWEETENED OOLONG TEA   \n",
       "3               4  SMART ONES CLASSIC FAVORITES MINI RIGATONI WIT...   \n",
       "4               5                          GREEN CHILE ANYTIME SAUCE   \n",
       "...           ...                                                ...   \n",
       "49689       49690                      HIGH PERFORMANCE ENERGY DRINK   \n",
       "49690       49691                      ORIGINAL PANCAKE & WAFFLE MIX   \n",
       "49691       49692    ORGANIC INSTANT OATMEAL LIGHT MAPLE BROWN SUGAR   \n",
       "49692       49693                             SPRING WATER BODY WASH   \n",
       "49693       49694                            BURRITO- STEAK & CHEESE   \n",
       "\n",
       "       aisle_id  department_id  \n",
       "0            61             19  \n",
       "1           104             13  \n",
       "2            94              7  \n",
       "3            38              1  \n",
       "4             5             13  \n",
       "...         ...            ...  \n",
       "49689        64              7  \n",
       "49690       130             14  \n",
       "49691       130             14  \n",
       "49692       127             11  \n",
       "49693        38              1  \n",
       "\n",
       "[49694 rows x 4 columns]"
      ]
     },
     "execution_count": 286,
     "metadata": {},
     "output_type": "execute_result"
    }
   ],
   "source": [
    "products"
   ]
  },
  {
   "cell_type": "code",
   "execution_count": 287,
   "id": "6a0370fc",
   "metadata": {},
   "outputs": [
    {
     "data": {
      "text/html": [
       "<div>\n",
       "<style scoped>\n",
       "    .dataframe tbody tr th:only-of-type {\n",
       "        vertical-align: middle;\n",
       "    }\n",
       "\n",
       "    .dataframe tbody tr th {\n",
       "        vertical-align: top;\n",
       "    }\n",
       "\n",
       "    .dataframe thead th {\n",
       "        text-align: right;\n",
       "    }\n",
       "</style>\n",
       "<table border=\"1\" class=\"dataframe\">\n",
       "  <thead>\n",
       "    <tr style=\"text-align: right;\">\n",
       "      <th></th>\n",
       "      <th>order_id</th>\n",
       "      <th>product_id</th>\n",
       "      <th>add_to_cart_order</th>\n",
       "      <th>reordered</th>\n",
       "    </tr>\n",
       "  </thead>\n",
       "  <tbody>\n",
       "    <tr>\n",
       "      <th>0</th>\n",
       "      <td>2141543</td>\n",
       "      <td>11440</td>\n",
       "      <td>17</td>\n",
       "      <td>0</td>\n",
       "    </tr>\n",
       "    <tr>\n",
       "      <th>1</th>\n",
       "      <td>567889</td>\n",
       "      <td>1560</td>\n",
       "      <td>1</td>\n",
       "      <td>1</td>\n",
       "    </tr>\n",
       "    <tr>\n",
       "      <th>2</th>\n",
       "      <td>2261212</td>\n",
       "      <td>26683</td>\n",
       "      <td>1</td>\n",
       "      <td>1</td>\n",
       "    </tr>\n",
       "    <tr>\n",
       "      <th>3</th>\n",
       "      <td>491251</td>\n",
       "      <td>8670</td>\n",
       "      <td>35</td>\n",
       "      <td>1</td>\n",
       "    </tr>\n",
       "    <tr>\n",
       "      <th>4</th>\n",
       "      <td>2571142</td>\n",
       "      <td>1940</td>\n",
       "      <td>5</td>\n",
       "      <td>1</td>\n",
       "    </tr>\n",
       "    <tr>\n",
       "      <th>...</th>\n",
       "      <td>...</td>\n",
       "      <td>...</td>\n",
       "      <td>...</td>\n",
       "      <td>...</td>\n",
       "    </tr>\n",
       "    <tr>\n",
       "      <th>4545002</th>\n",
       "      <td>577211</td>\n",
       "      <td>15290</td>\n",
       "      <td>12</td>\n",
       "      <td>1</td>\n",
       "    </tr>\n",
       "    <tr>\n",
       "      <th>4545003</th>\n",
       "      <td>1219554</td>\n",
       "      <td>21914</td>\n",
       "      <td>9</td>\n",
       "      <td>0</td>\n",
       "    </tr>\n",
       "    <tr>\n",
       "      <th>4545004</th>\n",
       "      <td>692640</td>\n",
       "      <td>47766</td>\n",
       "      <td>4</td>\n",
       "      <td>1</td>\n",
       "    </tr>\n",
       "    <tr>\n",
       "      <th>4545005</th>\n",
       "      <td>319435</td>\n",
       "      <td>691</td>\n",
       "      <td>8</td>\n",
       "      <td>1</td>\n",
       "    </tr>\n",
       "    <tr>\n",
       "      <th>4545006</th>\n",
       "      <td>1398151</td>\n",
       "      <td>28733</td>\n",
       "      <td>9</td>\n",
       "      <td>0</td>\n",
       "    </tr>\n",
       "  </tbody>\n",
       "</table>\n",
       "<p>4545007 rows × 4 columns</p>\n",
       "</div>"
      ],
      "text/plain": [
       "         order_id  product_id  add_to_cart_order  reordered\n",
       "0         2141543       11440                 17          0\n",
       "1          567889        1560                  1          1\n",
       "2         2261212       26683                  1          1\n",
       "3          491251        8670                 35          1\n",
       "4         2571142        1940                  5          1\n",
       "...           ...         ...                ...        ...\n",
       "4545002    577211       15290                 12          1\n",
       "4545003   1219554       21914                  9          0\n",
       "4545004    692640       47766                  4          1\n",
       "4545005    319435         691                  8          1\n",
       "4545006   1398151       28733                  9          0\n",
       "\n",
       "[4545007 rows x 4 columns]"
      ]
     },
     "execution_count": 287,
     "metadata": {},
     "output_type": "execute_result"
    }
   ],
   "source": [
    "order_products"
   ]
  },
  {
   "cell_type": "code",
   "execution_count": 288,
   "id": "4f8cc5f1",
   "metadata": {},
   "outputs": [
    {
     "data": {
      "text/html": [
       "<div>\n",
       "<style scoped>\n",
       "    .dataframe tbody tr th:only-of-type {\n",
       "        vertical-align: middle;\n",
       "    }\n",
       "\n",
       "    .dataframe tbody tr th {\n",
       "        vertical-align: top;\n",
       "    }\n",
       "\n",
       "    .dataframe thead th {\n",
       "        text-align: right;\n",
       "    }\n",
       "</style>\n",
       "<table border=\"1\" class=\"dataframe\">\n",
       "  <thead>\n",
       "    <tr style=\"text-align: right;\">\n",
       "      <th></th>\n",
       "      <th>product_id</th>\n",
       "      <th>product_name</th>\n",
       "      <th>aisle_id</th>\n",
       "      <th>department_id</th>\n",
       "      <th>order_id</th>\n",
       "      <th>add_to_cart_order</th>\n",
       "      <th>reordered</th>\n",
       "    </tr>\n",
       "  </thead>\n",
       "  <tbody>\n",
       "    <tr>\n",
       "      <th>0</th>\n",
       "      <td>1</td>\n",
       "      <td>CHOCOLATE SANDWICH COOKIES</td>\n",
       "      <td>61</td>\n",
       "      <td>19</td>\n",
       "      <td>1104373</td>\n",
       "      <td>11</td>\n",
       "      <td>1</td>\n",
       "    </tr>\n",
       "    <tr>\n",
       "      <th>1</th>\n",
       "      <td>1</td>\n",
       "      <td>CHOCOLATE SANDWICH COOKIES</td>\n",
       "      <td>61</td>\n",
       "      <td>19</td>\n",
       "      <td>1774977</td>\n",
       "      <td>4</td>\n",
       "      <td>1</td>\n",
       "    </tr>\n",
       "    <tr>\n",
       "      <th>2</th>\n",
       "      <td>1</td>\n",
       "      <td>CHOCOLATE SANDWICH COOKIES</td>\n",
       "      <td>61</td>\n",
       "      <td>19</td>\n",
       "      <td>652770</td>\n",
       "      <td>10</td>\n",
       "      <td>0</td>\n",
       "    </tr>\n",
       "    <tr>\n",
       "      <th>3</th>\n",
       "      <td>1</td>\n",
       "      <td>CHOCOLATE SANDWICH COOKIES</td>\n",
       "      <td>61</td>\n",
       "      <td>19</td>\n",
       "      <td>1000035</td>\n",
       "      <td>6</td>\n",
       "      <td>1</td>\n",
       "    </tr>\n",
       "    <tr>\n",
       "      <th>4</th>\n",
       "      <td>1</td>\n",
       "      <td>CHOCOLATE SANDWICH COOKIES</td>\n",
       "      <td>61</td>\n",
       "      <td>19</td>\n",
       "      <td>1679949</td>\n",
       "      <td>9</td>\n",
       "      <td>0</td>\n",
       "    </tr>\n",
       "    <tr>\n",
       "      <th>...</th>\n",
       "      <td>...</td>\n",
       "      <td>...</td>\n",
       "      <td>...</td>\n",
       "      <td>...</td>\n",
       "      <td>...</td>\n",
       "      <td>...</td>\n",
       "      <td>...</td>\n",
       "    </tr>\n",
       "    <tr>\n",
       "      <th>4545002</th>\n",
       "      <td>49694</td>\n",
       "      <td>BURRITO- STEAK &amp; CHEESE</td>\n",
       "      <td>38</td>\n",
       "      <td>1</td>\n",
       "      <td>3034802</td>\n",
       "      <td>10</td>\n",
       "      <td>0</td>\n",
       "    </tr>\n",
       "    <tr>\n",
       "      <th>4545003</th>\n",
       "      <td>49694</td>\n",
       "      <td>BURRITO- STEAK &amp; CHEESE</td>\n",
       "      <td>38</td>\n",
       "      <td>1</td>\n",
       "      <td>3175081</td>\n",
       "      <td>3</td>\n",
       "      <td>0</td>\n",
       "    </tr>\n",
       "    <tr>\n",
       "      <th>4545004</th>\n",
       "      <td>49694</td>\n",
       "      <td>BURRITO- STEAK &amp; CHEESE</td>\n",
       "      <td>38</td>\n",
       "      <td>1</td>\n",
       "      <td>694132</td>\n",
       "      <td>2</td>\n",
       "      <td>0</td>\n",
       "    </tr>\n",
       "    <tr>\n",
       "      <th>4545005</th>\n",
       "      <td>49694</td>\n",
       "      <td>BURRITO- STEAK &amp; CHEESE</td>\n",
       "      <td>38</td>\n",
       "      <td>1</td>\n",
       "      <td>2843165</td>\n",
       "      <td>5</td>\n",
       "      <td>0</td>\n",
       "    </tr>\n",
       "    <tr>\n",
       "      <th>4545006</th>\n",
       "      <td>49694</td>\n",
       "      <td>BURRITO- STEAK &amp; CHEESE</td>\n",
       "      <td>38</td>\n",
       "      <td>1</td>\n",
       "      <td>2077154</td>\n",
       "      <td>12</td>\n",
       "      <td>0</td>\n",
       "    </tr>\n",
       "  </tbody>\n",
       "</table>\n",
       "<p>4545007 rows × 7 columns</p>\n",
       "</div>"
      ],
      "text/plain": [
       "         product_id                product_name  aisle_id  department_id  \\\n",
       "0                 1  CHOCOLATE SANDWICH COOKIES        61             19   \n",
       "1                 1  CHOCOLATE SANDWICH COOKIES        61             19   \n",
       "2                 1  CHOCOLATE SANDWICH COOKIES        61             19   \n",
       "3                 1  CHOCOLATE SANDWICH COOKIES        61             19   \n",
       "4                 1  CHOCOLATE SANDWICH COOKIES        61             19   \n",
       "...             ...                         ...       ...            ...   \n",
       "4545002       49694     BURRITO- STEAK & CHEESE        38              1   \n",
       "4545003       49694     BURRITO- STEAK & CHEESE        38              1   \n",
       "4545004       49694     BURRITO- STEAK & CHEESE        38              1   \n",
       "4545005       49694     BURRITO- STEAK & CHEESE        38              1   \n",
       "4545006       49694     BURRITO- STEAK & CHEESE        38              1   \n",
       "\n",
       "         order_id  add_to_cart_order  reordered  \n",
       "0         1104373                 11          1  \n",
       "1         1774977                  4          1  \n",
       "2          652770                 10          0  \n",
       "3         1000035                  6          1  \n",
       "4         1679949                  9          0  \n",
       "...           ...                ...        ...  \n",
       "4545002   3034802                 10          0  \n",
       "4545003   3175081                  3          0  \n",
       "4545004    694132                  2          0  \n",
       "4545005   2843165                  5          0  \n",
       "4545006   2077154                 12          0  \n",
       "\n",
       "[4545007 rows x 7 columns]"
      ]
     },
     "execution_count": 288,
     "metadata": {},
     "output_type": "execute_result"
    }
   ],
   "source": [
    "merged_products = products.merge(order_products,left_on='product_id',right_on='product_id')\n",
    "merged_products"
   ]
  },
  {
   "cell_type": "code",
   "execution_count": 289,
   "id": "a0479fe8",
   "metadata": {},
   "outputs": [
    {
     "data": {
      "text/plain": [
       "product_name              product_id\n",
       "BANANA                    24852         66050\n",
       "BAG OF ORGANIC BANANAS    13176         53297\n",
       "ORGANIC STRAWBERRIES      21137         37039\n",
       "ORGANIC BABY SPINACH      21903         33971\n",
       "ORGANIC HASS AVOCADO      47209         29773\n",
       "ORGANIC AVOCADO           47766         24689\n",
       "LARGE LEMON               47626         21495\n",
       "STRAWBERRIES              16797         20018\n",
       "LIMES                     26209         19690\n",
       "ORGANIC WHOLE MILK        27845         19600\n",
       "ORGANIC RASPBERRIES       27966         19197\n",
       "ORGANIC YELLOW ONION      22935         15898\n",
       "ORGANIC GARLIC            24964         15292\n",
       "ORGANIC ZUCCHINI          45007         14584\n",
       "ORGANIC BLUEBERRIES       39275         13879\n",
       "CUCUMBER KIRBY            49683         13675\n",
       "ORGANIC FUJI APPLE        28204         12544\n",
       "ORGANIC LEMON             5876          12232\n",
       "APPLE HONEYCRISP ORGANIC  8277          11993\n",
       "ORGANIC GRAPE TOMATOES    40706         11781\n",
       "Name: add_to_cart_order, dtype: int64"
      ]
     },
     "execution_count": 289,
     "metadata": {},
     "output_type": "execute_result"
    }
   ],
   "source": [
    "groupby_pr_name_id = merged_products.groupby(['product_name','product_id'])\n",
    "sorted_products = groupby_pr_name_id['add_to_cart_order'].count().sort_values(ascending=False)\n",
    "sorted_products.head(20)"
   ]
  },
  {
   "cell_type": "markdown",
   "id": "7df00f47",
   "metadata": {
    "id": "7df00f47"
   },
   "source": [
    "Escribe aquí tus conclusiones.\n",
    "\n",
    "En este ejercicio lo que aplicamos fue unir el dataframe order_products y products para que postriormente agruparamos por nombre de producto y id y obtener los wo productos más poulares.\n",
    "\n",
    "El primero es el plátano, con 66 050 compras."
   ]
  },
  {
   "cell_type": "markdown",
   "id": "d735ddb1",
   "metadata": {},
   "source": [
    "<div class=\"alert alert-block alert-success\">\n",
    "\n",
    "<b>Comentario del revisor</b> <a class=\"tocSkip\"></a>\n",
    "    \n",
    "    \n",
    "Excelente.</div>"
   ]
  },
  {
   "cell_type": "markdown",
   "id": "gross-theme",
   "metadata": {
    "id": "gross-theme"
   },
   "source": [
    "# [C] Difícil (deben completarse todos para aprobar)\n",
    "\n",
    "1. ¿Cuántos artículos suelen comprar las personas en un pedido? ¿Cómo es la distribución?\n",
    "2. ¿Cuáles son los 20 principales artículos que vuelven a pedirse con mayor frecuencia (muestra sus nombres e IDs de los productos)?\n",
    "3. Para cada producto, ¿cuál es la tasa de repetición del pedido (número de repeticiones de pedido/total de pedidos?\n",
    "4. Para cada cliente, ¿qué proporción de los productos que pidió ya los había pedido? Calcula la tasa de repetición de pedido para cada usuario en lugar de para cada producto.\n",
    "5. ¿Cuáles son los 20 principales artículos que la gente pone primero en sus carritos (muestra las IDs de los productos, sus nombres, y el número de veces en que fueron el primer artículo en añadirse al carrito)?"
   ]
  },
  {
   "cell_type": "markdown",
   "id": "romantic-deposit",
   "metadata": {
    "id": "romantic-deposit"
   },
   "source": [
    "### [C1] ¿Cuántos artículos compran normalmente las personas en un pedido? ¿Cómo es la distribución?"
   ]
  },
  {
   "cell_type": "code",
   "execution_count": 290,
   "id": "f191c36d",
   "metadata": {
    "scrolled": false
   },
   "outputs": [
    {
     "name": "stdout",
     "output_type": "stream",
     "text": [
      "   product_id                product_name  aisle_id  department_id  order_id  \\\n",
      "0           1  CHOCOLATE SANDWICH COOKIES        61             19   1104373   \n",
      "1           1  CHOCOLATE SANDWICH COOKIES        61             19   1774977   \n",
      "2           1  CHOCOLATE SANDWICH COOKIES        61             19    652770   \n",
      "3           1  CHOCOLATE SANDWICH COOKIES        61             19   1000035   \n",
      "4           1  CHOCOLATE SANDWICH COOKIES        61             19   1679949   \n",
      "\n",
      "   add_to_cart_order  reordered  \n",
      "0                 11          1  \n",
      "1                  4          1  \n",
      "2                 10          0  \n",
      "3                  6          1  \n",
      "4                  9          0  \n",
      "   order_id  user_id  order_number  order_dow  order_hour_of_day  \\\n",
      "0   1515936   183418            11          6                 13   \n",
      "1   1690866   163593             5          5                 12   \n",
      "2   1454967    39980             4          5                 19   \n",
      "3   1768857    82516            56          0                 20   \n",
      "4   3007858   196724             2          4                 12   \n",
      "\n",
      "   days_since_prior_order  \n",
      "0                    30.0  \n",
      "1                     9.0  \n",
      "2                     2.0  \n",
      "3                    10.0  \n",
      "4                    17.0  \n"
     ]
    }
   ],
   "source": [
    "print(merged_products.head(5))\n",
    "print(instacart_orders.head(5))"
   ]
  },
  {
   "cell_type": "markdown",
   "id": "f1f263d4",
   "metadata": {},
   "source": [
    "<div class=\"alert alert-block alert-danger\">\n",
    "<b>Comentario del revisor</b> <a class=\"tocSkip\"></a>\n",
    "\n",
    "Cuidado, la frecuencia no esta siendo bien calculada. Para hacerlo deberas crear una nueva variable y agrupar sobre `order_products`. Donde podes agrupar por `order_id` y aplicar un count, a su vez podes ordenar por `product_id`.\n",
    "    \n",
    "crea una nueva variable y aplica a la que creaste Un value counts y luego ordenar el indice. Asi tendras bien calculada la frecuencia.\n",
    "    \n",
    "    \n",
    "Luego sobre esa variable realiza un histograma.</div>\n",
    "\n",
    "<div class=\"alert alert-block alert-success\">\n",
    "<b>Comentario del revisor #2</b> <a class=\"tocSkip\"></a>\n",
    "\n",
    "Corregido Jose, Excelente.</div>"
   ]
  },
  {
   "cell_type": "code",
   "execution_count": 291,
   "id": "6698fced",
   "metadata": {},
   "outputs": [
    {
     "data": {
      "text/html": [
       "<div>\n",
       "<style scoped>\n",
       "    .dataframe tbody tr th:only-of-type {\n",
       "        vertical-align: middle;\n",
       "    }\n",
       "\n",
       "    .dataframe tbody tr th {\n",
       "        vertical-align: top;\n",
       "    }\n",
       "\n",
       "    .dataframe thead th {\n",
       "        text-align: right;\n",
       "    }\n",
       "</style>\n",
       "<table border=\"1\" class=\"dataframe\">\n",
       "  <thead>\n",
       "    <tr style=\"text-align: right;\">\n",
       "      <th></th>\n",
       "      <th>product_id</th>\n",
       "      <th>product_name</th>\n",
       "      <th>aisle_id</th>\n",
       "      <th>department_id</th>\n",
       "      <th>order_id</th>\n",
       "      <th>add_to_cart_order</th>\n",
       "      <th>reordered</th>\n",
       "    </tr>\n",
       "  </thead>\n",
       "  <tbody>\n",
       "    <tr>\n",
       "      <th>0</th>\n",
       "      <td>1</td>\n",
       "      <td>CHOCOLATE SANDWICH COOKIES</td>\n",
       "      <td>61</td>\n",
       "      <td>19</td>\n",
       "      <td>1104373</td>\n",
       "      <td>11</td>\n",
       "      <td>1</td>\n",
       "    </tr>\n",
       "    <tr>\n",
       "      <th>333546</th>\n",
       "      <td>4778</td>\n",
       "      <td>WHEAT THINS REDUCED FAT CRACKERS</td>\n",
       "      <td>78</td>\n",
       "      <td>19</td>\n",
       "      <td>1104373</td>\n",
       "      <td>9</td>\n",
       "      <td>1</td>\n",
       "    </tr>\n",
       "    <tr>\n",
       "      <th>775170</th>\n",
       "      <td>9387</td>\n",
       "      <td>GRANNY SMITH APPLES</td>\n",
       "      <td>24</td>\n",
       "      <td>4</td>\n",
       "      <td>1104373</td>\n",
       "      <td>7</td>\n",
       "      <td>1</td>\n",
       "    </tr>\n",
       "    <tr>\n",
       "      <th>963166</th>\n",
       "      <td>11869</td>\n",
       "      <td>STRING CHEESE</td>\n",
       "      <td>21</td>\n",
       "      <td>16</td>\n",
       "      <td>1104373</td>\n",
       "      <td>4</td>\n",
       "      <td>1</td>\n",
       "    </tr>\n",
       "    <tr>\n",
       "      <th>1038710</th>\n",
       "      <td>12909</td>\n",
       "      <td>CRUNCHY FLAMIN' HOT</td>\n",
       "      <td>107</td>\n",
       "      <td>19</td>\n",
       "      <td>1104373</td>\n",
       "      <td>13</td>\n",
       "      <td>1</td>\n",
       "    </tr>\n",
       "    <tr>\n",
       "      <th>1450579</th>\n",
       "      <td>17616</td>\n",
       "      <td>GOLDFISH CHEDDAR BAKED SNACK CRACKERS</td>\n",
       "      <td>78</td>\n",
       "      <td>19</td>\n",
       "      <td>1104373</td>\n",
       "      <td>6</td>\n",
       "      <td>1</td>\n",
       "    </tr>\n",
       "    <tr>\n",
       "      <th>1840724</th>\n",
       "      <td>21572</td>\n",
       "      <td>CHEEZ-IT CHEDDAR CRACKER</td>\n",
       "      <td>78</td>\n",
       "      <td>19</td>\n",
       "      <td>1104373</td>\n",
       "      <td>2</td>\n",
       "      <td>1</td>\n",
       "    </tr>\n",
       "    <tr>\n",
       "      <th>2176386</th>\n",
       "      <td>24852</td>\n",
       "      <td>BANANA</td>\n",
       "      <td>24</td>\n",
       "      <td>4</td>\n",
       "      <td>1104373</td>\n",
       "      <td>1</td>\n",
       "      <td>1</td>\n",
       "    </tr>\n",
       "    <tr>\n",
       "      <th>3144615</th>\n",
       "      <td>34487</td>\n",
       "      <td>HASS AVOCADO BAG</td>\n",
       "      <td>24</td>\n",
       "      <td>4</td>\n",
       "      <td>1104373</td>\n",
       "      <td>8</td>\n",
       "      <td>1</td>\n",
       "    </tr>\n",
       "    <tr>\n",
       "      <th>3291283</th>\n",
       "      <td>36259</td>\n",
       "      <td>WHOLE NATURAL VALUE PACK ALMONDS</td>\n",
       "      <td>117</td>\n",
       "      <td>19</td>\n",
       "      <td>1104373</td>\n",
       "      <td>10</td>\n",
       "      <td>1</td>\n",
       "    </tr>\n",
       "    <tr>\n",
       "      <th>3294896</th>\n",
       "      <td>36316</td>\n",
       "      <td>LEMON SPARKLING WATER</td>\n",
       "      <td>115</td>\n",
       "      <td>7</td>\n",
       "      <td>1104373</td>\n",
       "      <td>14</td>\n",
       "      <td>0</td>\n",
       "    </tr>\n",
       "    <tr>\n",
       "      <th>3630248</th>\n",
       "      <td>40285</td>\n",
       "      <td>TRADITIONAL SNACK MIX</td>\n",
       "      <td>125</td>\n",
       "      <td>19</td>\n",
       "      <td>1104373</td>\n",
       "      <td>5</td>\n",
       "      <td>1</td>\n",
       "    </tr>\n",
       "    <tr>\n",
       "      <th>3757182</th>\n",
       "      <td>41803</td>\n",
       "      <td>UNCRUSTABLES PEANUT BUTTER &amp; STRAWBERRY JAM SA...</td>\n",
       "      <td>38</td>\n",
       "      <td>1</td>\n",
       "      <td>1104373</td>\n",
       "      <td>3</td>\n",
       "      <td>1</td>\n",
       "    </tr>\n",
       "    <tr>\n",
       "      <th>4216404</th>\n",
       "      <td>46749</td>\n",
       "      <td>CRUNCHY CHEESE FLAVORED SNACKS</td>\n",
       "      <td>107</td>\n",
       "      <td>19</td>\n",
       "      <td>1104373</td>\n",
       "      <td>12</td>\n",
       "      <td>1</td>\n",
       "    </tr>\n",
       "  </tbody>\n",
       "</table>\n",
       "</div>"
      ],
      "text/plain": [
       "         product_id                                       product_name  \\\n",
       "0                 1                         CHOCOLATE SANDWICH COOKIES   \n",
       "333546         4778                   WHEAT THINS REDUCED FAT CRACKERS   \n",
       "775170         9387                                GRANNY SMITH APPLES   \n",
       "963166        11869                                      STRING CHEESE   \n",
       "1038710       12909                                CRUNCHY FLAMIN' HOT   \n",
       "1450579       17616              GOLDFISH CHEDDAR BAKED SNACK CRACKERS   \n",
       "1840724       21572                           CHEEZ-IT CHEDDAR CRACKER   \n",
       "2176386       24852                                             BANANA   \n",
       "3144615       34487                                   HASS AVOCADO BAG   \n",
       "3291283       36259                   WHOLE NATURAL VALUE PACK ALMONDS   \n",
       "3294896       36316                              LEMON SPARKLING WATER   \n",
       "3630248       40285                              TRADITIONAL SNACK MIX   \n",
       "3757182       41803  UNCRUSTABLES PEANUT BUTTER & STRAWBERRY JAM SA...   \n",
       "4216404       46749                     CRUNCHY CHEESE FLAVORED SNACKS   \n",
       "\n",
       "         aisle_id  department_id  order_id  add_to_cart_order  reordered  \n",
       "0              61             19   1104373                 11          1  \n",
       "333546         78             19   1104373                  9          1  \n",
       "775170         24              4   1104373                  7          1  \n",
       "963166         21             16   1104373                  4          1  \n",
       "1038710       107             19   1104373                 13          1  \n",
       "1450579        78             19   1104373                  6          1  \n",
       "1840724        78             19   1104373                  2          1  \n",
       "2176386        24              4   1104373                  1          1  \n",
       "3144615        24              4   1104373                  8          1  \n",
       "3291283       117             19   1104373                 10          1  \n",
       "3294896       115              7   1104373                 14          0  \n",
       "3630248       125             19   1104373                  5          1  \n",
       "3757182        38              1   1104373                  3          1  \n",
       "4216404       107             19   1104373                 12          1  "
      ]
     },
     "execution_count": 291,
     "metadata": {},
     "output_type": "execute_result"
    }
   ],
   "source": [
    "merged_products[merged_products['order_id'] == 1104373]"
   ]
  },
  {
   "cell_type": "code",
   "execution_count": 292,
   "id": "787ac06f",
   "metadata": {},
   "outputs": [],
   "source": [
    "order_per_user = merged_products.merge(instacart_orders,left_on='order_id',right_on='order_id')"
   ]
  },
  {
   "cell_type": "code",
   "execution_count": 293,
   "id": "8c10f3c4",
   "metadata": {},
   "outputs": [
    {
     "data": {
      "text/html": [
       "<div>\n",
       "<style scoped>\n",
       "    .dataframe tbody tr th:only-of-type {\n",
       "        vertical-align: middle;\n",
       "    }\n",
       "\n",
       "    .dataframe tbody tr th {\n",
       "        vertical-align: top;\n",
       "    }\n",
       "\n",
       "    .dataframe thead th {\n",
       "        text-align: right;\n",
       "    }\n",
       "</style>\n",
       "<table border=\"1\" class=\"dataframe\">\n",
       "  <thead>\n",
       "    <tr style=\"text-align: right;\">\n",
       "      <th></th>\n",
       "      <th>product_id</th>\n",
       "      <th>product_name</th>\n",
       "      <th>aisle_id</th>\n",
       "      <th>department_id</th>\n",
       "      <th>order_id</th>\n",
       "      <th>add_to_cart_order</th>\n",
       "      <th>reordered</th>\n",
       "      <th>user_id</th>\n",
       "      <th>order_number</th>\n",
       "      <th>order_dow</th>\n",
       "      <th>order_hour_of_day</th>\n",
       "      <th>days_since_prior_order</th>\n",
       "    </tr>\n",
       "  </thead>\n",
       "  <tbody>\n",
       "    <tr>\n",
       "      <th>0</th>\n",
       "      <td>1</td>\n",
       "      <td>CHOCOLATE SANDWICH COOKIES</td>\n",
       "      <td>61</td>\n",
       "      <td>19</td>\n",
       "      <td>1104373</td>\n",
       "      <td>11</td>\n",
       "      <td>1</td>\n",
       "      <td>205262</td>\n",
       "      <td>29</td>\n",
       "      <td>3</td>\n",
       "      <td>14</td>\n",
       "      <td>7.0</td>\n",
       "    </tr>\n",
       "    <tr>\n",
       "      <th>1</th>\n",
       "      <td>4778</td>\n",
       "      <td>WHEAT THINS REDUCED FAT CRACKERS</td>\n",
       "      <td>78</td>\n",
       "      <td>19</td>\n",
       "      <td>1104373</td>\n",
       "      <td>9</td>\n",
       "      <td>1</td>\n",
       "      <td>205262</td>\n",
       "      <td>29</td>\n",
       "      <td>3</td>\n",
       "      <td>14</td>\n",
       "      <td>7.0</td>\n",
       "    </tr>\n",
       "    <tr>\n",
       "      <th>2</th>\n",
       "      <td>9387</td>\n",
       "      <td>GRANNY SMITH APPLES</td>\n",
       "      <td>24</td>\n",
       "      <td>4</td>\n",
       "      <td>1104373</td>\n",
       "      <td>7</td>\n",
       "      <td>1</td>\n",
       "      <td>205262</td>\n",
       "      <td>29</td>\n",
       "      <td>3</td>\n",
       "      <td>14</td>\n",
       "      <td>7.0</td>\n",
       "    </tr>\n",
       "    <tr>\n",
       "      <th>3</th>\n",
       "      <td>11869</td>\n",
       "      <td>STRING CHEESE</td>\n",
       "      <td>21</td>\n",
       "      <td>16</td>\n",
       "      <td>1104373</td>\n",
       "      <td>4</td>\n",
       "      <td>1</td>\n",
       "      <td>205262</td>\n",
       "      <td>29</td>\n",
       "      <td>3</td>\n",
       "      <td>14</td>\n",
       "      <td>7.0</td>\n",
       "    </tr>\n",
       "    <tr>\n",
       "      <th>4</th>\n",
       "      <td>12909</td>\n",
       "      <td>CRUNCHY FLAMIN' HOT</td>\n",
       "      <td>107</td>\n",
       "      <td>19</td>\n",
       "      <td>1104373</td>\n",
       "      <td>13</td>\n",
       "      <td>1</td>\n",
       "      <td>205262</td>\n",
       "      <td>29</td>\n",
       "      <td>3</td>\n",
       "      <td>14</td>\n",
       "      <td>7.0</td>\n",
       "    </tr>\n",
       "    <tr>\n",
       "      <th>...</th>\n",
       "      <td>...</td>\n",
       "      <td>...</td>\n",
       "      <td>...</td>\n",
       "      <td>...</td>\n",
       "      <td>...</td>\n",
       "      <td>...</td>\n",
       "      <td>...</td>\n",
       "      <td>...</td>\n",
       "      <td>...</td>\n",
       "      <td>...</td>\n",
       "      <td>...</td>\n",
       "      <td>...</td>\n",
       "    </tr>\n",
       "    <tr>\n",
       "      <th>4545002</th>\n",
       "      <td>49683</td>\n",
       "      <td>CUCUMBER KIRBY</td>\n",
       "      <td>83</td>\n",
       "      <td>4</td>\n",
       "      <td>2400902</td>\n",
       "      <td>1</td>\n",
       "      <td>0</td>\n",
       "      <td>149501</td>\n",
       "      <td>32</td>\n",
       "      <td>1</td>\n",
       "      <td>16</td>\n",
       "      <td>17.0</td>\n",
       "    </tr>\n",
       "    <tr>\n",
       "      <th>4545003</th>\n",
       "      <td>49683</td>\n",
       "      <td>CUCUMBER KIRBY</td>\n",
       "      <td>83</td>\n",
       "      <td>4</td>\n",
       "      <td>3088905</td>\n",
       "      <td>1</td>\n",
       "      <td>1</td>\n",
       "      <td>181487</td>\n",
       "      <td>10</td>\n",
       "      <td>0</td>\n",
       "      <td>13</td>\n",
       "      <td>30.0</td>\n",
       "    </tr>\n",
       "    <tr>\n",
       "      <th>4545004</th>\n",
       "      <td>49683</td>\n",
       "      <td>CUCUMBER KIRBY</td>\n",
       "      <td>83</td>\n",
       "      <td>4</td>\n",
       "      <td>1654984</td>\n",
       "      <td>1</td>\n",
       "      <td>0</td>\n",
       "      <td>126227</td>\n",
       "      <td>6</td>\n",
       "      <td>1</td>\n",
       "      <td>14</td>\n",
       "      <td>30.0</td>\n",
       "    </tr>\n",
       "    <tr>\n",
       "      <th>4545005</th>\n",
       "      <td>49683</td>\n",
       "      <td>CUCUMBER KIRBY</td>\n",
       "      <td>83</td>\n",
       "      <td>4</td>\n",
       "      <td>1790112</td>\n",
       "      <td>1</td>\n",
       "      <td>0</td>\n",
       "      <td>132799</td>\n",
       "      <td>1</td>\n",
       "      <td>6</td>\n",
       "      <td>16</td>\n",
       "      <td>NaN</td>\n",
       "    </tr>\n",
       "    <tr>\n",
       "      <th>4545006</th>\n",
       "      <td>49691</td>\n",
       "      <td>ORIGINAL PANCAKE &amp; WAFFLE MIX</td>\n",
       "      <td>130</td>\n",
       "      <td>14</td>\n",
       "      <td>870376</td>\n",
       "      <td>1</td>\n",
       "      <td>0</td>\n",
       "      <td>148806</td>\n",
       "      <td>3</td>\n",
       "      <td>4</td>\n",
       "      <td>8</td>\n",
       "      <td>1.0</td>\n",
       "    </tr>\n",
       "  </tbody>\n",
       "</table>\n",
       "<p>4545007 rows × 12 columns</p>\n",
       "</div>"
      ],
      "text/plain": [
       "         product_id                      product_name  aisle_id  \\\n",
       "0                 1        CHOCOLATE SANDWICH COOKIES        61   \n",
       "1              4778  WHEAT THINS REDUCED FAT CRACKERS        78   \n",
       "2              9387               GRANNY SMITH APPLES        24   \n",
       "3             11869                     STRING CHEESE        21   \n",
       "4             12909               CRUNCHY FLAMIN' HOT       107   \n",
       "...             ...                               ...       ...   \n",
       "4545002       49683                    CUCUMBER KIRBY        83   \n",
       "4545003       49683                    CUCUMBER KIRBY        83   \n",
       "4545004       49683                    CUCUMBER KIRBY        83   \n",
       "4545005       49683                    CUCUMBER KIRBY        83   \n",
       "4545006       49691     ORIGINAL PANCAKE & WAFFLE MIX       130   \n",
       "\n",
       "         department_id  order_id  add_to_cart_order  reordered  user_id  \\\n",
       "0                   19   1104373                 11          1   205262   \n",
       "1                   19   1104373                  9          1   205262   \n",
       "2                    4   1104373                  7          1   205262   \n",
       "3                   16   1104373                  4          1   205262   \n",
       "4                   19   1104373                 13          1   205262   \n",
       "...                ...       ...                ...        ...      ...   \n",
       "4545002              4   2400902                  1          0   149501   \n",
       "4545003              4   3088905                  1          1   181487   \n",
       "4545004              4   1654984                  1          0   126227   \n",
       "4545005              4   1790112                  1          0   132799   \n",
       "4545006             14    870376                  1          0   148806   \n",
       "\n",
       "         order_number  order_dow  order_hour_of_day  days_since_prior_order  \n",
       "0                  29          3                 14                     7.0  \n",
       "1                  29          3                 14                     7.0  \n",
       "2                  29          3                 14                     7.0  \n",
       "3                  29          3                 14                     7.0  \n",
       "4                  29          3                 14                     7.0  \n",
       "...               ...        ...                ...                     ...  \n",
       "4545002            32          1                 16                    17.0  \n",
       "4545003            10          0                 13                    30.0  \n",
       "4545004             6          1                 14                    30.0  \n",
       "4545005             1          6                 16                     NaN  \n",
       "4545006             3          4                  8                     1.0  \n",
       "\n",
       "[4545007 rows x 12 columns]"
      ]
     },
     "execution_count": 293,
     "metadata": {},
     "output_type": "execute_result"
    }
   ],
   "source": [
    "order_per_user"
   ]
  },
  {
   "cell_type": "code",
   "execution_count": 294,
   "id": "f82d69b7",
   "metadata": {},
   "outputs": [
    {
     "name": "stdout",
     "output_type": "stream",
     "text": [
      "order_id\n",
      "4          13\n",
      "9          15\n",
      "11          5\n",
      "19          3\n",
      "20          8\n",
      "           ..\n",
      "3421034    17\n",
      "3421053     9\n",
      "3421071     5\n",
      "3421077     4\n",
      "3421079     1\n",
      "Name: product_id, Length: 450046, dtype: int64\n",
      "order_id\n",
      "61355      127\n",
      "3308010    115\n",
      "2136777    108\n",
      "171934     104\n",
      "1959075     98\n",
      "          ... \n",
      "2231165      1\n",
      "816908       1\n",
      "2230951      1\n",
      "112056       1\n",
      "3421079      1\n",
      "Name: product_id, Length: 450046, dtype: int64\n"
     ]
    }
   ],
   "source": [
    "grp_order_per_user = order_per_user.groupby('order_id')\n",
    "print(grp_order_per_user.count()['product_id'])\n",
    "print(grp_order_per_user.count()['product_id'].sort_values(ascending=False))"
   ]
  },
  {
   "cell_type": "code",
   "execution_count": 295,
   "id": "2f4acf3c",
   "metadata": {},
   "outputs": [
    {
     "data": {
      "text/plain": [
       "order_id\n",
       "61355      127\n",
       "3308010    115\n",
       "2136777    108\n",
       "171934     104\n",
       "1959075     98\n",
       "          ... \n",
       "2231165      1\n",
       "816908       1\n",
       "2230951      1\n",
       "112056       1\n",
       "3421079      1\n",
       "Name: product_id, Length: 450046, dtype: int64"
      ]
     },
     "execution_count": 295,
     "metadata": {},
     "output_type": "execute_result"
    }
   ],
   "source": [
    "merged_products.groupby('order_id').count()['product_id'].sort_values(ascending=False)"
   ]
  },
  {
   "cell_type": "code",
   "execution_count": 296,
   "id": "sensitive-breathing",
   "metadata": {
    "id": "sensitive-breathing"
   },
   "outputs": [
    {
     "data": {
      "image/png": "[encoded data removed]",
      "text/plain": [
       "<Figure size 1440x1080 with 1 Axes>"
      ]
     },
     "metadata": {
      "needs_background": "light"
     },
     "output_type": "display_data"
    }
   ],
   "source": [
    "grp_order_per_user.count()['order_number'].plot(title='Distrubución pedidos por perosna',\n",
    "                                                 xlabel='Número de orden',\n",
    "                                                 ylabel='Número de productos',\n",
    "                                                rot=90,\n",
    "                                               figsize=(20,15),\n",
    "                                               grid=True)\n",
    "plt.show()"
   ]
  },
  {
   "cell_type": "code",
   "execution_count": 297,
   "id": "a6f4f632",
   "metadata": {},
   "outputs": [
    {
     "data": {
      "text/plain": [
       "0         13\n",
       "1         15\n",
       "2          5\n",
       "3          3\n",
       "4          8\n",
       "          ..\n",
       "450041    17\n",
       "450042     9\n",
       "450043     5\n",
       "450044     4\n",
       "450045     1\n",
       "Name: product_id, Length: 450046, dtype: int64"
      ]
     },
     "execution_count": 297,
     "metadata": {},
     "output_type": "execute_result"
    }
   ],
   "source": [
    "#Corrección\n",
    "grp_order_products = order_products.groupby('order_id').count()['product_id']\n",
    "grp_order_products = grp_order_products.reset_index(drop=True)\n",
    "grp_order_products"
   ]
  },
  {
   "cell_type": "code",
   "execution_count": 298,
   "id": "066fab29",
   "metadata": {},
   "outputs": [
    {
     "data": {
      "image/png": "[encoded data removed]",
      "text/plain": [
       "<Figure size 360x288 with 1 Axes>"
      ]
     },
     "metadata": {
      "needs_background": "light"
     },
     "output_type": "display_data"
    }
   ],
   "source": [
    "grp_order_products.plot(title='Distrubución pedidos por perosna',\n",
    "                                               xlabel='Número de orden',\n",
    "                                               ylabel='Número de productos',\n",
    "                                               rot=90,\n",
    "                                               figsize=(5,4),\n",
    "                                               grid=True,\n",
    "                                               kind='hist')\n",
    "plt.show()"
   ]
  },
  {
   "cell_type": "markdown",
   "id": "570f9e0e",
   "metadata": {},
   "source": [
    "<div class=\"alert alert-block alert-info\">\n",
    "<b>Respuesta del estudiante</b> <a class=\"tocSkip\"></a>\n",
    "\n",
    "Listo!\n",
    "\n",
    "El único detalle fue que en vez de ordern los indices, debí haber formatearlos para que me mostrara correctamente la frecuencia.\n",
    "</div>"
   ]
  },
  {
   "cell_type": "markdown",
   "id": "designed-mortality",
   "metadata": {
    "id": "designed-mortality"
   },
   "source": [
    "Escribe aquí tus conclusiones\n",
    "\n",
    "\n",
    "Tenía claro que tenía unir dos tablas, pero no sabía cuales eran así que fuí a la descripción de la tablas. Me dí cuenta que las las columna `order_id` está tanto en `instacart_orders` como `merged_products` que me ayudará a juntar estos dataframes con el método `merge`. La unión de las tablas se desclaró como `order_per_user`, se agrupó por el número de orden y se contó el número de productos que se compraron. Esto tambien pude haberlo obtenido únicemnte con el df `merged_products`, sin haber tenido la necesidad de juntarlo con `instacart_orders`.\n",
    "\n",
    "Hice una gráfica para observar la distibución pero su visluación es cero clara y consufa.\n",
    "\n",
    "Además me dí cuenta que si trabajo con varias tablas, lo que puedo hacer es juntarlas para hacer agrupaciones y calculos más fácil sin necesidad de consultar tablas una por una."
   ]
  },
  {
   "cell_type": "markdown",
   "id": "5e6b5537",
   "metadata": {
    "id": "5e6b5537"
   },
   "source": [
    "### [C2] ¿Cuáles son los 20 principales artículos que vuelven a pedirse con mayor frecuencia (muestra sus nombres e IDs de los productos)?"
   ]
  },
  {
   "cell_type": "code",
   "execution_count": 299,
   "id": "9374e55a",
   "metadata": {
    "id": "9374e55a"
   },
   "outputs": [
    {
     "data": {
      "text/plain": [
       "product_name              product_id\n",
       "BANANA                    24852         55763\n",
       "BAG OF ORGANIC BANANAS    13176         44450\n",
       "ORGANIC STRAWBERRIES      21137         28639\n",
       "ORGANIC BABY SPINACH      21903         26233\n",
       "ORGANIC HASS AVOCADO      47209         23629\n",
       "ORGANIC AVOCADO           47766         18743\n",
       "ORGANIC WHOLE MILK        27845         16251\n",
       "LARGE LEMON               47626         15044\n",
       "ORGANIC RASPBERRIES       27966         14748\n",
       "STRAWBERRIES              16797         13945\n",
       "LIMES                     26209         13327\n",
       "ORGANIC YELLOW ONION      22935         11145\n",
       "ORGANIC GARLIC            24964         10411\n",
       "ORGANIC ZUCCHINI          45007         10076\n",
       "CUCUMBER KIRBY            49683          9538\n",
       "ORGANIC FUJI APPLE        28204          8989\n",
       "APPLE HONEYCRISP ORGANIC  8277           8836\n",
       "ORGANIC BLUEBERRIES       39275          8799\n",
       "ORGANIC LEMON             5876           8412\n",
       "ORGANIC HALF & HALF       49235          8389\n",
       "Name: reordered, dtype: int64"
      ]
     },
     "execution_count": 299,
     "metadata": {},
     "output_type": "execute_result"
    }
   ],
   "source": [
    "freq_products = groupby_pr_name_id['reordered'].sum()\n",
    "freq_products.sort_values(ascending=False).head(20)"
   ]
  },
  {
   "cell_type": "markdown",
   "id": "b28a5efd",
   "metadata": {
    "id": "professional-surfing",
    "scrolled": true
   },
   "source": [
    "<div class=\"alert alert-block alert-success\">\n",
    "<b>Comentario del revisor</b> <a class=\"tocSkip\"></a>\n",
    "\n",
    "Muy bien.</div>"
   ]
  },
  {
   "cell_type": "code",
   "execution_count": null,
   "id": "48dd3658",
   "metadata": {
    "id": "48dd3658"
   },
   "outputs": [],
   "source": []
  },
  {
   "cell_type": "markdown",
   "id": "80e70c74",
   "metadata": {
    "id": "80e70c74"
   },
   "source": [
    "Escribe aquí tus conclusiones\n",
    "\n",
    "La mayoría de los productos que se piden con mayor frecuencia parecen ser orgánicos"
   ]
  },
  {
   "cell_type": "markdown",
   "id": "9d312b14",
   "metadata": {
    "id": "9d312b14"
   },
   "source": [
    "### [C3] Para cada producto, ¿cuál es la proporción de las veces que se pide y que se vuelve a pedir?"
   ]
  },
  {
   "cell_type": "code",
   "execution_count": 300,
   "id": "8ae9f4b1",
   "metadata": {
    "id": "8ae9f4b1",
    "scrolled": false
   },
   "outputs": [
    {
     "data": {
      "text/plain": [
       "<pandas.core.groupby.generic.DataFrameGroupBy object at 0x7fa265bd8df0>"
      ]
     },
     "execution_count": 300,
     "metadata": {},
     "output_type": "execute_result"
    }
   ],
   "source": [
    "groupby_pr_name_id"
   ]
  },
  {
   "cell_type": "markdown",
   "id": "b5e49cf7",
   "metadata": {},
   "source": [
    "<div class=\"alert alert-block alert-danger\">\n",
    "<b>Comentario del revisor</b> <a class=\"tocSkip\"></a>\n",
    "\n",
    "En este caso debemos combinar ambas tablas (order_products y products). Esto crea una nueva tabla con información combinada, como nombre del producto y si se volvió a pedir (de la tabla de pedidos).\n",
    "\n",
    "Luego, agrupamos (con un groupby) la información por product_id y product_name. En cada grupo, calculamos la media del campo reordered. Recuerda que este campo indica si un producto se volvió a pedir (1) o no (0). Entonces, el promedio nos revela la tasa de reorden para cada producto: qué porcentaje de veces se volvió a pedir en general.\n",
    "\n",
    "Por último,  pode ordenar la nueva tabla (reorder_rate_as_df) por product_id. Esto nos permite ver la tasa de reorden de cada producto, ordenados de mayor a menor.</div>"
   ]
  },
  {
   "cell_type": "markdown",
   "id": "f2276935",
   "metadata": {},
   "source": [
    "<div class=\"alert alert-block alert-info\">\n",
    "<b>Respuesta del estudiante</b> <a class=\"tocSkip\"></a>\n",
    "\n",
    "Las tablas `order_products` y `products` si fueron combinadas a una sola tabla y se guardaron en una variable \n",
    "llamada `merged_products`. De igual forma, la variable `groupby_pr_name_id`  tiene la información de la agrupación por `product_name` y `product_id`.\n",
    "    \n",
    "Para el orden por product_id tuve que ver la documentación para agrupar únicamente el índice `product_id`\n",
    "</div>\n",
    "\n",
    "<div class=\"alert alert-block alert-warning\">\n",
    "<b>Comentario del revisor #2</b> <a class=\"tocSkip\"></a>\n",
    "\n",
    "Corregido, en este caso podrias transformarlo en un dataframe ya que estas entregando una serie.</div>"
   ]
  },
  {
   "cell_type": "markdown",
   "id": "a6a77023",
   "metadata": {},
   "source": [
    "<div class=\"alert alert-block alert-info\">\n",
    "<b>Respuesta del estudiante</b> <a class=\"tocSkip\"></a>\n",
    "\n",
    "Listo.!!!\n",
    "</div>\n",
    "\n",
    "<div class=\"alert alert-block alert-success\">\n",
    "\n",
    "<b>Comentario del revisor #3</b> <a class=\"tocSkip\"></a>\n",
    "\n",
    "Corregido, muy bien.\n",
    "\n",
    "</div>"
   ]
  },
  {
   "cell_type": "code",
   "execution_count": 312,
   "id": "2e1fbce2",
   "metadata": {},
   "outputs": [],
   "source": [
    "#Correción 2\n",
    "reorder_rate_as_df = groupby_pr_name_id.mean()['reordered']\n",
    "reorder_rate_as_df = reorder_rate_as_df.sort_index(level=['product_id','product_name'], ascending=[False, True])\n",
    "reorder_rate_as_df = reorder_rate_as_df.to_frame()"
   ]
  },
  {
   "cell_type": "code",
   "execution_count": 313,
   "id": "8d41b8f9",
   "metadata": {},
   "outputs": [
    {
     "data": {
      "text/html": [
       "<div>\n",
       "<style scoped>\n",
       "    .dataframe tbody tr th:only-of-type {\n",
       "        vertical-align: middle;\n",
       "    }\n",
       "\n",
       "    .dataframe tbody tr th {\n",
       "        vertical-align: top;\n",
       "    }\n",
       "\n",
       "    .dataframe thead th {\n",
       "        text-align: right;\n",
       "    }\n",
       "</style>\n",
       "<table border=\"1\" class=\"dataframe\">\n",
       "  <thead>\n",
       "    <tr style=\"text-align: right;\">\n",
       "      <th></th>\n",
       "      <th></th>\n",
       "      <th>reordered</th>\n",
       "    </tr>\n",
       "    <tr>\n",
       "      <th>product_name</th>\n",
       "      <th>product_id</th>\n",
       "      <th></th>\n",
       "    </tr>\n",
       "  </thead>\n",
       "  <tbody>\n",
       "    <tr>\n",
       "      <th>BURRITO- STEAK &amp; CHEESE</th>\n",
       "      <th>49694</th>\n",
       "      <td>0.333333</td>\n",
       "    </tr>\n",
       "    <tr>\n",
       "      <th>SPRING WATER BODY WASH</th>\n",
       "      <th>49693</th>\n",
       "      <td>0.440000</td>\n",
       "    </tr>\n",
       "    <tr>\n",
       "      <th>ORGANIC INSTANT OATMEAL LIGHT MAPLE BROWN SUGAR</th>\n",
       "      <th>49692</th>\n",
       "      <td>0.416667</td>\n",
       "    </tr>\n",
       "    <tr>\n",
       "      <th>ORIGINAL PANCAKE &amp; WAFFLE MIX</th>\n",
       "      <th>49691</th>\n",
       "      <td>0.430556</td>\n",
       "    </tr>\n",
       "    <tr>\n",
       "      <th>HIGH PERFORMANCE ENERGY DRINK</th>\n",
       "      <th>49690</th>\n",
       "      <td>0.800000</td>\n",
       "    </tr>\n",
       "    <tr>\n",
       "      <th>...</th>\n",
       "      <th>...</th>\n",
       "      <td>...</td>\n",
       "    </tr>\n",
       "    <tr>\n",
       "      <th>PURE COCONUT WATER WITH ORANGE</th>\n",
       "      <th>7</th>\n",
       "      <td>0.500000</td>\n",
       "    </tr>\n",
       "    <tr>\n",
       "      <th>SMART ONES CLASSIC FAVORITES MINI RIGATONI WITH VODKA CREAM SAUCE</th>\n",
       "      <th>4</th>\n",
       "      <td>0.510204</td>\n",
       "    </tr>\n",
       "    <tr>\n",
       "      <th>ROBUST GOLDEN UNSWEETENED OOLONG TEA</th>\n",
       "      <th>3</th>\n",
       "      <td>0.738095</td>\n",
       "    </tr>\n",
       "    <tr>\n",
       "      <th>ALL-SEASONS SALT</th>\n",
       "      <th>2</th>\n",
       "      <td>0.000000</td>\n",
       "    </tr>\n",
       "    <tr>\n",
       "      <th>CHOCOLATE SANDWICH COOKIES</th>\n",
       "      <th>1</th>\n",
       "      <td>0.564286</td>\n",
       "    </tr>\n",
       "  </tbody>\n",
       "</table>\n",
       "<p>45573 rows × 1 columns</p>\n",
       "</div>"
      ],
      "text/plain": [
       "                                                               reordered\n",
       "product_name                                       product_id           \n",
       "BURRITO- STEAK & CHEESE                            49694        0.333333\n",
       "SPRING WATER BODY WASH                             49693        0.440000\n",
       "ORGANIC INSTANT OATMEAL LIGHT MAPLE BROWN SUGAR    49692        0.416667\n",
       "ORIGINAL PANCAKE & WAFFLE MIX                      49691        0.430556\n",
       "HIGH PERFORMANCE ENERGY DRINK                      49690        0.800000\n",
       "...                                                                  ...\n",
       "PURE COCONUT WATER WITH ORANGE                     7            0.500000\n",
       "SMART ONES CLASSIC FAVORITES MINI RIGATONI WITH... 4            0.510204\n",
       "ROBUST GOLDEN UNSWEETENED OOLONG TEA               3            0.738095\n",
       "ALL-SEASONS SALT                                   2            0.000000\n",
       "CHOCOLATE SANDWICH COOKIES                         1            0.564286\n",
       "\n",
       "[45573 rows x 1 columns]"
      ]
     },
     "execution_count": 313,
     "metadata": {},
     "output_type": "execute_result"
    }
   ],
   "source": [
    "reorder_rate_as_df"
   ]
  },
  {
   "cell_type": "markdown",
   "id": "I10dEIAyldcO",
   "metadata": {
    "id": "I10dEIAyldcO"
   },
   "source": [
    "Escribe aquí tus conclusiones\n",
    "\n",
    "Ya tenía declarado la variable `groupby_pr_name_id` que tiene agrupado el dataframe `merged_products` por producto y id del producto, trabajé a aprtir de ahí.\n",
    "Desarrollé un diccionrario que me ayudó a hacer el calculo de el número total de repeticiones que tuvo el producto y la suma total de pedidios que tuvo dicho producto con la ayuda del método `agg`.\n",
    "Finalmente, dividí los valores obtenidos `['reordered']  / prop['order_id']` y se incluiyeron en una nueva columna"
   ]
  },
  {
   "cell_type": "markdown",
   "id": "subject-boxing",
   "metadata": {
    "id": "subject-boxing"
   },
   "source": [
    "### [C4] Para cada cliente, ¿qué proporción de sus productos ya los había pedido?"
   ]
  },
  {
   "cell_type": "code",
   "execution_count": 305,
   "id": "8892e4b4",
   "metadata": {
    "id": "8892e4b4"
   },
   "outputs": [
    {
     "data": {
      "text/plain": [
       "<pandas.core.groupby.generic.DataFrameGroupBy object at 0x7fa260c5e580>"
      ]
     },
     "execution_count": 305,
     "metadata": {},
     "output_type": "execute_result"
    }
   ],
   "source": [
    "order_per_user.groupby('user_id')"
   ]
  },
  {
   "cell_type": "code",
   "execution_count": null,
   "id": "d49698a2",
   "metadata": {},
   "outputs": [],
   "source": []
  },
  {
   "cell_type": "code",
   "execution_count": 306,
   "id": "medical-couple",
   "metadata": {
    "id": "medical-couple",
    "scrolled": false
   },
   "outputs": [
    {
     "data": {
      "text/html": [
       "<div>\n",
       "<style scoped>\n",
       "    .dataframe tbody tr th:only-of-type {\n",
       "        vertical-align: middle;\n",
       "    }\n",
       "\n",
       "    .dataframe tbody tr th {\n",
       "        vertical-align: top;\n",
       "    }\n",
       "\n",
       "    .dataframe thead th {\n",
       "        text-align: right;\n",
       "    }\n",
       "</style>\n",
       "<table border=\"1\" class=\"dataframe\">\n",
       "  <thead>\n",
       "    <tr style=\"text-align: right;\">\n",
       "      <th></th>\n",
       "      <th>reordered</th>\n",
       "      <th>order_id</th>\n",
       "      <th>repetition_rate</th>\n",
       "    </tr>\n",
       "    <tr>\n",
       "      <th>user_id</th>\n",
       "      <th></th>\n",
       "      <th></th>\n",
       "      <th></th>\n",
       "    </tr>\n",
       "  </thead>\n",
       "  <tbody>\n",
       "    <tr>\n",
       "      <th>2</th>\n",
       "      <td>1</td>\n",
       "      <td>26</td>\n",
       "      <td>0.038462</td>\n",
       "    </tr>\n",
       "    <tr>\n",
       "      <th>4</th>\n",
       "      <td>0</td>\n",
       "      <td>2</td>\n",
       "      <td>0.000000</td>\n",
       "    </tr>\n",
       "    <tr>\n",
       "      <th>5</th>\n",
       "      <td>8</td>\n",
       "      <td>12</td>\n",
       "      <td>0.666667</td>\n",
       "    </tr>\n",
       "    <tr>\n",
       "      <th>6</th>\n",
       "      <td>0</td>\n",
       "      <td>4</td>\n",
       "      <td>0.000000</td>\n",
       "    </tr>\n",
       "    <tr>\n",
       "      <th>7</th>\n",
       "      <td>13</td>\n",
       "      <td>14</td>\n",
       "      <td>0.928571</td>\n",
       "    </tr>\n",
       "    <tr>\n",
       "      <th>...</th>\n",
       "      <td>...</td>\n",
       "      <td>...</td>\n",
       "      <td>...</td>\n",
       "    </tr>\n",
       "    <tr>\n",
       "      <th>206203</th>\n",
       "      <td>6</td>\n",
       "      <td>27</td>\n",
       "      <td>0.222222</td>\n",
       "    </tr>\n",
       "    <tr>\n",
       "      <th>206206</th>\n",
       "      <td>15</td>\n",
       "      <td>21</td>\n",
       "      <td>0.714286</td>\n",
       "    </tr>\n",
       "    <tr>\n",
       "      <th>206207</th>\n",
       "      <td>41</td>\n",
       "      <td>46</td>\n",
       "      <td>0.891304</td>\n",
       "    </tr>\n",
       "    <tr>\n",
       "      <th>206208</th>\n",
       "      <td>87</td>\n",
       "      <td>125</td>\n",
       "      <td>0.696000</td>\n",
       "    </tr>\n",
       "    <tr>\n",
       "      <th>206209</th>\n",
       "      <td>8</td>\n",
       "      <td>25</td>\n",
       "      <td>0.320000</td>\n",
       "    </tr>\n",
       "  </tbody>\n",
       "</table>\n",
       "<p>149626 rows × 3 columns</p>\n",
       "</div>"
      ],
      "text/plain": [
       "         reordered  order_id  repetition_rate\n",
       "user_id                                      \n",
       "2                1        26         0.038462\n",
       "4                0         2         0.000000\n",
       "5                8        12         0.666667\n",
       "6                0         4         0.000000\n",
       "7               13        14         0.928571\n",
       "...            ...       ...              ...\n",
       "206203           6        27         0.222222\n",
       "206206          15        21         0.714286\n",
       "206207          41        46         0.891304\n",
       "206208          87       125         0.696000\n",
       "206209           8        25         0.320000\n",
       "\n",
       "[149626 rows x 3 columns]"
      ]
     },
     "execution_count": 306,
     "metadata": {},
     "output_type": "execute_result"
    }
   ],
   "source": [
    "agg_dict = {'reordered':'sum','order_id':'count'}\n",
    "grp = order_per_user.groupby('user_id')\n",
    "grp_agg = grp.agg(agg_dict)\n",
    "grp_agg['repetition_rate'] = grp_agg['reordered'] / grp_agg['order_id']\n",
    "grp_agg"
   ]
  },
  {
   "cell_type": "markdown",
   "id": "BgJSvXDsleXz",
   "metadata": {
    "id": "BgJSvXDsleXz"
   },
   "source": [
    "Escribe aquí tus conclusiones\n",
    "\n",
    "Me connfundí un poco en este ejercicio pero me aprece que es como el pasado, solo que hora era agupar el df por `user_id`"
   ]
  },
  {
   "cell_type": "markdown",
   "id": "8eed8bd8",
   "metadata": {},
   "source": [
    "<div class=\"alert alert-block alert-success\">\n",
    "<b>Comentario del revisor</b> <a class=\"tocSkip\"></a>\n",
    "\n",
    "Excelente.</div>"
   ]
  },
  {
   "cell_type": "markdown",
   "id": "92d35137",
   "metadata": {
    "id": "92d35137"
   },
   "source": [
    "### [C5] ¿Cuáles son los 20 principales artículos que las personas ponen primero en sus carritos?"
   ]
  },
  {
   "cell_type": "code",
   "execution_count": 307,
   "id": "0ae57274",
   "metadata": {
    "id": "0ae57274",
    "scrolled": false
   },
   "outputs": [
    {
     "data": {
      "text/html": [
       "<div>\n",
       "<style scoped>\n",
       "    .dataframe tbody tr th:only-of-type {\n",
       "        vertical-align: middle;\n",
       "    }\n",
       "\n",
       "    .dataframe tbody tr th {\n",
       "        vertical-align: top;\n",
       "    }\n",
       "\n",
       "    .dataframe thead th {\n",
       "        text-align: right;\n",
       "    }\n",
       "</style>\n",
       "<table border=\"1\" class=\"dataframe\">\n",
       "  <thead>\n",
       "    <tr style=\"text-align: right;\">\n",
       "      <th></th>\n",
       "      <th>product_id</th>\n",
       "      <th>product_name</th>\n",
       "      <th>aisle_id</th>\n",
       "      <th>department_id</th>\n",
       "      <th>order_id</th>\n",
       "      <th>add_to_cart_order</th>\n",
       "      <th>reordered</th>\n",
       "      <th>user_id</th>\n",
       "      <th>order_number</th>\n",
       "      <th>order_dow</th>\n",
       "      <th>order_hour_of_day</th>\n",
       "      <th>days_since_prior_order</th>\n",
       "    </tr>\n",
       "  </thead>\n",
       "  <tbody>\n",
       "    <tr>\n",
       "      <th>4545006</th>\n",
       "      <td>49691</td>\n",
       "      <td>ORIGINAL PANCAKE &amp; WAFFLE MIX</td>\n",
       "      <td>130</td>\n",
       "      <td>14</td>\n",
       "      <td>870376</td>\n",
       "      <td>1</td>\n",
       "      <td>0</td>\n",
       "      <td>148806</td>\n",
       "      <td>3</td>\n",
       "      <td>4</td>\n",
       "      <td>8</td>\n",
       "      <td>1.0</td>\n",
       "    </tr>\n",
       "    <tr>\n",
       "      <th>4241476</th>\n",
       "      <td>31651</td>\n",
       "      <td>EXTRA FANCY UNSALTED MIXED NUTS</td>\n",
       "      <td>117</td>\n",
       "      <td>19</td>\n",
       "      <td>545488</td>\n",
       "      <td>1</td>\n",
       "      <td>1</td>\n",
       "      <td>91417</td>\n",
       "      <td>3</td>\n",
       "      <td>5</td>\n",
       "      <td>10</td>\n",
       "      <td>30.0</td>\n",
       "    </tr>\n",
       "    <tr>\n",
       "      <th>3407016</th>\n",
       "      <td>16959</td>\n",
       "      <td>TOILET PAPER DOUBLE ROLLS - 24 CT</td>\n",
       "      <td>54</td>\n",
       "      <td>17</td>\n",
       "      <td>1192115</td>\n",
       "      <td>1</td>\n",
       "      <td>0</td>\n",
       "      <td>109912</td>\n",
       "      <td>3</td>\n",
       "      <td>5</td>\n",
       "      <td>0</td>\n",
       "      <td>30.0</td>\n",
       "    </tr>\n",
       "    <tr>\n",
       "      <th>581197</th>\n",
       "      <td>8424</td>\n",
       "      <td>BROCCOLI CROWN</td>\n",
       "      <td>83</td>\n",
       "      <td>4</td>\n",
       "      <td>2255640</td>\n",
       "      <td>1</td>\n",
       "      <td>0</td>\n",
       "      <td>158177</td>\n",
       "      <td>5</td>\n",
       "      <td>6</td>\n",
       "      <td>14</td>\n",
       "      <td>19.0</td>\n",
       "    </tr>\n",
       "    <tr>\n",
       "      <th>2014554</th>\n",
       "      <td>28756</td>\n",
       "      <td>DEVILED EGGS</td>\n",
       "      <td>13</td>\n",
       "      <td>20</td>\n",
       "      <td>98573</td>\n",
       "      <td>1</td>\n",
       "      <td>1</td>\n",
       "      <td>135203</td>\n",
       "      <td>7</td>\n",
       "      <td>3</td>\n",
       "      <td>9</td>\n",
       "      <td>30.0</td>\n",
       "    </tr>\n",
       "    <tr>\n",
       "      <th>581202</th>\n",
       "      <td>7398</td>\n",
       "      <td>INDIAN SAMOSA WRAP</td>\n",
       "      <td>38</td>\n",
       "      <td>1</td>\n",
       "      <td>1322696</td>\n",
       "      <td>1</td>\n",
       "      <td>0</td>\n",
       "      <td>202023</td>\n",
       "      <td>2</td>\n",
       "      <td>2</td>\n",
       "      <td>18</td>\n",
       "      <td>30.0</td>\n",
       "    </tr>\n",
       "    <tr>\n",
       "      <th>2014546</th>\n",
       "      <td>26604</td>\n",
       "      <td>ORGANIC BLACKBERRIES</td>\n",
       "      <td>24</td>\n",
       "      <td>4</td>\n",
       "      <td>2971011</td>\n",
       "      <td>1</td>\n",
       "      <td>1</td>\n",
       "      <td>89039</td>\n",
       "      <td>16</td>\n",
       "      <td>5</td>\n",
       "      <td>9</td>\n",
       "      <td>1.0</td>\n",
       "    </tr>\n",
       "    <tr>\n",
       "      <th>581209</th>\n",
       "      <td>4487</td>\n",
       "      <td>VEGETARIAN ORGANIC GOLDEN CORN</td>\n",
       "      <td>81</td>\n",
       "      <td>15</td>\n",
       "      <td>1423323</td>\n",
       "      <td>1</td>\n",
       "      <td>1</td>\n",
       "      <td>146072</td>\n",
       "      <td>20</td>\n",
       "      <td>5</td>\n",
       "      <td>14</td>\n",
       "      <td>3.0</td>\n",
       "    </tr>\n",
       "    <tr>\n",
       "      <th>2014534</th>\n",
       "      <td>30442</td>\n",
       "      <td>LOW FAT VANILLA YOGURT</td>\n",
       "      <td>120</td>\n",
       "      <td>16</td>\n",
       "      <td>1809746</td>\n",
       "      <td>1</td>\n",
       "      <td>1</td>\n",
       "      <td>148916</td>\n",
       "      <td>19</td>\n",
       "      <td>2</td>\n",
       "      <td>14</td>\n",
       "      <td>8.0</td>\n",
       "    </tr>\n",
       "    <tr>\n",
       "      <th>581216</th>\n",
       "      <td>9550</td>\n",
       "      <td>ANCIENT GRAIN ORIGINAL GRANOLA</td>\n",
       "      <td>57</td>\n",
       "      <td>14</td>\n",
       "      <td>674903</td>\n",
       "      <td>1</td>\n",
       "      <td>0</td>\n",
       "      <td>175572</td>\n",
       "      <td>1</td>\n",
       "      <td>5</td>\n",
       "      <td>15</td>\n",
       "      <td>NaN</td>\n",
       "    </tr>\n",
       "    <tr>\n",
       "      <th>2014528</th>\n",
       "      <td>38689</td>\n",
       "      <td>ORGANIC REDUCED FAT MILK</td>\n",
       "      <td>84</td>\n",
       "      <td>16</td>\n",
       "      <td>763997</td>\n",
       "      <td>1</td>\n",
       "      <td>1</td>\n",
       "      <td>34461</td>\n",
       "      <td>13</td>\n",
       "      <td>5</td>\n",
       "      <td>22</td>\n",
       "      <td>7.0</td>\n",
       "    </tr>\n",
       "    <tr>\n",
       "      <th>3407028</th>\n",
       "      <td>48129</td>\n",
       "      <td>NUT-RITION MEN'S HEALTH RECOMMENDED MIX</td>\n",
       "      <td>117</td>\n",
       "      <td>19</td>\n",
       "      <td>1108953</td>\n",
       "      <td>1</td>\n",
       "      <td>1</td>\n",
       "      <td>52703</td>\n",
       "      <td>31</td>\n",
       "      <td>4</td>\n",
       "      <td>14</td>\n",
       "      <td>4.0</td>\n",
       "    </tr>\n",
       "    <tr>\n",
       "      <th>3407029</th>\n",
       "      <td>5976</td>\n",
       "      <td>VEGGIE LOVER'S SALAD BLEND</td>\n",
       "      <td>123</td>\n",
       "      <td>4</td>\n",
       "      <td>1556853</td>\n",
       "      <td>1</td>\n",
       "      <td>1</td>\n",
       "      <td>9455</td>\n",
       "      <td>3</td>\n",
       "      <td>2</td>\n",
       "      <td>14</td>\n",
       "      <td>30.0</td>\n",
       "    </tr>\n",
       "    <tr>\n",
       "      <th>581225</th>\n",
       "      <td>5450</td>\n",
       "      <td>SMALL HASS AVOCADO</td>\n",
       "      <td>24</td>\n",
       "      <td>4</td>\n",
       "      <td>2478585</td>\n",
       "      <td>1</td>\n",
       "      <td>0</td>\n",
       "      <td>141879</td>\n",
       "      <td>5</td>\n",
       "      <td>0</td>\n",
       "      <td>1</td>\n",
       "      <td>12.0</td>\n",
       "    </tr>\n",
       "    <tr>\n",
       "      <th>2014509</th>\n",
       "      <td>11182</td>\n",
       "      <td>BABY SPINACH</td>\n",
       "      <td>123</td>\n",
       "      <td>4</td>\n",
       "      <td>1549199</td>\n",
       "      <td>1</td>\n",
       "      <td>1</td>\n",
       "      <td>17101</td>\n",
       "      <td>12</td>\n",
       "      <td>0</td>\n",
       "      <td>10</td>\n",
       "      <td>8.0</td>\n",
       "    </tr>\n",
       "    <tr>\n",
       "      <th>4241473</th>\n",
       "      <td>40199</td>\n",
       "      <td>CHOCOLATE CHIP COOKIES</td>\n",
       "      <td>61</td>\n",
       "      <td>19</td>\n",
       "      <td>1546562</td>\n",
       "      <td>1</td>\n",
       "      <td>1</td>\n",
       "      <td>172117</td>\n",
       "      <td>46</td>\n",
       "      <td>1</td>\n",
       "      <td>11</td>\n",
       "      <td>7.0</td>\n",
       "    </tr>\n",
       "    <tr>\n",
       "      <th>4241477</th>\n",
       "      <td>13424</td>\n",
       "      <td>ALMONDS</td>\n",
       "      <td>45</td>\n",
       "      <td>19</td>\n",
       "      <td>1794786</td>\n",
       "      <td>1</td>\n",
       "      <td>1</td>\n",
       "      <td>173263</td>\n",
       "      <td>56</td>\n",
       "      <td>2</td>\n",
       "      <td>16</td>\n",
       "      <td>6.0</td>\n",
       "    </tr>\n",
       "    <tr>\n",
       "      <th>3407038</th>\n",
       "      <td>28473</td>\n",
       "      <td>WAVY ORIGINAL POTATO CHIPS</td>\n",
       "      <td>107</td>\n",
       "      <td>19</td>\n",
       "      <td>832929</td>\n",
       "      <td>1</td>\n",
       "      <td>0</td>\n",
       "      <td>134866</td>\n",
       "      <td>5</td>\n",
       "      <td>6</td>\n",
       "      <td>11</td>\n",
       "      <td>21.0</td>\n",
       "    </tr>\n",
       "    <tr>\n",
       "      <th>3407011</th>\n",
       "      <td>27307</td>\n",
       "      <td>CAGE FREE GRADE A LARGE BROWN EGGS</td>\n",
       "      <td>86</td>\n",
       "      <td>16</td>\n",
       "      <td>2248152</td>\n",
       "      <td>1</td>\n",
       "      <td>1</td>\n",
       "      <td>143182</td>\n",
       "      <td>19</td>\n",
       "      <td>0</td>\n",
       "      <td>11</td>\n",
       "      <td>8.0</td>\n",
       "    </tr>\n",
       "    <tr>\n",
       "      <th>4241481</th>\n",
       "      <td>46061</td>\n",
       "      <td>POPCORN</td>\n",
       "      <td>23</td>\n",
       "      <td>19</td>\n",
       "      <td>3345428</td>\n",
       "      <td>1</td>\n",
       "      <td>1</td>\n",
       "      <td>190864</td>\n",
       "      <td>18</td>\n",
       "      <td>0</td>\n",
       "      <td>12</td>\n",
       "      <td>15.0</td>\n",
       "    </tr>\n",
       "  </tbody>\n",
       "</table>\n",
       "</div>"
      ],
      "text/plain": [
       "         product_id                             product_name  aisle_id  \\\n",
       "4545006       49691            ORIGINAL PANCAKE & WAFFLE MIX       130   \n",
       "4241476       31651          EXTRA FANCY UNSALTED MIXED NUTS       117   \n",
       "3407016       16959        TOILET PAPER DOUBLE ROLLS - 24 CT        54   \n",
       "581197         8424                           BROCCOLI CROWN        83   \n",
       "2014554       28756                             DEVILED EGGS        13   \n",
       "581202         7398                       INDIAN SAMOSA WRAP        38   \n",
       "2014546       26604                     ORGANIC BLACKBERRIES        24   \n",
       "581209         4487           VEGETARIAN ORGANIC GOLDEN CORN        81   \n",
       "2014534       30442                   LOW FAT VANILLA YOGURT       120   \n",
       "581216         9550           ANCIENT GRAIN ORIGINAL GRANOLA        57   \n",
       "2014528       38689                 ORGANIC REDUCED FAT MILK        84   \n",
       "3407028       48129  NUT-RITION MEN'S HEALTH RECOMMENDED MIX       117   \n",
       "3407029        5976               VEGGIE LOVER'S SALAD BLEND       123   \n",
       "581225         5450                       SMALL HASS AVOCADO        24   \n",
       "2014509       11182                             BABY SPINACH       123   \n",
       "4241473       40199                   CHOCOLATE CHIP COOKIES        61   \n",
       "4241477       13424                                  ALMONDS        45   \n",
       "3407038       28473               WAVY ORIGINAL POTATO CHIPS       107   \n",
       "3407011       27307       CAGE FREE GRADE A LARGE BROWN EGGS        86   \n",
       "4241481       46061                                  POPCORN        23   \n",
       "\n",
       "         department_id  order_id  add_to_cart_order  reordered  user_id  \\\n",
       "4545006             14    870376                  1          0   148806   \n",
       "4241476             19    545488                  1          1    91417   \n",
       "3407016             17   1192115                  1          0   109912   \n",
       "581197               4   2255640                  1          0   158177   \n",
       "2014554             20     98573                  1          1   135203   \n",
       "581202               1   1322696                  1          0   202023   \n",
       "2014546              4   2971011                  1          1    89039   \n",
       "581209              15   1423323                  1          1   146072   \n",
       "2014534             16   1809746                  1          1   148916   \n",
       "581216              14    674903                  1          0   175572   \n",
       "2014528             16    763997                  1          1    34461   \n",
       "3407028             19   1108953                  1          1    52703   \n",
       "3407029              4   1556853                  1          1     9455   \n",
       "581225               4   2478585                  1          0   141879   \n",
       "2014509              4   1549199                  1          1    17101   \n",
       "4241473             19   1546562                  1          1   172117   \n",
       "4241477             19   1794786                  1          1   173263   \n",
       "3407038             19    832929                  1          0   134866   \n",
       "3407011             16   2248152                  1          1   143182   \n",
       "4241481             19   3345428                  1          1   190864   \n",
       "\n",
       "         order_number  order_dow  order_hour_of_day  days_since_prior_order  \n",
       "4545006             3          4                  8                     1.0  \n",
       "4241476             3          5                 10                    30.0  \n",
       "3407016             3          5                  0                    30.0  \n",
       "581197              5          6                 14                    19.0  \n",
       "2014554             7          3                  9                    30.0  \n",
       "581202              2          2                 18                    30.0  \n",
       "2014546            16          5                  9                     1.0  \n",
       "581209             20          5                 14                     3.0  \n",
       "2014534            19          2                 14                     8.0  \n",
       "581216              1          5                 15                     NaN  \n",
       "2014528            13          5                 22                     7.0  \n",
       "3407028            31          4                 14                     4.0  \n",
       "3407029             3          2                 14                    30.0  \n",
       "581225              5          0                  1                    12.0  \n",
       "2014509            12          0                 10                     8.0  \n",
       "4241473            46          1                 11                     7.0  \n",
       "4241477            56          2                 16                     6.0  \n",
       "3407038             5          6                 11                    21.0  \n",
       "3407011            19          0                 11                     8.0  \n",
       "4241481            18          0                 12                    15.0  "
      ]
     },
     "execution_count": 307,
     "metadata": {},
     "output_type": "execute_result"
    }
   ],
   "source": [
    "order_per_user.sort_values(by='add_to_cart_order').head(20)"
   ]
  },
  {
   "cell_type": "markdown",
   "id": "5bfc775a",
   "metadata": {},
   "source": [
    "<div class=\"alert alert-block alert-danger\">\n",
    "\n",
    "<b>Comentario del revisor</b> <a class=\"tocSkip\"></a>\n",
    "\n",
    "Cuidado el calculo no se esta haciendo del todo bien.\n",
    "\n",
    "En primer lugar combina ambas tablas, tanto `order_products` y `products`, de igual manera que nates para tener el nombre y orden que se añadio al carro.\n",
    "\n",
    "Despues filtra esos registros solo con aquellos donde el producto fue añadido como el primero en el carrito (valor 1 en la columna add_to_cart_order) -que es lo que haces al principio pero sin el merge-.\n",
    "\n",
    "Agrupa la información por product_id y product_name. En cada grupo, **conta** cuantas veces aparece ese producto como el primero en el carrito. Esto nos da una idea de la popularidad de cada producto al iniciar compras. Luego ordena la tabla final.</div>"
   ]
  },
  {
   "cell_type": "markdown",
   "id": "e6697dd6",
   "metadata": {},
   "source": [
    "<div class=\"alert alert-block alert-info\">\n",
    "<b>Respuesta del estudiante</b> <a class=\"tocSkip\"></a>\n",
    "\n",
    "Como anteriormente mencioné Las tablas `order_products` y `products` si fueron combinadas a una sola tabla y se guardaron en una variable llamada `merged_products`.\n",
    "</div>\n",
    "\n",
    "<div class=\"alert alert-block alert-success\">\n",
    "\n",
    "<b>Comentario del revisor</b> <a class=\"tocSkip\"></a>\n",
    "\n",
    "Corregido, en este caso te comento el merge para que la guia sea mas intuitiva, y entiendas de donde viene el resultado. Entendia que utilizabas siempre el mismo merge pero queria que quede claro de donde venia el conteo. Esta excelente tu propuesta.</div>"
   ]
  },
  {
   "cell_type": "markdown",
   "id": "b018b4ec",
   "metadata": {},
   "source": [
    "<div class=\"alert alert-block alert-info\">\n",
    "<b>Respuesta del estudiante #2</b> <a class=\"tocSkip\"></a>\n",
    "\n",
    "Enterado muchas gracias. Seguiré el consejo para futuros proyectos!\n",
    "</div>"
   ]
  },
  {
   "cell_type": "code",
   "execution_count": 308,
   "id": "6951c847",
   "metadata": {
    "id": "forty-netherlands"
   },
   "outputs": [],
   "source": [
    "first_products = order_per_user[order_per_user['add_to_cart_order'] == 1]"
   ]
  },
  {
   "cell_type": "code",
   "execution_count": 309,
   "id": "08e41ec2",
   "metadata": {
    "id": "08e41ec2"
   },
   "outputs": [],
   "source": [
    "first_products = first_products.reset_index(drop=True)"
   ]
  },
  {
   "cell_type": "code",
   "execution_count": 310,
   "id": "af27471a",
   "metadata": {},
   "outputs": [
    {
     "data": {
      "text/plain": [
       "product_name                 product_id\n",
       "BANANA                       24852         15562\n",
       "BAG OF ORGANIC BANANAS       13176         11026\n",
       "ORGANIC WHOLE MILK           27845          4363\n",
       "ORGANIC STRAWBERRIES         21137          3946\n",
       "ORGANIC HASS AVOCADO         47209          3390\n",
       "ORGANIC BABY SPINACH         21903          3336\n",
       "ORGANIC AVOCADO              47766          3044\n",
       "SPRING WATER                 19660          2336\n",
       "STRAWBERRIES                 16797          2308\n",
       "ORGANIC RASPBERRIES          27966          2024\n",
       "SPARKLING WATER GRAPEFRUIT   44632          1914\n",
       "ORGANIC HALF & HALF          49235          1797\n",
       "LARGE LEMON                  47626          1737\n",
       "SODA                         196            1733\n",
       "ORGANIC REDUCED FAT MILK     38689          1397\n",
       "LIMES                        26209          1370\n",
       "HASS AVOCADOS                12341          1340\n",
       "ORGANIC REDUCED FAT 2% MILK  5785           1310\n",
       "HALF & HALF                  27086          1309\n",
       "ORGANIC YELLOW ONION         22935          1246\n",
       "Name: add_to_cart_order, dtype: int64"
      ]
     },
     "execution_count": 310,
     "metadata": {},
     "output_type": "execute_result"
    }
   ],
   "source": [
    "grp_first_products = first_products.groupby(['product_name','product_id'])\n",
    "sorted_grp_first_products = grp_first_products.count()['add_to_cart_order'].sort_values(ascending=False)\n",
    "sorted_grp_first_products.head(20)"
   ]
  },
  {
   "cell_type": "markdown",
   "id": "a66d45ae",
   "metadata": {},
   "source": [
    "<div class=\"alert alert-block alert-info\">\n",
    "<b>Respuesta del estudiante</b> <a class=\"tocSkip\"></a>\n",
    "\n",
    "¿De esta manera es correcto?.\n",
    "</div>"
   ]
  },
  {
   "cell_type": "markdown",
   "id": "28ce9872",
   "metadata": {
    "id": "28ce9872"
   },
   "source": [
    "Escribe aquí tus conclusiones\n",
    "\n",
    "En esta sección se trabajó con el df `order_per_user` y ordené en orden el número el orden que se agrgaron cada producto."
   ]
  },
  {
   "cell_type": "markdown",
   "id": "uITbFCEoDosC",
   "metadata": {
    "id": "uITbFCEoDosC"
   },
   "source": [
    "### Conclusion general del proyecto:"
   ]
  },
  {
   "cell_type": "markdown",
   "id": "f12e1304",
   "metadata": {
    "id": "Nk-4GS7mDwqY"
   },
   "source": [
    "El proceso comienza importando la biblioteca Pandas y leyendo varios archivos de datos, observando que están separados por punto y coma. Se identifican columnas con datos ausentes y se eliminan las filas duplicadas. Luego, se convierten los nombres de productos a mayúsculas y se verifican los duplicados. Se aplican métodos para manejar valores faltantes y se realizan cálculos sobre los datos, como encontrar días de la semana con más pedidos y calcular diferencias de pedidos entre ciertos días. También se examina la distribución de pedidos por cliente y se encuentran los productos más populares. Se destaca la importancia de unir tablas para simplificar análisis posteriores. Se generan gráficos para visualizar la distribución de datos y se realizan cálculos adicionales sobre los productos y pedidos. Finalmente, se ordenan los datos según el número de pedidos para cada usuario.\n",
    "\n",
    "El proyecto detalla un proceso exhaustivo de limpieza, análisis y manipulación de datos utilizando Pandas en Python, destacando la importancia de la unión de tablas y la comprensión de los diferentes métodos disponibles en la biblioteca para realizar tareas específicas.\n",
    "\n",
    "Ha sido un proyecto bastante amplio y complejo aunque ya tengo un poco de experiencia en este campo. Sin embargo, me ayudó muchísimo a mejorar. Hay veces que me confundo un poco en las descripciones sobre lo que piden y ahí es donde me tardo un poco."
   ]
  },
  {
   "cell_type": "markdown",
   "id": "20d96908",
   "metadata": {},
   "source": [
    "<div class=\"alert alert-block alert-success\">\n",
    "\n",
    "<b>Comentario del revisor</b> <a class=\"tocSkip\"></a>\n",
    "\n",
    "Buena conclusion general.</div>"
   ]
  },
  {
   "cell_type": "markdown",
   "id": "0c3d8428",
   "metadata": {},
   "source": [
    "<div class=\"alert alert-block alert-info\">\n",
    "<b>Respuesta del estudiante</b> <a class=\"tocSkip\"></a>\n",
    "\n",
    "Si hay algún comentario extra, con gusto me gustría recibir la retroalimentación.\n",
    "</div>"
   ]
  },
  {
   "cell_type": "markdown",
   "id": "adee7125",
   "metadata": {},
   "source": [
    "<div class=\"alert alert-block alert-info\">\n",
    "<b>Conslusion final #2</b> <a class=\"tocSkip\"></a>\n",
    "\n",
    "Muchas gracias por las correcciones y los consejos, Ezequiel. Saludos!\n",
    "</div>"
   ]
  },
  {
   "cell_type": "code",
   "execution_count": null,
   "id": "2de18376",
   "metadata": {},
   "outputs": [],
   "source": []
  }
 ],
 "metadata": {
  "colab": {
   "provenance": []
  },
  "kernelspec": {
   "display_name": "Python 3 (ipykernel)",
   "language": "python",
   "name": "python3"
  },
  "language_info": {
   "codemirror_mode": {
    "name": "ipython",
    "version": 3
   },
   "file_extension": ".py",
   "mimetype": "text/x-python",
   "name": "python",
   "nbconvert_exporter": "python",
   "pygments_lexer": "ipython3",
   "version": "3.9.5"
  },
  "toc": {
   "base_numbering": 1,
   "nav_menu": {},
   "number_sections": true,
   "sideBar": true,
   "skip_h1_title": true,
   "title_cell": "Table of Contents",
   "title_sidebar": "Contents",
   "toc_cell": false,
   "toc_position": {},
   "toc_section_display": true,
   "toc_window_display": true
  },
  "vscode": {
   "interpreter": {
    "hash": "01a7be9ec63e704a62cefc5fe7a4756944464ee731be31632bdf42a4cb4688cf"
   }
  }
 },
 "nbformat": 4,
 "nbformat_minor": 5
}
